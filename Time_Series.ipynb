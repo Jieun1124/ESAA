{
 "cells": [
  {
   "cell_type": "code",
   "execution_count": 6,
   "id": "149bd167",
   "metadata": {},
   "outputs": [],
   "source": [
    "# import package\n",
    "import pandas as pd"
   ]
  },
  {
   "cell_type": "markdown",
   "id": "a535b626",
   "metadata": {},
   "source": [
    "## 12-1 datetime 오브젝트\n",
    "datetime 라이브러리는 날짜와 시간을 처리하는 등의 다양한 기능을 제공하는 라이브러리이다. datetime 라이브러리에는 날짜를 처리하는 date 오브젝트, 시간을 처리하는 time 오브젝트, 날짜와 시간을 모두 처리하는 datetime 오브젝트가 포함되어 있다.  "
   ]
  },
  {
   "cell_type": "markdown",
   "id": "80a85e0d",
   "metadata": {},
   "source": [
    "* datetime 라이브러리 불러오기"
   ]
  },
  {
   "cell_type": "code",
   "execution_count": 1,
   "id": "45ff7763",
   "metadata": {},
   "outputs": [],
   "source": [
    "from datetime import datetime "
   ]
  },
  {
   "cell_type": "markdown",
   "id": "7474f311",
   "metadata": {},
   "source": [
    "* now, today 메서드를 사용하면 다음과 같이 현재 시간을 출력할 수 있다."
   ]
  },
  {
   "cell_type": "code",
   "execution_count": 2,
   "id": "7e94fd2f",
   "metadata": {},
   "outputs": [
    {
     "name": "stdout",
     "output_type": "stream",
     "text": [
      "2022-04-11 14:37:48.646713\n"
     ]
    }
   ],
   "source": [
    "now1 = datetime.now()\n",
    "print(now1)"
   ]
  },
  {
   "cell_type": "code",
   "execution_count": 3,
   "id": "392b35ea",
   "metadata": {},
   "outputs": [
    {
     "name": "stdout",
     "output_type": "stream",
     "text": [
      "2022-04-11 14:38:03.203543\n"
     ]
    }
   ],
   "source": [
    "now2 = datetime.today()\n",
    "print(now2)"
   ]
  },
  {
   "cell_type": "markdown",
   "id": "94d99aef",
   "metadata": {},
   "source": [
    "* datetime 오브젝트를 생성할 때 시간을 직접 입력하여 인자로 전달하기"
   ]
  },
  {
   "cell_type": "code",
   "execution_count": 4,
   "id": "91f27648",
   "metadata": {},
   "outputs": [
    {
     "name": "stdout",
     "output_type": "stream",
     "text": [
      "2022-04-11 14:39:54.582295\n",
      "1970-01-01 00:00:00\n",
      "1970-12-12 13:24:34\n"
     ]
    }
   ],
   "source": [
    "t1 = datetime.now()\n",
    "t2 = datetime(1970, 1, 1)\n",
    "t3 = datetime(1970, 12, 12, 13, 24, 34)\n",
    "print(t1); print(t2); print(t3)"
   ]
  },
  {
   "cell_type": "markdown",
   "id": "99511df5",
   "metadata": {},
   "source": [
    "* 두 datetime 오브젝트의 차이"
   ]
  },
  {
   "cell_type": "code",
   "execution_count": 5,
   "id": "afffa1a4",
   "metadata": {},
   "outputs": [
    {
     "name": "stdout",
     "output_type": "stream",
     "text": [
      "19093 days, 14:39:54.582295\n",
      "<class 'datetime.timedelta'>\n"
     ]
    }
   ],
   "source": [
    "diff1 = t1 - t2\n",
    "print(diff1)\n",
    "print(type(diff1))"
   ]
  },
  {
   "cell_type": "code",
   "execution_count": 6,
   "id": "42d957e8",
   "metadata": {},
   "outputs": [
    {
     "name": "stdout",
     "output_type": "stream",
     "text": [
      "-19094 days, 9:20:05.417705\n",
      "<class 'datetime.timedelta'>\n"
     ]
    }
   ],
   "source": [
    "diff2 = t2 - t1\n",
    "print(diff2)\n",
    "print(type(diff2))"
   ]
  },
  {
   "cell_type": "markdown",
   "id": "6ea804a3",
   "metadata": {},
   "source": [
    "## 테슬라 주식 데이터로 시간 계산하기 "
   ]
  },
  {
   "cell_type": "markdown",
   "id": "c1fe211c",
   "metadata": {},
   "source": [
    "1. 다음은 get_data_quanal 메서드에 TSLA라는 문자열을 전달하여 테슬라의 주식 데이터를 내려받은 다음 to_csv 메서드를 사용하여 data 폴더 안에 'tesla_stock_quandl.csv'라는 이름으로 저장한 것이다."
   ]
  },
  {
   "cell_type": "code",
   "execution_count": 3,
   "id": "466c94b9",
   "metadata": {},
   "outputs": [],
   "source": [
    "pd.core.common.is_list_like = pd.api.types.is_list_like\n",
    "import pandas_datareader as pdr\n",
    "\n",
    "# tesla에는 데이터프레임이 저장된다.\n",
    "tesla = pdr.get_data_quandl('TSLA', api_key = 'zqhp8ufA7EbAsXif-up1')\n",
    "\n",
    "# tesla에 저장된 데이터프레임을 파일로 저장한다.\n",
    "# tesla.to_csv('/Users/JIEUN OH/tesla_stock_qundl.csv')"
   ]
  },
  {
   "cell_type": "markdown",
   "id": "092285c3",
   "metadata": {},
   "source": [
    "2. tesla 데이터 프레임의 Date 열은 문자열로 저장되어 있다. 즉, datetime 오브젝트로 자료형을 변환해야 시간 계산을 할 수 있다."
   ]
  },
  {
   "cell_type": "code",
   "execution_count": 34,
   "id": "902d0392",
   "metadata": {
    "scrolled": true
   },
   "outputs": [
    {
     "name": "stdout",
     "output_type": "stream",
     "text": [
      "              Open    High     Low   Close      Volume  ExDividend  \\\n",
      "Date                                                                 \n",
      "2018-03-27  304.00  304.27  277.18  279.18  13696168.0         0.0   \n",
      "2018-03-26  307.34  307.59  291.36  304.18   8324639.0         0.0   \n",
      "2018-03-23  311.25  311.61  300.45  301.54   6600538.0         0.0   \n",
      "2018-03-22  313.89  318.82  308.18  309.10   4914307.0         0.0   \n",
      "2018-03-21  310.25  322.44  310.19  316.53   5927881.0         0.0   \n",
      "\n",
      "            SplitRatio  AdjOpen  AdjHigh  AdjLow  AdjClose   AdjVolume  \n",
      "Date                                                                    \n",
      "2018-03-27         1.0   304.00   304.27  277.18    279.18  13696168.0  \n",
      "2018-03-26         1.0   307.34   307.59  291.36    304.18   8324639.0  \n",
      "2018-03-23         1.0   311.25   311.61  300.45    301.54   6600538.0  \n",
      "2018-03-22         1.0   313.89   318.82  308.18    309.10   4914307.0  \n",
      "2018-03-21         1.0   310.25   322.44  310.19    316.53   5927881.0  \n"
     ]
    }
   ],
   "source": [
    "print(tesla.head())"
   ]
  },
  {
   "cell_type": "markdown",
   "id": "34dc36f6",
   "metadata": {},
   "source": [
    "3. Data 열을 Datetime 형으로 변환하려면 read_csv 메서드로 데이터 집합(tesla_stock_quandl.csv)을 불러올 때 parse_dates 인자에 Date 열을 전달하면 된다."
   ]
  },
  {
   "cell_type": "code",
   "execution_count": 4,
   "id": "03c85124",
   "metadata": {},
   "outputs": [
    {
     "name": "stdout",
     "output_type": "stream",
     "text": [
      "<class 'pandas.core.frame.DataFrame'>\n",
      "RangeIndex: 1949 entries, 0 to 1948\n",
      "Data columns (total 13 columns):\n",
      " #   Column      Non-Null Count  Dtype         \n",
      "---  ------      --------------  -----         \n",
      " 0   Date        1949 non-null   datetime64[ns]\n",
      " 1   Open        1949 non-null   float64       \n",
      " 2   High        1949 non-null   float64       \n",
      " 3   Low         1949 non-null   float64       \n",
      " 4   Close       1949 non-null   float64       \n",
      " 5   Volume      1949 non-null   float64       \n",
      " 6   ExDividend  1949 non-null   float64       \n",
      " 7   SplitRatio  1949 non-null   float64       \n",
      " 8   AdjOpen     1949 non-null   float64       \n",
      " 9   AdjHigh     1949 non-null   float64       \n",
      " 10  AdjLow      1949 non-null   float64       \n",
      " 11  AdjClose    1949 non-null   float64       \n",
      " 12  AdjVolume   1949 non-null   float64       \n",
      "dtypes: datetime64[ns](1), float64(12)\n",
      "memory usage: 198.1 KB\n",
      "None\n"
     ]
    }
   ],
   "source": [
    "tesla = pd.read_csv('tesla_stock_quandl.csv', parse_dates=[0])\n",
    "print(tesla.info())"
   ]
  },
  {
   "cell_type": "markdown",
   "id": "fb6f19c8",
   "metadata": {},
   "source": [
    "4. Date 열의 자료형이 datetime 오브젝트로 변환되었습니다. 이제 dt 접근자를 사용할 수 있습니다. 다음은 불린 추출로 2010년 6월의 데이터만 추출한 것이다. "
   ]
  },
  {
   "cell_type": "code",
   "execution_count": 5,
   "id": "9daf059d",
   "metadata": {},
   "outputs": [
    {
     "data": {
      "text/html": [
       "<div>\n",
       "<style scoped>\n",
       "    .dataframe tbody tr th:only-of-type {\n",
       "        vertical-align: middle;\n",
       "    }\n",
       "\n",
       "    .dataframe tbody tr th {\n",
       "        vertical-align: top;\n",
       "    }\n",
       "\n",
       "    .dataframe thead th {\n",
       "        text-align: right;\n",
       "    }\n",
       "</style>\n",
       "<table border=\"1\" class=\"dataframe\">\n",
       "  <thead>\n",
       "    <tr style=\"text-align: right;\">\n",
       "      <th></th>\n",
       "      <th>Date</th>\n",
       "      <th>Open</th>\n",
       "      <th>High</th>\n",
       "      <th>Low</th>\n",
       "      <th>Close</th>\n",
       "      <th>Volume</th>\n",
       "      <th>ExDividend</th>\n",
       "      <th>SplitRatio</th>\n",
       "      <th>AdjOpen</th>\n",
       "      <th>AdjHigh</th>\n",
       "      <th>AdjLow</th>\n",
       "      <th>AdjClose</th>\n",
       "      <th>AdjVolume</th>\n",
       "    </tr>\n",
       "  </thead>\n",
       "  <tbody>\n",
       "    <tr>\n",
       "      <th>1947</th>\n",
       "      <td>2010-06-30</td>\n",
       "      <td>25.79</td>\n",
       "      <td>30.4192</td>\n",
       "      <td>23.30</td>\n",
       "      <td>23.83</td>\n",
       "      <td>17187100.0</td>\n",
       "      <td>0.0</td>\n",
       "      <td>1.0</td>\n",
       "      <td>25.79</td>\n",
       "      <td>30.4192</td>\n",
       "      <td>23.30</td>\n",
       "      <td>23.83</td>\n",
       "      <td>17187100.0</td>\n",
       "    </tr>\n",
       "    <tr>\n",
       "      <th>1948</th>\n",
       "      <td>2010-06-29</td>\n",
       "      <td>19.00</td>\n",
       "      <td>25.0000</td>\n",
       "      <td>17.54</td>\n",
       "      <td>23.89</td>\n",
       "      <td>18766300.0</td>\n",
       "      <td>0.0</td>\n",
       "      <td>1.0</td>\n",
       "      <td>19.00</td>\n",
       "      <td>25.0000</td>\n",
       "      <td>17.54</td>\n",
       "      <td>23.89</td>\n",
       "      <td>18766300.0</td>\n",
       "    </tr>\n",
       "  </tbody>\n",
       "</table>\n",
       "</div>"
      ],
      "text/plain": [
       "           Date   Open     High    Low  Close      Volume  ExDividend  \\\n",
       "1947 2010-06-30  25.79  30.4192  23.30  23.83  17187100.0         0.0   \n",
       "1948 2010-06-29  19.00  25.0000  17.54  23.89  18766300.0         0.0   \n",
       "\n",
       "      SplitRatio  AdjOpen  AdjHigh  AdjLow  AdjClose   AdjVolume  \n",
       "1947         1.0    25.79  30.4192   23.30     23.83  17187100.0  \n",
       "1948         1.0    19.00  25.0000   17.54     23.89  18766300.0  "
      ]
     },
     "execution_count": 5,
     "metadata": {},
     "output_type": "execute_result"
    }
   ],
   "source": [
    "tesla.loc[(tesla.Date.dt.year == 2010) & (tesla.Date.dt.month == 6)]"
   ]
  },
  {
   "cell_type": "markdown",
   "id": "3843dcc2",
   "metadata": {},
   "source": [
    "## datetime 오브젝트를 인덱스로 설정해 데이터 추출하기"
   ]
  },
  {
   "cell_type": "markdown",
   "id": "171b2a5b",
   "metadata": {},
   "source": [
    "1. 계속해서 테슬라 주식 데이터를 사용하여 실습을 진행한다. 다음은 Date 열을 tesla 데이터프레임의 인덱스로 지정한 것이다."
   ]
  },
  {
   "cell_type": "code",
   "execution_count": 7,
   "id": "88370ec3",
   "metadata": {},
   "outputs": [
    {
     "name": "stdout",
     "output_type": "stream",
     "text": [
      "DatetimeIndex(['2018-03-27', '2018-03-26', '2018-03-23', '2018-03-22',\n",
      "               '2018-03-21', '2018-03-20', '2018-03-19', '2018-03-16',\n",
      "               '2018-03-15', '2018-03-14',\n",
      "               ...\n",
      "               '2010-07-13', '2010-07-12', '2010-07-09', '2010-07-08',\n",
      "               '2010-07-07', '2010-07-06', '2010-07-02', '2010-07-01',\n",
      "               '2010-06-30', '2010-06-29'],\n",
      "              dtype='datetime64[ns]', name='Date', length=1949, freq=None)\n"
     ]
    }
   ],
   "source": [
    "tesla.index = tesla['Date']\n",
    "print(tesla.index)"
   ]
  },
  {
   "cell_type": "markdown",
   "id": "3a67c67a",
   "metadata": {},
   "source": [
    "2. datetime 오브젝트를 인덱스로 지정하면 다음과 같은 방법으로 원하는 시간의 데이터를 바로 추출할 수 있다. 다음은 2015년의 데이터를 추출한 것이다."
   ]
  },
  {
   "cell_type": "code",
   "execution_count": 8,
   "id": "8bbdfd65",
   "metadata": {},
   "outputs": [
    {
     "name": "stdout",
     "output_type": "stream",
     "text": [
      "                 Date    Open     High       Low   Close\n",
      "Date                                                    \n",
      "2015-12-31 2015-12-31  238.51  243.450  238.3700  240.01\n",
      "2015-12-30 2015-12-30  236.60  243.634  235.6707  238.09\n",
      "2015-12-29 2015-12-29  230.06  237.720  229.5470  237.19\n",
      "2015-12-28 2015-12-28  231.49  231.980  225.5400  228.95\n",
      "2015-12-24 2015-12-24  230.56  231.880  228.2800  230.57\n"
     ]
    }
   ],
   "source": [
    "print(tesla['2015'].iloc[:5, :5])"
   ]
  },
  {
   "cell_type": "markdown",
   "id": "e02a6dda",
   "metadata": {},
   "source": [
    "3. 다음은 2010년 6월의 데이터를 추출한 것이다."
   ]
  },
  {
   "cell_type": "code",
   "execution_count": 9,
   "id": "6a859e9b",
   "metadata": {},
   "outputs": [
    {
     "name": "stdout",
     "output_type": "stream",
     "text": [
      "                 Date   Open     High    Low  Close\n",
      "Date                                               \n",
      "2010-06-30 2010-06-30  25.79  30.4192  23.30  23.83\n",
      "2010-06-29 2010-06-29  19.00  25.0000  17.54  23.89\n"
     ]
    }
   ],
   "source": [
    "print(tesla['2010-06'].iloc[:, :5])"
   ]
  },
  {
   "cell_type": "markdown",
   "id": "7038e896",
   "metadata": {},
   "source": [
    "## 시간 간격을 인덱스로 지정해 데이터 추출하기"
   ]
  },
  {
   "cell_type": "markdown",
   "id": "e10fc7d0",
   "metadata": {},
   "source": [
    "1. Date 열에서 Date 열의 최솟값(2010-06-29)을 빼면 데이터를 수집한 이후에 시간이 얼마나 흘렀는지 알 수 있다. 다음은 Date 열에서 Date 열의 최솟값을 뺀 다음 ref_date 열로 추가한 것이다."
   ]
  },
  {
   "cell_type": "code",
   "execution_count": 10,
   "id": "8e2e4659",
   "metadata": {},
   "outputs": [
    {
     "name": "stdout",
     "output_type": "stream",
     "text": [
      "                 Date    Open    High     Low   Close      Volume  ExDividend  \\\n",
      "Date                                                                            \n",
      "2018-03-27 2018-03-27  304.00  304.27  277.18  279.18  13696168.0         0.0   \n",
      "2018-03-26 2018-03-26  307.34  307.59  291.36  304.18   8324639.0         0.0   \n",
      "2018-03-23 2018-03-23  311.25  311.61  300.45  301.54   6600538.0         0.0   \n",
      "2018-03-22 2018-03-22  313.89  318.82  308.18  309.10   4914307.0         0.0   \n",
      "2018-03-21 2018-03-21  310.25  322.44  310.19  316.53   5927881.0         0.0   \n",
      "\n",
      "            SplitRatio  AdjOpen  AdjHigh  AdjLow  AdjClose   AdjVolume  \\\n",
      "Date                                                                     \n",
      "2018-03-27         1.0   304.00   304.27  277.18    279.18  13696168.0   \n",
      "2018-03-26         1.0   307.34   307.59  291.36    304.18   8324639.0   \n",
      "2018-03-23         1.0   311.25   311.61  300.45    301.54   6600538.0   \n",
      "2018-03-22         1.0   313.89   318.82  308.18    309.10   4914307.0   \n",
      "2018-03-21         1.0   310.25   322.44  310.19    316.53   5927881.0   \n",
      "\n",
      "            ref_date  \n",
      "Date                  \n",
      "2018-03-27 2828 days  \n",
      "2018-03-26 2827 days  \n",
      "2018-03-23 2824 days  \n",
      "2018-03-22 2823 days  \n",
      "2018-03-21 2822 days  \n"
     ]
    }
   ],
   "source": [
    "tesla['ref_date'] = tesla['Date'] - tesla['Date'].min()\n",
    "print(tesla.head())"
   ]
  },
  {
   "cell_type": "markdown",
   "id": "7f9bbbe0",
   "metadata": {},
   "source": [
    "2. 다음과 같이 ref_date 열을 인덱스로 지정했다. 이제 시간 간격(ref_date)을 이용하여 데이터를 추출할 수 있다."
   ]
  },
  {
   "cell_type": "code",
   "execution_count": 11,
   "id": "09d43112",
   "metadata": {},
   "outputs": [
    {
     "name": "stdout",
     "output_type": "stream",
     "text": [
      "                Date    Open    High     Low   Close\n",
      "ref_date                                            \n",
      "2828 days 2018-03-27  304.00  304.27  277.18  279.18\n",
      "2827 days 2018-03-26  307.34  307.59  291.36  304.18\n",
      "2824 days 2018-03-23  311.25  311.61  300.45  301.54\n",
      "2823 days 2018-03-22  313.89  318.82  308.18  309.10\n",
      "2822 days 2018-03-21  310.25  322.44  310.19  316.53\n"
     ]
    }
   ],
   "source": [
    "tesla.index = tesla['ref_date']\n",
    "print(tesla.iloc[:5, :5])"
   ]
  },
  {
   "cell_type": "markdown",
   "id": "b27292df",
   "metadata": {},
   "source": [
    "3. 다음은 데이터를 수집한 이후 최초 5일의 데이터를 추출한 것이다."
   ]
  },
  {
   "cell_type": "code",
   "execution_count": 12,
   "id": "0c1dccdb",
   "metadata": {},
   "outputs": [
    {
     "name": "stdout",
     "output_type": "stream",
     "text": [
      "               Date   Open     High    Low  Close\n",
      "ref_date                                         \n",
      "3 days   2010-07-02  23.00  23.1000  18.71  19.20\n",
      "2 days   2010-07-01  25.00  25.9200  20.27  21.96\n",
      "1 days   2010-06-30  25.79  30.4192  23.30  23.83\n",
      "0 days   2010-06-29  19.00  25.0000  17.54  23.89\n"
     ]
    }
   ],
   "source": [
    "print(tesla['5 days':].iloc[:5, :5])"
   ]
  },
  {
   "cell_type": "markdown",
   "id": "88f3e1f3",
   "metadata": {},
   "source": [
    "## 시간 범위 생성해 인덱스로 지정하기\n",
    "특정 일에 누락된 데이터도 포함시켜 데이터를 살펴보려면 임의로 시간 범위를 생성해서 인덱스로 지정해야 한다."
   ]
  },
  {
   "cell_type": "markdown",
   "id": "50c5a50f",
   "metadata": {},
   "source": [
    "1. 에볼라 데이터 집합을 사용한다. 가장 앞쪽의 데이터를 살펴보면 2015년 01월 01일의 데이터가 누락된 것을 알 수 있다."
   ]
  },
  {
   "cell_type": "code",
   "execution_count": 14,
   "id": "6d9373e3",
   "metadata": {},
   "outputs": [
    {
     "name": "stdout",
     "output_type": "stream",
     "text": [
      "        Date  Day  Cases_Guinea  Cases_Liberia  Cases_SierraLeone\n",
      "0 2015-01-05  289        2776.0            NaN            10030.0\n",
      "1 2015-01-04  288        2775.0            NaN             9780.0\n",
      "2 2015-01-03  287        2769.0         8166.0             9722.0\n",
      "3 2015-01-02  286           NaN         8157.0                NaN\n",
      "4 2014-12-31  284        2730.0         8115.0             9633.0\n"
     ]
    }
   ],
   "source": [
    "ebola = pd.read_csv('country_timeseries.csv', parse_dates=[0])\n",
    "print(ebola.iloc[:5, :5])"
   ]
  },
  {
   "cell_type": "markdown",
   "id": "533165d0",
   "metadata": {},
   "source": [
    "2. 뒤쪽의 데이터도 마찬가지다. 2014년 03월 23일의 데이터가 누락되었다."
   ]
  },
  {
   "cell_type": "code",
   "execution_count": 15,
   "id": "17a0289c",
   "metadata": {},
   "outputs": [
    {
     "name": "stdout",
     "output_type": "stream",
     "text": [
      "          Date  Day  Cases_Guinea  Cases_Liberia  Cases_SierraLeone\n",
      "117 2014-03-27    5         103.0            8.0                6.0\n",
      "118 2014-03-26    4          86.0            NaN                NaN\n",
      "119 2014-03-25    3          86.0            NaN                NaN\n",
      "120 2014-03-24    2          86.0            NaN                NaN\n",
      "121 2014-03-22    0          49.0            NaN                NaN\n"
     ]
    }
   ],
   "source": [
    "print(ebola.iloc[-5:, :5])"
   ]
  },
  {
   "cell_type": "markdown",
   "id": "30f2b71c",
   "metadata": {},
   "source": [
    "3. 다음은 date_range 메서드를 사용하여 2014년 12월 31일부터 2015년 01월 05일 사이의 시간 인덱스(DatetimeIndex)를 생성한 것이다."
   ]
  },
  {
   "cell_type": "code",
   "execution_count": 16,
   "id": "0ef79f7d",
   "metadata": {},
   "outputs": [
    {
     "name": "stdout",
     "output_type": "stream",
     "text": [
      "DatetimeIndex(['2014-12-31', '2015-01-01', '2015-01-02', '2015-01-03',\n",
      "               '2015-01-04', '2015-01-05'],\n",
      "              dtype='datetime64[ns]', freq='D')\n"
     ]
    }
   ],
   "source": [
    "head_range = pd.date_range(start='2014-12-31', end='2015-01-05')\n",
    "print(head_range)"
   ]
  },
  {
   "cell_type": "markdown",
   "id": "730ebea4",
   "metadata": {},
   "source": [
    "4. 다음은 원본 데이터를 손상시키는 것을 방지하기 위해 ebola 데이터프레임의 앞쪽 5개의 데이터를 추출하여 새로운 데이터프레임을 만든 것이다. 이때 Date 열을 인덱스로 먼저 지정하지 않으면 오류가 발생한다. 반드시 Date 열을 인덱스로 지정한 다음 과정3에서 생성한 시간 범위를 인덱스로 지정해야 한다. "
   ]
  },
  {
   "cell_type": "code",
   "execution_count": 17,
   "id": "c40490d7",
   "metadata": {},
   "outputs": [
    {
     "name": "stdout",
     "output_type": "stream",
     "text": [
      "                 Date  Day  Cases_Guinea  Cases_Liberia  Cases_SierraLeone\n",
      "Date                                                                      \n",
      "2015-01-05 2015-01-05  289        2776.0            NaN            10030.0\n",
      "2015-01-04 2015-01-04  288        2775.0            NaN             9780.0\n",
      "2015-01-03 2015-01-03  287        2769.0         8166.0             9722.0\n",
      "2015-01-02 2015-01-02  286           NaN         8157.0                NaN\n",
      "2014-12-31 2014-12-31  284        2730.0         8115.0             9633.0\n"
     ]
    }
   ],
   "source": [
    "ebola_5 = ebola.head()\n",
    "ebola_5.index = ebola_5['Date']\n",
    "ebola_5.reindex(head_range)\n",
    "print(ebola_5.iloc[:5, :5])"
   ]
  },
  {
   "cell_type": "markdown",
   "id": "9ee7b514",
   "metadata": {},
   "source": [
    "## 시간 범위의 주기 설정하기 \n",
    "시간 범위를 인덱스로 지정하면 DatetimeIndex 자료형이 만들어진다. 그리고 DatetimeIndex에는 freq 속성이 포함되어 있다. freq 속성값을 지정하면 시간 간격을 조절하여 DatetimeIndex를 만들 수 있다. freq 속성값으로 사용할 수 있는 시간 주기를 표로 정리했다.\n",
    "\n",
    "* **freq 속성값으로 사용할 수 있는 시간 주기**\n",
    "  * B: 평일만 포함\n",
    "  * C: 사용자가 정의한 평일만 포함\n",
    "  * D: 달력 일자 단위\n",
    "  * W: 주간 단위\n",
    "  * M: 월 마지막 날만 포함\n",
    "  * Q: 3, 6, 9, 12월 분기 마지막 날만 포함\n",
    "  * A: 년의 마지막 날만 포함\n",
    "  * H: 시간 단위로 포함 \n",
    "  * T: 분 단위 포함\n",
    "  * S: 초 단위 포함\n",
    "  * L: 밀리초 단위 포함\n",
    "  "
   ]
  },
  {
   "cell_type": "markdown",
   "id": "d0c701f4",
   "metadata": {},
   "source": [
    "* 다음은 date_range 메서드의 freq 인잣값을 B로 설정하여 평일만 포함시킨 DatetimeIndex를 만드는 것이다.\n"
   ]
  },
  {
   "cell_type": "code",
   "execution_count": 18,
   "id": "aef0df71",
   "metadata": {},
   "outputs": [
    {
     "name": "stdout",
     "output_type": "stream",
     "text": [
      "DatetimeIndex(['2017-01-02', '2017-01-03', '2017-01-04', '2017-01-05',\n",
      "               '2017-01-06'],\n",
      "              dtype='datetime64[ns]', freq='B')\n"
     ]
    }
   ],
   "source": [
    "print(pd.date_range('2017-01-01', '2017-01-07', freq='B'))"
   ]
  }
 ],
 "metadata": {
  "kernelspec": {
   "display_name": "Python 3",
   "language": "python",
   "name": "python3"
  },
  "language_info": {
   "codemirror_mode": {
    "name": "ipython",
    "version": 3
   },
   "file_extension": ".py",
   "mimetype": "text/x-python",
   "name": "python",
   "nbconvert_exporter": "python",
   "pygments_lexer": "ipython3",
   "version": "3.8.8"
  }
 },
 "nbformat": 4,
 "nbformat_minor": 5
}
