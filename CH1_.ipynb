{
  "cells": [
    {
      "cell_type": "markdown",
      "metadata": {
        "id": "view-in-github",
        "colab_type": "text"
      },
      "source": [
        "<a href=\"https://colab.research.google.com/github/Jieun1124/ESAA/blob/main/CH1_.ipynb\" target=\"_parent\"><img src=\"https://colab.research.google.com/assets/colab-badge.svg\" alt=\"Open In Colab\"/></a>"
      ]
    },
    {
      "cell_type": "markdown",
      "id": "eb20d60c",
      "metadata": {
        "id": "eb20d60c"
      },
      "source": [
        "## CH1.  머신러닝 Intro \n",
        "### 1.4 머신러닝 시스템의 종류\n",
        "#### 1.4.1 지도 학습과 비지도 학습 \n",
        "#### 지도학습\n",
        "- 알고리즘에 주입하는 훈련 데이터에 레이블이라는 원하는 답이 포함됨                  \n",
        "- 분류, 회귀 알고리즘\n",
        "- 가장 중요한 지도 학습 알고리즘:                 \n",
        "k-최근접 이웃, 선형 회귀, 로지스틱 회귀, 서포트 벡터 머신, 결정 트리, 랜덤 포레스트, 신경망\n",
        "#### 비지도 학습\n",
        "- 훈련 데이터에 레이블이 없다.\n",
        "- 가장 중요한 비지도 학습 알고리즘:          \n",
        "      - 클러스터링:  k-means, DBSCAN, 계층 군집 분석, 이상치 탐지, 특이치 탐지, 원-클래스, 아이솔레이션 포레스트, \n",
        "      - 시각화와 차원 축소: 주성분 분석(PCA), 커널 PCA, 지역적 선형 임베딩, t-SNE\n",
        "      - 연관 규칙 학습: 어프라이어리, 이클렛 \n",
        " 활용 예시)    \n",
        " - 계층 군집 알고리즘: 각 그룹을 더 작은 그룹으로 세분화할 수 있어서 각 그룹에 맞춰 블로그에 글을 쓰는 데 도움이 됨. \n",
        " - 차원 축소: 상관관계가 있는 여러 특성을 하나로 합치기 위해서이다. 예를 들어 차의 주행거리는 연식과 강하게 연관되어 있으므로 차원 축소 알고리즘으로 두 특성을 차의 마모 정도를 나타내는 하나의 특성으로 합칠 수 있다. 이를 특성 추출(feature selection)이라고 함.         \n",
        "> 머신러닝 알고리즘에 데이터를 주입하기 전에 차원 축소 알고리즘을 사용하여 훈련 데이터의 차원을 줄이는 것이 유용할 때가 많다. 실행 속도가 훨씬 빨라지고 디스크와 메모리를 차지하는 공간도 줄고 경우에 따라 성능이 좋아지기도 한다.\n",
        " - 이상치 탐지: 부정 거래를 막기 위해 이상한 신용카드 거래를 감지하고, 제조 결함을 잡아내고, 학습 알고리즘에 주입하기 전에 데이터셋에서 이상한 값을 자동으로 제거하는 것 등임. 시스템은 훈련하는 동안 대부분 정상 샘플을 만나 이를 인식하도록 훈련됨. 그다음 새로운 샘플을 보고 정상 데이터인지 혹은 이상치인지 판단함. \n",
        " - 특이치 탐지: 훈련 세트에 있는 모든 샘플과 달라 보이는 새로운 샘플을 탐지하는 것이 목적임."
      ]
    },
    {
      "cell_type": "code",
      "execution_count": null,
      "id": "665b097b",
      "metadata": {
        "id": "665b097b"
      },
      "outputs": [],
      "source": []
    }
  ],
  "metadata": {
    "kernelspec": {
      "display_name": "Python 3",
      "language": "python",
      "name": "python3"
    },
    "language_info": {
      "codemirror_mode": {
        "name": "ipython",
        "version": 3
      },
      "file_extension": ".py",
      "mimetype": "text/x-python",
      "name": "python",
      "nbconvert_exporter": "python",
      "pygments_lexer": "ipython3",
      "version": "3.8.8"
    },
    "colab": {
      "provenance": [],
      "include_colab_link": true
    }
  },
  "nbformat": 4,
  "nbformat_minor": 5
}