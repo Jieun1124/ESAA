{
 "cells": [
  {
   "cell_type": "markdown",
   "id": "bf79c78b",
   "metadata": {
    "id": "bf79c78b"
   },
   "source": [
    "# 100 numpy exercises\n",
    "\n",
    "This is a collection of exercises that have been collected in the numpy mailing list, on stack overflow\n",
    "and in the numpy documentation. The goal of this collection is to offer a quick reference for both old\n",
    "and new users but also to provide a set of exercises for those who teach.\n",
    "\n",
    "\n",
    "If you find an error or think you've a better way to solve some of them, feel\n",
    "free to open an issue at <https://github.com/rougier/numpy-100>."
   ]
  },
  {
   "cell_type": "markdown",
   "id": "8536e059",
   "metadata": {
    "id": "8536e059"
   },
   "source": [
    "File automatically generated. See the documentation to update questions/answers/hints programmatically."
   ]
  },
  {
   "cell_type": "markdown",
   "id": "e16ac60b",
   "metadata": {
    "id": "e16ac60b"
   },
   "source": [
    "Run the `initialize.py` module, then for each question you can query the\n",
    "answer or an hint with `hint(n)` or `answer(n)` for `n` question number."
   ]
  },
  {
   "cell_type": "code",
   "execution_count": null,
   "id": "a8453483",
   "metadata": {
    "colab": {
     "base_uri": "https://localhost:8080/"
    },
    "id": "a8453483",
    "outputId": "65b179af-3c4e-4291-db4c-13aae2460cff"
   },
   "outputs": [
    {
     "name": "stderr",
     "output_type": "stream",
     "text": [
      "ERROR:root:File `'initialise.py'` not found.\n"
     ]
    }
   ],
   "source": [
    "%run initialise.py"
   ]
  },
  {
   "cell_type": "markdown",
   "id": "017db353",
   "metadata": {
    "id": "017db353"
   },
   "source": [
    "#### 1. Import the numpy package under the name `np` (★☆☆)"
   ]
  },
  {
   "cell_type": "code",
   "execution_count": 2,
   "id": "68182a76",
   "metadata": {
    "id": "68182a76"
   },
   "outputs": [],
   "source": [
    "import numpy as np"
   ]
  },
  {
   "cell_type": "markdown",
   "id": "46950f4f",
   "metadata": {
    "id": "46950f4f"
   },
   "source": [
    "#### 2. Print the numpy version and the configuration (★☆☆)"
   ]
  },
  {
   "cell_type": "code",
   "execution_count": 3,
   "id": "2a9f5838",
   "metadata": {
    "colab": {
     "base_uri": "https://localhost:8080/"
    },
    "id": "2a9f5838",
    "outputId": "38b6f69a-9943-458b-ebe1-6f5e10801091"
   },
   "outputs": [
    {
     "name": "stdout",
     "output_type": "stream",
     "text": [
      "1.20.1\n"
     ]
    }
   ],
   "source": [
    "print(np.__version__)"
   ]
  },
  {
   "cell_type": "markdown",
   "id": "e3c20b3d",
   "metadata": {
    "id": "e3c20b3d"
   },
   "source": [
    "#### 3. Create a null vector of size 10 (★☆☆)"
   ]
  },
  {
   "cell_type": "markdown",
   "id": "4ef10cd2",
   "metadata": {},
   "source": [
    "* null vector은 zero vector을 의미함 "
   ]
  },
  {
   "cell_type": "code",
   "execution_count": 5,
   "id": "8a758bcf",
   "metadata": {
    "id": "8a758bcf"
   },
   "outputs": [
    {
     "name": "stdout",
     "output_type": "stream",
     "text": [
      "[0. 0. 0. 0. 0. 0. 0. 0. 0. 0.]\n"
     ]
    }
   ],
   "source": [
    "# np.zeros(size) \n",
    "a = np.zeros(10)\n",
    "print(a)"
   ]
  },
  {
   "cell_type": "markdown",
   "id": "b15a879f",
   "metadata": {
    "id": "b15a879f"
   },
   "source": [
    "#### 4. How to find the memory size of any array (★☆☆)"
   ]
  },
  {
   "cell_type": "markdown",
   "id": "afb8da7b",
   "metadata": {},
   "source": [
    "array의 메모리 사이즈 찾는 방법\n",
    "* numpy.ndarray.nbytes를 사용해서도 간단하게 구할 수 있다"
   ]
  },
  {
   "cell_type": "code",
   "execution_count": 6,
   "id": "1cc3cbc5",
   "metadata": {
    "colab": {
     "base_uri": "https://localhost:8080/"
    },
    "id": "1cc3cbc5",
    "outputId": "10554061-f022-4443-d62d-0678097791a7"
   },
   "outputs": [
    {
     "name": "stdout",
     "output_type": "stream",
     "text": [
      "80\n",
      "80\n",
      "80\n"
     ]
    }
   ],
   "source": [
    "print(a.nbytes)\n",
    "print(a.size * a.itemsize)\n",
    "print(np.prod(a.shape) * a.itemsize)"
   ]
  },
  {
   "cell_type": "markdown",
   "id": "0a708990",
   "metadata": {
    "id": "0a708990"
   },
   "source": [
    "#### 5. How to get the documentation of the numpy add function from the command line? (★☆☆)"
   ]
  },
  {
   "cell_type": "markdown",
   "id": "f7445edd",
   "metadata": {},
   "source": [
    "numpy의 add function에 대한 설명문서를 불러오는 방법 "
   ]
  },
  {
   "cell_type": "code",
   "execution_count": 94,
   "id": "a3d0ea46",
   "metadata": {},
   "outputs": [
    {
     "name": "stdout",
     "output_type": "stream",
     "text": [
      "add(x1, x2, /, out=None, *, where=True, casting='same_kind', order='K', dtype=None, subok=True[, signature, extobj])\n",
      "\n",
      "Add arguments element-wise.\n",
      "\n",
      "Parameters\n",
      "----------\n",
      "x1, x2 : array_like\n",
      "    The arrays to be added.\n",
      "    If ``x1.shape != x2.shape``, they must be broadcastable to a common\n",
      "    shape (which becomes the shape of the output).\n",
      "out : ndarray, None, or tuple of ndarray and None, optional\n",
      "    A location into which the result is stored. If provided, it must have\n",
      "    a shape that the inputs broadcast to. If not provided or None,\n",
      "    a freshly-allocated array is returned. A tuple (possible only as a\n",
      "    keyword argument) must have length equal to the number of outputs.\n",
      "where : array_like, optional\n",
      "    This condition is broadcast over the input. At locations where the\n",
      "    condition is True, the `out` array will be set to the ufunc result.\n",
      "    Elsewhere, the `out` array will retain its original value.\n",
      "    Note that if an uninitialized `out` array is created via the default\n",
      "    ``out=None``, locations within it where the condition is False will\n",
      "    remain uninitialized.\n",
      "**kwargs\n",
      "    For other keyword-only arguments, see the\n",
      "    :ref:`ufunc docs <ufuncs.kwargs>`.\n",
      "\n",
      "Returns\n",
      "-------\n",
      "add : ndarray or scalar\n",
      "    The sum of `x1` and `x2`, element-wise.\n",
      "    This is a scalar if both `x1` and `x2` are scalars.\n",
      "\n",
      "Notes\n",
      "-----\n",
      "Equivalent to `x1` + `x2` in terms of array broadcasting.\n",
      "\n",
      "Examples\n",
      "--------\n",
      ">>> np.add(1.0, 4.0)\n",
      "5.0\n",
      ">>> x1 = np.arange(9.0).reshape((3, 3))\n",
      ">>> x2 = np.arange(3.0)\n",
      ">>> np.add(x1, x2)\n",
      "array([[  0.,   2.,   4.],\n",
      "       [  3.,   5.,   7.],\n",
      "       [  6.,   8.,  10.]])\n",
      "\n",
      "The ``+`` operator can be used as a shorthand for ``np.add`` on ndarrays.\n",
      "\n",
      ">>> x1 = np.arange(9.0).reshape((3, 3))\n",
      ">>> x2 = np.arange(3.0)\n",
      ">>> x1 + x2\n",
      "array([[ 0.,  2.,  4.],\n",
      "       [ 3.,  5.,  7.],\n",
      "       [ 6.,  8., 10.]])\n"
     ]
    }
   ],
   "source": [
    "!python -c \"import numpy; numpy.info(numpy.add)\""
   ]
  },
  {
   "cell_type": "code",
   "execution_count": 7,
   "id": "477e01f4",
   "metadata": {
    "colab": {
     "base_uri": "https://localhost:8080/"
    },
    "id": "477e01f4",
    "outputId": "5a6b1091-7fc3-42d0-a8b5-850cde745213"
   },
   "outputs": [
    {
     "name": "stdout",
     "output_type": "stream",
     "text": [
      "add(x1, x2, /, out=None, *, where=True, casting='same_kind', order='K', dtype=None, subok=True[, signature, extobj])\n",
      "\n",
      "Add arguments element-wise.\n",
      "\n",
      "Parameters\n",
      "----------\n",
      "x1, x2 : array_like\n",
      "    The arrays to be added.\n",
      "    If ``x1.shape != x2.shape``, they must be broadcastable to a common\n",
      "    shape (which becomes the shape of the output).\n",
      "out : ndarray, None, or tuple of ndarray and None, optional\n",
      "    A location into which the result is stored. If provided, it must have\n",
      "    a shape that the inputs broadcast to. If not provided or None,\n",
      "    a freshly-allocated array is returned. A tuple (possible only as a\n",
      "    keyword argument) must have length equal to the number of outputs.\n",
      "where : array_like, optional\n",
      "    This condition is broadcast over the input. At locations where the\n",
      "    condition is True, the `out` array will be set to the ufunc result.\n",
      "    Elsewhere, the `out` array will retain its original value.\n",
      "    Note that if an uninitialized `out` array is created via the default\n",
      "    ``out=None``, locations within it where the condition is False will\n",
      "    remain uninitialized.\n",
      "**kwargs\n",
      "    For other keyword-only arguments, see the\n",
      "    :ref:`ufunc docs <ufuncs.kwargs>`.\n",
      "\n",
      "Returns\n",
      "-------\n",
      "add : ndarray or scalar\n",
      "    The sum of `x1` and `x2`, element-wise.\n",
      "    This is a scalar if both `x1` and `x2` are scalars.\n",
      "\n",
      "Notes\n",
      "-----\n",
      "Equivalent to `x1` + `x2` in terms of array broadcasting.\n",
      "\n",
      "Examples\n",
      "--------\n",
      ">>> np.add(1.0, 4.0)\n",
      "5.0\n",
      ">>> x1 = np.arange(9.0).reshape((3, 3))\n",
      ">>> x2 = np.arange(3.0)\n",
      ">>> np.add(x1, x2)\n",
      "array([[  0.,   2.,   4.],\n",
      "       [  3.,   5.,   7.],\n",
      "       [  6.,   8.,  10.]])\n",
      "\n",
      "The ``+`` operator can be used as a shorthand for ``np.add`` on ndarrays.\n",
      "\n",
      ">>> x1 = np.arange(9.0).reshape((3, 3))\n",
      ">>> x2 = np.arange(3.0)\n",
      ">>> x1 + x2\n",
      "array([[ 0.,  2.,  4.],\n",
      "       [ 3.,  5.,  7.],\n",
      "       [ 6.,  8., 10.]])\n"
     ]
    }
   ],
   "source": [
    "np.info(np.add)"
   ]
  },
  {
   "cell_type": "markdown",
   "id": "0b16cd77",
   "metadata": {
    "id": "0b16cd77"
   },
   "source": [
    "#### 6. Create a null vector of size 10 but the fifth value which is 1 (★☆☆)"
   ]
  },
  {
   "cell_type": "markdown",
   "id": "34d19764",
   "metadata": {},
   "source": [
    "size가 10인 null vector를 만들고 5번째 원소는 1로 만들기"
   ]
  },
  {
   "cell_type": "code",
   "execution_count": 8,
   "id": "4d9b5975",
   "metadata": {
    "colab": {
     "base_uri": "https://localhost:8080/"
    },
    "id": "4d9b5975",
    "outputId": "11c0f380-768e-4687-ad85-c055cf7369db"
   },
   "outputs": [
    {
     "name": "stdout",
     "output_type": "stream",
     "text": [
      "[0. 0. 0. 0. 1. 0. 0. 0. 0. 0.]\n"
     ]
    }
   ],
   "source": [
    "a = np.zeros(10)\n",
    "a[4] = 1\n",
    "print(a)"
   ]
  },
  {
   "cell_type": "markdown",
   "id": "782d4c77",
   "metadata": {
    "id": "782d4c77"
   },
   "source": [
    "#### 7. Create a vector with values ranging from 10 to 49 (★☆☆)"
   ]
  },
  {
   "cell_type": "code",
   "execution_count": 9,
   "id": "5dbe1a08",
   "metadata": {
    "colab": {
     "base_uri": "https://localhost:8080/"
    },
    "id": "5dbe1a08",
    "outputId": "103c841c-6dac-4441-c02f-50290b423650"
   },
   "outputs": [
    {
     "name": "stdout",
     "output_type": "stream",
     "text": [
      "[10 11 12 13 14 15 16 17 18 19 20 21 22 23 24 25 26 27 28 29 30 31 32 33\n",
      " 34 35 36 37 38 39 40 41 42 43 44 45 46 47 48 49]\n"
     ]
    }
   ],
   "source": [
    "a = np.arange(10,50)\n",
    "print(a)"
   ]
  },
  {
   "cell_type": "markdown",
   "id": "48d48f01",
   "metadata": {
    "id": "48d48f01"
   },
   "source": [
    "#### 8. Reverse a vector (first element becomes last) (★☆☆)"
   ]
  },
  {
   "cell_type": "markdown",
   "id": "c4836a29",
   "metadata": {},
   "source": [
    "* 인덱스로 해결\n",
    "* [::N]는 기존 순서대로 N의 간격을 갖고 출력된다. \n",
    "* [::-1]은 전체 array를 간격 1을 유지하며 거꾸로 출력한다.\n",
    "* np.flip() 사용"
   ]
  },
  {
   "cell_type": "code",
   "execution_count": 34,
   "id": "3ed233e7",
   "metadata": {
    "colab": {
     "base_uri": "https://localhost:8080/"
    },
    "id": "3ed233e7",
    "outputId": "4135dafc-164b-4e60-ae52-c153614da744"
   },
   "outputs": [
    {
     "name": "stdout",
     "output_type": "stream",
     "text": [
      "[[0. 0. 0. 0. 0.]\n",
      " [0. 1. 1. 1. 0.]\n",
      " [0. 1. 1. 1. 0.]\n",
      " [0. 1. 1. 1. 0.]\n",
      " [0. 0. 0. 0. 0.]]\n"
     ]
    }
   ],
   "source": [
    " print(a[::-1])"
   ]
  },
  {
   "cell_type": "code",
   "execution_count": 35,
   "id": "a11348ad",
   "metadata": {},
   "outputs": [
    {
     "name": "stdout",
     "output_type": "stream",
     "text": [
      "[[0. 0. 0. 0. 0.]\n",
      " [0. 1. 1. 1. 0.]\n",
      " [0. 1. 1. 1. 0.]\n",
      " [0. 1. 1. 1. 0.]\n",
      " [0. 0. 0. 0. 0.]]\n"
     ]
    }
   ],
   "source": [
    "# np.flip() 사용\n",
    "print(np.flip(a))"
   ]
  },
  {
   "cell_type": "markdown",
   "id": "4fa39382",
   "metadata": {
    "id": "4fa39382"
   },
   "source": [
    "#### 9. Create a 3x3 matrix with values ranging from 0 to 8 (★☆☆)"
   ]
  },
  {
   "cell_type": "code",
   "execution_count": 16,
   "id": "c97757ec",
   "metadata": {
    "colab": {
     "base_uri": "https://localhost:8080/"
    },
    "id": "c97757ec",
    "outputId": "8286482c-e8b5-47ee-8ea2-9e356b462d7e"
   },
   "outputs": [
    {
     "name": "stdout",
     "output_type": "stream",
     "text": [
      "[[0 1 2]\n",
      " [3 4 5]\n",
      " [6 7 8]]\n"
     ]
    }
   ],
   "source": [
    "matrix = np.arange(0,9).reshape(3,3)\n",
    "print(matrix)"
   ]
  },
  {
   "cell_type": "markdown",
   "id": "da64551a",
   "metadata": {
    "id": "da64551a"
   },
   "source": [
    "#### 10. Find indices of non-zero elements from [1,2,0,0,4,0] (★☆☆)"
   ]
  },
  {
   "cell_type": "markdown",
   "id": "48ab87bf",
   "metadata": {},
   "source": [
    "[1,2,0,0,4,0]에서 0이 아닌 요소의 인덱스 찾기\n",
    "* 조건에 맞는 값의 인덱스 찾아주는 np.where() 메서드 사용하여 해결\n",
    "* 리스트는 array로 바꿔주어야 함\n",
    "* np.nonzero() 메서드 사용하여 해결가능"
   ]
  },
  {
   "cell_type": "code",
   "execution_count": 37,
   "id": "327f7adb",
   "metadata": {
    "colab": {
     "base_uri": "https://localhost:8080/"
    },
    "id": "327f7adb",
    "outputId": "e2d5571e-5cf1-4173-ec3f-9a9f8fdb0fca"
   },
   "outputs": [
    {
     "data": {
      "text/plain": [
       "(array([0, 1, 4], dtype=int64),)"
      ]
     },
     "execution_count": 37,
     "metadata": {},
     "output_type": "execute_result"
    }
   ],
   "source": [
    "# np.where() 사용\n",
    "a = np.array([1,2,0,0,4,0])\n",
    "np.where(a != 0)"
   ]
  },
  {
   "cell_type": "code",
   "execution_count": 38,
   "id": "d89ed34e",
   "metadata": {},
   "outputs": [
    {
     "data": {
      "text/plain": [
       "(array([0, 1, 4], dtype=int64),)"
      ]
     },
     "execution_count": 38,
     "metadata": {},
     "output_type": "execute_result"
    }
   ],
   "source": [
    "# np.nonzero() 사용\n",
    "np.nonzero(a)"
   ]
  },
  {
   "cell_type": "markdown",
   "id": "f89d9c9e",
   "metadata": {
    "id": "f89d9c9e"
   },
   "source": [
    "#### 11. Create a 3x3 identity matrix (★☆☆)"
   ]
  },
  {
   "cell_type": "markdown",
   "id": "e71ada07",
   "metadata": {},
   "source": [
    "3 x 3의 항등행렬을 만들어라\n",
    "* np.identity() 메서드와 np.eye() 메서드로 만들 수 있음\n",
    "* identity()는 정방단위행렬(N x N), eye()는 대각행렬 (N x M 가능)"
   ]
  },
  {
   "cell_type": "code",
   "execution_count": 39,
   "id": "ba625832",
   "metadata": {
    "colab": {
     "base_uri": "https://localhost:8080/"
    },
    "id": "ba625832",
    "outputId": "c2a49080-44d7-43f5-acb2-e44ab7ea5f7e"
   },
   "outputs": [
    {
     "name": "stdout",
     "output_type": "stream",
     "text": [
      "[[1. 0. 0.]\n",
      " [0. 1. 0.]\n",
      " [0. 0. 1.]]\n"
     ]
    }
   ],
   "source": [
    "# np.identity() 사용 \n",
    "print(np.identity(3))"
   ]
  },
  {
   "cell_type": "code",
   "execution_count": 40,
   "id": "d23a8c9b",
   "metadata": {},
   "outputs": [
    {
     "name": "stdout",
     "output_type": "stream",
     "text": [
      "[[1. 0. 0.]\n",
      " [0. 1. 0.]\n",
      " [0. 0. 1.]]\n"
     ]
    }
   ],
   "source": [
    "# np.eye() 사용 \n",
    "print(np.eye(3))"
   ]
  },
  {
   "cell_type": "markdown",
   "id": "7e44c6fa",
   "metadata": {
    "id": "7e44c6fa"
   },
   "source": [
    "#### 12. Create a 3x3x3 array with random values (★☆☆)"
   ]
  },
  {
   "cell_type": "markdown",
   "id": "9c0a8424",
   "metadata": {},
   "source": [
    "무작위 원소를 가진 3x3x3의 array를 만들어라\n",
    "* np.random.random() 이용하여 무작위 원소 적용"
   ]
  },
  {
   "cell_type": "code",
   "execution_count": 21,
   "id": "1cb3dddf",
   "metadata": {
    "colab": {
     "base_uri": "https://localhost:8080/"
    },
    "id": "1cb3dddf",
    "outputId": "96896766-6313-47a3-8c6f-21f9d5dae48a"
   },
   "outputs": [
    {
     "name": "stdout",
     "output_type": "stream",
     "text": [
      "[[[0.90843596 0.5875449  0.00939927]\n",
      "  [0.2773899  0.6343095  0.20009411]\n",
      "  [0.22892095 0.39663969 0.74784994]]\n",
      "\n",
      " [[0.55991723 0.22479389 0.05866712]\n",
      "  [0.7495092  0.76889387 0.98391557]\n",
      "  [0.83877146 0.02792571 0.19347518]]\n",
      "\n",
      " [[0.0303501  0.33227261 0.16932168]\n",
      "  [0.61637216 0.71200588 0.87946998]\n",
      "  [0.30814562 0.93845906 0.62052042]]]\n"
     ]
    }
   ],
   "source": [
    "# np.random.random()을 이용하여 무작위 원소 적용\n",
    "rand = np.random.random([3, 3, 3])\n",
    "print(rand)"
   ]
  },
  {
   "cell_type": "markdown",
   "id": "13c5928c",
   "metadata": {
    "id": "13c5928c"
   },
   "source": [
    "#### 13. Create a 10x10 array with random values and find the minimum and maximum values (★☆☆)"
   ]
  },
  {
   "cell_type": "markdown",
   "id": "d155ff6b",
   "metadata": {},
   "source": [
    "10x10의 무작위 원소를 가진 array를 만들고 최솟값과 최댓값을 찾아라.\n",
    "* max()와 min()사용"
   ]
  },
  {
   "cell_type": "code",
   "execution_count": 22,
   "id": "911c9b93",
   "metadata": {
    "colab": {
     "base_uri": "https://localhost:8080/"
    },
    "id": "911c9b93",
    "outputId": "7a63c64d-d762-4ff3-d812-a9444eb1c9d5"
   },
   "outputs": [
    {
     "name": "stdout",
     "output_type": "stream",
     "text": [
      "0.0037848831435469688 0.9761516453335713\n"
     ]
    }
   ],
   "source": [
    "rand = np.random.random([10, 10])\n",
    "print(rand.min(), rand.max())"
   ]
  },
  {
   "cell_type": "markdown",
   "id": "3fa2e461",
   "metadata": {
    "id": "3fa2e461"
   },
   "source": [
    "#### 14. Create a random vector of size 30 and find the mean value (★☆☆)"
   ]
  },
  {
   "cell_type": "code",
   "execution_count": 24,
   "id": "323eb38a",
   "metadata": {
    "colab": {
     "base_uri": "https://localhost:8080/"
    },
    "id": "323eb38a",
    "outputId": "78d11d5a-a95a-4b00-9fad-d474f1b75de9"
   },
   "outputs": [
    {
     "name": "stdout",
     "output_type": "stream",
     "text": [
      "0.45500282345520043\n"
     ]
    }
   ],
   "source": [
    "rand = np.random.random(30)\n",
    "print(rand.mean())"
   ]
  },
  {
   "cell_type": "markdown",
   "id": "73f7a549",
   "metadata": {
    "id": "73f7a549"
   },
   "source": [
    "#### 15. Create a 2d array with 1 on the border and 0 inside (★☆☆)"
   ]
  },
  {
   "cell_type": "markdown",
   "id": "d39225ad",
   "metadata": {},
   "source": [
    "테두리의 원소가 1이고 안쪽 원소가 0인 2차원 배열을 만들어라"
   ]
  },
  {
   "cell_type": "code",
   "execution_count": 44,
   "id": "e3a6807d",
   "metadata": {
    "colab": {
     "base_uri": "https://localhost:8080/"
    },
    "id": "e3a6807d",
    "outputId": "8d779d0e-13e6-44e6-8b73-822ec02da790"
   },
   "outputs": [
    {
     "name": "stdout",
     "output_type": "stream",
     "text": [
      "[[1. 1. 1. 1. 1.]\n",
      " [1. 0. 0. 0. 1.]\n",
      " [1. 1. 1. 1. 1.]]\n"
     ]
    }
   ],
   "source": [
    "# 1로 채워진 배열을 만들고 인덱스 활용해 안쪽을 0으로 채움 \n",
    "arr1 = np.ones((3, 5))\n",
    "arr1[1, 1:4] = 0\n",
    "print(arr1)"
   ]
  },
  {
   "cell_type": "code",
   "execution_count": 45,
   "id": "f6bf98c5",
   "metadata": {},
   "outputs": [
    {
     "name": "stdout",
     "output_type": "stream",
     "text": [
      "[[1. 1. 1. 1. 1.]\n",
      " [1. 0. 0. 0. 1.]\n",
      " [1. 1. 1. 1. 1.]]\n"
     ]
    }
   ],
   "source": [
    "# 0로 채워진 배열을 만들고 인덱스 활용해 바깥쪽을 1으로 채움 \n",
    "arr2 = np.zeros((3, 5))\n",
    "arr2[[0, -1], :] = 1\n",
    "arr2[:, [0, -1]] = 1\n",
    "print(arr2)"
   ]
  },
  {
   "cell_type": "markdown",
   "id": "6d0c506f",
   "metadata": {
    "id": "6d0c506f"
   },
   "source": [
    "\n",
    "\n",
    "#### 16. How to add a border (filled with 0's) around an existing array? (★☆☆)"
   ]
  },
  {
   "cell_type": "code",
   "execution_count": 41,
   "id": "32ffee7b",
   "metadata": {
    "colab": {
     "base_uri": "https://localhost:8080/"
    },
    "id": "32ffee7b",
    "outputId": "98c817a5-5a7e-41b5-abf6-99121ff091c5"
   },
   "outputs": [
    {
     "name": "stdout",
     "output_type": "stream",
     "text": [
      "[[0. 0. 0. 0. 0. 0. 0.]\n",
      " [0. 1. 1. 1. 1. 1. 0.]\n",
      " [0. 1. 1. 1. 1. 1. 0.]\n",
      " [0. 1. 1. 1. 1. 1. 0.]\n",
      " [0. 1. 1. 1. 1. 1. 0.]\n",
      " [0. 1. 1. 1. 1. 1. 0.]\n",
      " [0. 0. 0. 0. 0. 0. 0.]]\n"
     ]
    }
   ],
   "source": [
    "# np.pad() 사용하기\n",
    "a = np.ones((5, 5))\n",
    "b = np.pad(a, pad_width=1, mode='constant', constant_values=0)\n",
    "print(b)"
   ]
  },
  {
   "cell_type": "code",
   "execution_count": 43,
   "id": "0c8c4508",
   "metadata": {},
   "outputs": [
    {
     "name": "stdout",
     "output_type": "stream",
     "text": [
      "[[0. 0. 0. 0. 0.]\n",
      " [0. 1. 1. 1. 0.]\n",
      " [0. 1. 1. 1. 0.]\n",
      " [0. 1. 1. 1. 0.]\n",
      " [0. 0. 0. 0. 0.]]\n"
     ]
    }
   ],
   "source": [
    "# fancy indexing 사용하기\n",
    "a = np.ones((5, 5))\n",
    "a[:, [0, -1]] = 0\n",
    "a[[0, -1], :] = 0\n",
    "print(a)"
   ]
  },
  {
   "cell_type": "markdown",
   "id": "d6ad1a9f",
   "metadata": {
    "id": "d6ad1a9f"
   },
   "source": [
    "#### 17. What is the result of the following expression? (★☆☆)\n",
    "```python\n",
    "0 * np.nan\n",
    "np.nan == np.nan\n",
    "np.inf > np.nan\n",
    "np.nan - np.nan\n",
    "np.nan in set([np.nan])\n",
    "0.3 == 3 * 0.1\n",
    "```"
   ]
  },
  {
   "cell_type": "code",
   "execution_count": 46,
   "id": "ee7ff0f3",
   "metadata": {
    "colab": {
     "base_uri": "https://localhost:8080/"
    },
    "id": "ee7ff0f3",
    "outputId": "1340526e-e734-4939-f0bc-9a575e48b100"
   },
   "outputs": [
    {
     "name": "stdout",
     "output_type": "stream",
     "text": [
      "nan\n",
      "False\n",
      "False\n",
      "nan\n",
      "True\n",
      "False\n"
     ]
    }
   ],
   "source": [
    "# nan은 '정의되지 않은 수'이기 때문에 비교하거나 연산할 수 없다.\n",
    "print(0 * np.nan) \n",
    "print(np.nan == np.nan)\n",
    "print(np.inf > np.nan)\n",
    "print(np.nan - np.nan)\n",
    "# np.nan은 np.nan의 집합 내에 속한다 \n",
    "print(np.nan in set([np.nan]))\n",
    "# 3 * 0.1은 0.3000004로 출력된다(부동소수점에 의한 오차를 나타냄)\n",
    "print(0.3 == 3 * 0.1)"
   ]
  },
  {
   "cell_type": "markdown",
   "id": "e3a7ba7f",
   "metadata": {
    "id": "e3a7ba7f"
   },
   "source": [
    "#### 18. Create a 5x5 matrix with values 1,2,3,4 just below the diagonal (★☆☆)"
   ]
  },
  {
   "cell_type": "markdown",
   "id": "2c3094b6",
   "metadata": {},
   "source": [
    "대각선 바로 아래에 값 1,2,3,4가 있는 5x5 행렬 만들기\n",
    "* np.diag()은 주어진 원소로 대각행렬을 만들어줌. k를 기준으로 대각선 아래/위에 삽입 가능"
   ]
  },
  {
   "cell_type": "code",
   "execution_count": 95,
   "id": "01d8e257",
   "metadata": {
    "colab": {
     "base_uri": "https://localhost:8080/"
    },
    "id": "01d8e257",
    "outputId": "c81fdf2e-547e-4d86-d6f8-840f329502d6"
   },
   "outputs": [
    {
     "name": "stdout",
     "output_type": "stream",
     "text": [
      "[[0 0 0 0 0]\n",
      " [1 0 0 0 0]\n",
      " [0 2 0 0 0]\n",
      " [0 0 3 0 0]\n",
      " [0 0 0 4 0]]\n"
     ]
    }
   ],
   "source": [
    "a = np.diag(np.arange(1, 5), k=-1)  \n",
    "print(a)"
   ]
  },
  {
   "cell_type": "markdown",
   "id": "6d17ab5d",
   "metadata": {
    "id": "6d17ab5d"
   },
   "source": [
    "#### 19. Create a 8x8 matrix and fill it with a checkerboard pattern (★☆☆)"
   ]
  },
  {
   "cell_type": "markdown",
   "id": "06309b6b",
   "metadata": {},
   "source": [
    "8x8 매트릭스를 만들고 체커보드 패턴으로 채웁니다.\n",
    "* 팬시인덱싱을 이용해 해결\n",
    "* [A::B]는 A부터 B의 step만큼 건너뛰며 slicing 한다는 뜻\n",
    "* np.tile로도 해결가능"
   ]
  },
  {
   "cell_type": "code",
   "execution_count": 49,
   "id": "841373cd",
   "metadata": {
    "colab": {
     "base_uri": "https://localhost:8080/"
    },
    "id": "841373cd",
    "outputId": "92bde8b1-cdaf-431e-d5f7-9cec5c7618c3"
   },
   "outputs": [
    {
     "name": "stdout",
     "output_type": "stream",
     "text": [
      "[[0. 1. 0. 1. 0. 1. 0. 1.]\n",
      " [1. 0. 1. 0. 1. 0. 1. 0.]\n",
      " [0. 1. 0. 1. 0. 1. 0. 1.]\n",
      " [1. 0. 1. 0. 1. 0. 1. 0.]\n",
      " [0. 1. 0. 1. 0. 1. 0. 1.]\n",
      " [1. 0. 1. 0. 1. 0. 1. 0.]\n",
      " [0. 1. 0. 1. 0. 1. 0. 1.]\n",
      " [1. 0. 1. 0. 1. 0. 1. 0.]]\n"
     ]
    }
   ],
   "source": [
    "matrix = np.zeros((8, 8))\n",
    "matrix[::2, 1::2] = 1\n",
    "matrix[1::2, ::2] = 1\n",
    "print(matrix)"
   ]
  },
  {
   "cell_type": "code",
   "execution_count": 50,
   "id": "9da75327",
   "metadata": {},
   "outputs": [
    {
     "name": "stdout",
     "output_type": "stream",
     "text": [
      "[[0 1 0 1 0 1 0 1]\n",
      " [1 0 1 0 1 0 1 0]\n",
      " [0 1 0 1 0 1 0 1]\n",
      " [1 0 1 0 1 0 1 0]\n",
      " [0 1 0 1 0 1 0 1]\n",
      " [1 0 1 0 1 0 1 0]\n",
      " [0 1 0 1 0 1 0 1]\n",
      " [1 0 1 0 1 0 1 0]]\n"
     ]
    }
   ],
   "source": [
    "# np.tile() 사용\n",
    "matrix = np.tile(np.array([[0, 1], [1, 0]]), (4, 4))\n",
    "print(matrix)"
   ]
  },
  {
   "cell_type": "markdown",
   "id": "8837119b",
   "metadata": {
    "id": "8837119b"
   },
   "source": [
    "#### 20. Consider a (6,7,8) shape array, what is the index (x,y,z) of the 100th element? (★☆☆)"
   ]
  },
  {
   "cell_type": "markdown",
   "id": "eae8679f",
   "metadata": {},
   "source": [
    "(6,7,8) 모양 배열을 고려하면 100 번째 요소의 인덱스 (x, y, z)는 무엇입니까?\n",
    "* np.unravel_index : 플랫 인덱스 또는 플랫 인덱스 배열을 튜플 좌표 배열로 변환한다."
   ]
  },
  {
   "cell_type": "code",
   "execution_count": 96,
   "id": "2c0d16f1",
   "metadata": {
    "colab": {
     "base_uri": "https://localhost:8080/"
    },
    "id": "2c0d16f1",
    "outputId": "a3ce1c1d-7bb9-4a08-ea0d-99488ad365d8"
   },
   "outputs": [
    {
     "name": "stdout",
     "output_type": "stream",
     "text": [
      "(1, 5, 3)\n"
     ]
    }
   ],
   "source": [
    "a = np.unravel_index(99, (6, 7, 8)) \n",
    "print(a)"
   ]
  },
  {
   "cell_type": "markdown",
   "id": "ec788c9f",
   "metadata": {
    "id": "ec788c9f"
   },
   "source": [
    "#### 21. Create a checkerboard 8x8 matrix using the tile function (★☆☆)"
   ]
  },
  {
   "cell_type": "code",
   "execution_count": 52,
   "id": "0a4f919f",
   "metadata": {
    "colab": {
     "base_uri": "https://localhost:8080/"
    },
    "id": "0a4f919f",
    "outputId": "6b4037b8-c369-4abe-e97d-c76d875907a2"
   },
   "outputs": [
    {
     "name": "stdout",
     "output_type": "stream",
     "text": [
      "[[0 1 0 1 0 1 0 1]\n",
      " [1 0 1 0 1 0 1 0]\n",
      " [0 1 0 1 0 1 0 1]\n",
      " [1 0 1 0 1 0 1 0]\n",
      " [0 1 0 1 0 1 0 1]\n",
      " [1 0 1 0 1 0 1 0]\n",
      " [0 1 0 1 0 1 0 1]\n",
      " [1 0 1 0 1 0 1 0]]\n"
     ]
    }
   ],
   "source": [
    "matrix = np.tile(np.array([[0, 1], [1, 0]]),(4, 4))\n",
    "print(matrix)"
   ]
  },
  {
   "cell_type": "markdown",
   "id": "391791e0",
   "metadata": {
    "id": "391791e0"
   },
   "source": [
    "#### 22. Normalize a 5x5 random matrix (★☆☆)"
   ]
  },
  {
   "cell_type": "markdown",
   "id": "958d31fc",
   "metadata": {},
   "source": [
    "5x5 랜덤 행렬 정규화\n",
    "* Z = (X – 평균) / (표준편차) (Z-score nomarlization)"
   ]
  },
  {
   "cell_type": "code",
   "execution_count": 98,
   "id": "f6533d39",
   "metadata": {
    "colab": {
     "base_uri": "https://localhost:8080/"
    },
    "id": "f6533d39",
    "outputId": "9d1782a5-f02b-4e1a-e1d5-e2f60306deaf"
   },
   "outputs": [
    {
     "name": "stdout",
     "output_type": "stream",
     "text": [
      "[[-0.13214598  1.34892785  1.028793    1.45773539  0.28127778]\n",
      " [ 0.51426001  0.01497535 -2.22862992  0.66173495 -0.46929255]\n",
      " [-0.04495464 -1.25137864 -0.05962105  0.42600716 -0.25104094]\n",
      " [ 1.38232328 -0.20418815 -1.04744451 -1.24682679  1.32998372]\n",
      " [ 0.92567474 -0.11055527 -2.18241376 -0.37110644  0.22790543]]\n"
     ]
    }
   ],
   "source": [
    "rand = np.random.random((5, 5))\n",
    "norm = (rand - rand.mean()) / rand.std()\n",
    "print(norm)"
   ]
  },
  {
   "cell_type": "code",
   "execution_count": 99,
   "id": "fZFoLUcKCPRZ",
   "metadata": {
    "colab": {
     "base_uri": "https://localhost:8080/"
    },
    "id": "fZFoLUcKCPRZ",
    "outputId": "a95effcf-3a62-4bd4-f2ca-087e3f7eb0e0"
   },
   "outputs": [
    {
     "name": "stdout",
     "output_type": "stream",
     "text": [
      "[[ 0.49768431+0.j          0.44398966+0.j         -0.50421699+0.j\n",
      "   0.24144756+0.13319351j  0.24144756-0.13319351j]\n",
      " [ 0.31968215+0.j         -0.37611646+0.j          0.25983802+0.j\n",
      "   0.26666241+0.07290727j  0.26666241-0.07290727j]\n",
      " [ 0.54751125+0.j          0.37227974+0.j          0.37748633+0.j\n",
      "  -0.73368244+0.j         -0.73368244-0.j        ]\n",
      " [ 0.26530715+0.j         -0.68635552+0.j         -0.33211457+0.j\n",
      "   0.2032629 -0.03984996j  0.2032629 +0.03984996j]\n",
      " [ 0.52910982+0.j          0.22744999+0.j          0.65226789+0.j\n",
      "  -0.32323207-0.40232517j -0.32323207+0.40232517j]]\n"
     ]
    }
   ],
   "source": [
    "array_org = np.random.rand(5, 5)\n",
    "eigenvalue, eigenvector = np.linalg.eig(array_org)\n",
    "print(eigenvector)"
   ]
  },
  {
   "cell_type": "markdown",
   "id": "1e74d39e",
   "metadata": {
    "id": "1e74d39e"
   },
   "source": [
    "#### 23. Create a custom dtype that describes a color as four unsigned bytes (RGBA) (★☆☆)"
   ]
  },
  {
   "cell_type": "markdown",
   "id": "064e9ef7",
   "metadata": {},
   "source": [
    "* 색상을 4개의 부호 없는 바이트(RGBA)로 설명하는 사용자 지정 dtype 만들기\n",
    "* data type의 축약형 중 u는 부호없는 정수로, 각각의 색깔에 해당됨"
   ]
  },
  {
   "cell_type": "code",
   "execution_count": 100,
   "id": "3f639d33",
   "metadata": {
    "colab": {
     "base_uri": "https://localhost:8080/"
    },
    "id": "3f639d33",
    "outputId": "230adadf-00dc-459f-bd65-a92bbc21f4e8"
   },
   "outputs": [
    {
     "name": "stdout",
     "output_type": "stream",
     "text": [
      "[('r', 'u1'), ('g', 'u1'), ('b', 'u1'), ('a', 'u1')]\n"
     ]
    }
   ],
   "source": [
    "color = np.dtype([('r', np.ubyte), \n",
    "                ('g', np.ubyte), \n",
    "                ('b', np.ubyte), \n",
    "                ('a', np.ubyte)])\n",
    "print(color)"
   ]
  },
  {
   "cell_type": "markdown",
   "id": "78250c14",
   "metadata": {
    "id": "78250c14"
   },
   "source": [
    "#### 24. Multiply a 5x3 matrix by a 3x2 matrix (real matrix product) (★☆☆)"
   ]
  },
  {
   "cell_type": "markdown",
   "id": "309aaae0",
   "metadata": {},
   "source": [
    "5x3 행렬에 3x2 행렬(실제 행렬 곱)을 곱합니다.\n",
    "* np.dot() 또는 @연산자 사용"
   ]
  },
  {
   "cell_type": "code",
   "execution_count": 56,
   "id": "9fe729cb",
   "metadata": {
    "colab": {
     "base_uri": "https://localhost:8080/"
    },
    "id": "9fe729cb",
    "outputId": "a66e8bbf-4969-472f-fbae-11fb749ea80d"
   },
   "outputs": [
    {
     "name": "stdout",
     "output_type": "stream",
     "text": [
      "[[0.36183195 0.70819472]\n",
      " [0.38662291 0.54292566]\n",
      " [0.14664961 0.4527889 ]\n",
      " [0.21576128 0.5986285 ]\n",
      " [0.51596703 0.53645541]]\n"
     ]
    }
   ],
   "source": [
    "# np.dot() 사용\n",
    "a = np.random.random((5, 3))\n",
    "b = np.random.random((3, 2))\n",
    "print(np.dot(a, b))"
   ]
  },
  {
   "cell_type": "code",
   "execution_count": 57,
   "id": "39f41e3c",
   "metadata": {},
   "outputs": [
    {
     "name": "stdout",
     "output_type": "stream",
     "text": [
      "[[0.36183195 0.70819472]\n",
      " [0.38662291 0.54292566]\n",
      " [0.14664961 0.4527889 ]\n",
      " [0.21576128 0.5986285 ]\n",
      " [0.51596703 0.53645541]]\n"
     ]
    }
   ],
   "source": [
    "# @ 연산자 사용\n",
    "print(a @ b)"
   ]
  },
  {
   "cell_type": "markdown",
   "id": "51898680",
   "metadata": {
    "id": "51898680"
   },
   "source": [
    "#### 25. Given a 1D array, negate all elements which are between 3 and 8, in place. (★☆☆)"
   ]
  },
  {
   "cell_type": "markdown",
   "id": "29a3053f",
   "metadata": {},
   "source": [
    "1차원 배열에서 3에서 8사이 값을 음수화하여라"
   ]
  },
  {
   "cell_type": "code",
   "execution_count": 59,
   "id": "51c90f2d",
   "metadata": {
    "colab": {
     "base_uri": "https://localhost:8080/"
    },
    "id": "51c90f2d",
    "outputId": "daaf62fd-7edd-4daf-8fa0-b413101f6812"
   },
   "outputs": [
    {
     "name": "stdout",
     "output_type": "stream",
     "text": [
      "[ 0  1  2 -3 -4 -5 -6 -7  8  9]\n"
     ]
    }
   ],
   "source": [
    "a = np.arange(10)\n",
    "a[(2 < a) & (a < 8)] *= -1\n",
    "print(a)"
   ]
  },
  {
   "cell_type": "markdown",
   "id": "89e78048",
   "metadata": {
    "id": "89e78048"
   },
   "source": [
    "#### 26. What is the output of the following script? (★☆☆)\n",
    "```python\n",
    "# Author: Jake VanderPlas\n",
    "\n",
    "print(sum(range(5),-1))\n",
    "from numpy import *\n",
    "print(sum(range(5),-1))\n",
    "```"
   ]
  },
  {
   "cell_type": "code",
   "execution_count": null,
   "id": "b62e9d1c",
   "metadata": {
    "colab": {
     "base_uri": "https://localhost:8080/"
    },
    "id": "b62e9d1c",
    "outputId": "6e75247e-04f3-4ba9-d9aa-b714f4e60862"
   },
   "outputs": [
    {
     "name": "stdout",
     "output_type": "stream",
     "text": [
      "9\n",
      "10\n"
     ]
    }
   ],
   "source": [
    "print(sum(range(5),-1))\n",
    "from numpy import *\n",
    "print(sum(range(5),-1))"
   ]
  },
  {
   "cell_type": "markdown",
   "id": "ebd10810",
   "metadata": {
    "id": "ebd10810"
   },
   "source": [
    "#### 27. Consider an integer vector Z, which of these expressions are legal? (★☆☆)\n",
    "```python\n",
    "Z**Z\n",
    "2 << Z >> 2\n",
    "Z <- Z\n",
    "1j*Z\n",
    "Z/1/1\n",
    "Z<Z>Z\n",
    "```"
   ]
  },
  {
   "cell_type": "code",
   "execution_count": 63,
   "id": "6ada209f",
   "metadata": {
    "colab": {
     "base_uri": "https://localhost:8080/",
     "height": 318
    },
    "id": "6ada209f",
    "outputId": "01d6b4e7-4fb5-4be5-9417-810e81964e38"
   },
   "outputs": [
    {
     "name": "stdout",
     "output_type": "stream",
     "text": [
      "[        1         1         4        27       256      3125     46656\n",
      "    823543  16777216 387420489]\n",
      "[  0   1   2   4   8  16  32  64 128 256]\n",
      "[False False False False False False False False False False]\n",
      "[0.+0.j 0.+1.j 0.+2.j 0.+3.j 0.+4.j 0.+5.j 0.+6.j 0.+7.j 0.+8.j 0.+9.j]\n",
      "[0. 1. 2. 3. 4. 5. 6. 7. 8. 9.]\n"
     ]
    },
    {
     "ename": "ValueError",
     "evalue": "The truth value of an array with more than one element is ambiguous. Use a.any() or a.all()",
     "output_type": "error",
     "traceback": [
      "\u001b[1;31m---------------------------------------------------------------------------\u001b[0m",
      "\u001b[1;31mValueError\u001b[0m                                Traceback (most recent call last)",
      "\u001b[1;32m<ipython-input-63-eca1bb766f33>\u001b[0m in \u001b[0;36m<module>\u001b[1;34m\u001b[0m\n\u001b[0;32m      5\u001b[0m \u001b[0mprint\u001b[0m\u001b[1;33m(\u001b[0m\u001b[1;36m1j\u001b[0m\u001b[1;33m*\u001b[0m\u001b[0mZ\u001b[0m\u001b[1;33m)\u001b[0m\u001b[1;33m\u001b[0m\u001b[1;33m\u001b[0m\u001b[0m\n\u001b[0;32m      6\u001b[0m \u001b[0mprint\u001b[0m\u001b[1;33m(\u001b[0m\u001b[0mZ\u001b[0m\u001b[1;33m/\u001b[0m\u001b[1;36m1\u001b[0m\u001b[1;33m/\u001b[0m\u001b[1;36m1\u001b[0m\u001b[1;33m)\u001b[0m\u001b[1;33m\u001b[0m\u001b[1;33m\u001b[0m\u001b[0m\n\u001b[1;32m----> 7\u001b[1;33m \u001b[0mprint\u001b[0m\u001b[1;33m(\u001b[0m\u001b[0mZ\u001b[0m\u001b[1;33m<\u001b[0m\u001b[0mZ\u001b[0m\u001b[1;33m>\u001b[0m\u001b[0mZ\u001b[0m\u001b[1;33m)\u001b[0m\u001b[1;33m\u001b[0m\u001b[1;33m\u001b[0m\u001b[0m\n\u001b[0m",
      "\u001b[1;31mValueError\u001b[0m: The truth value of an array with more than one element is ambiguous. Use a.any() or a.all()"
     ]
    }
   ],
   "source": [
    "Z = np.arange(10)\n",
    "print(Z**Z)\n",
    "print(2 << Z >> 2)\n",
    "print(Z <- Z) \n",
    "print(1j*Z)\n",
    "print(Z/1/1)\n",
    "print(Z<Z>Z) # illegal"
   ]
  },
  {
   "cell_type": "markdown",
   "id": "c0e940f8",
   "metadata": {
    "id": "c0e940f8"
   },
   "source": [
    "#### 28. What are the result of the following expressions? (★☆☆)\n",
    "```python\n",
    "np.array(0) / np.array(0)\n",
    "np.array(0) // np.array(0)\n",
    "np.array([np.nan]).astype(int).astype(float)\n",
    "```"
   ]
  },
  {
   "cell_type": "markdown",
   "id": "363dbdb8",
   "metadata": {},
   "source": [
    "* array 나누기는 불가하다. 하지만 //(나누기 연산 후 정수 부분만 출력)은 가능하다."
   ]
  },
  {
   "cell_type": "code",
   "execution_count": 101,
   "id": "820dc7a5",
   "metadata": {
    "colab": {
     "base_uri": "https://localhost:8080/"
    },
    "id": "820dc7a5",
    "outputId": "b8bbfc30-36c5-4114-cb65-67b94a901fae"
   },
   "outputs": [
    {
     "name": "stdout",
     "output_type": "stream",
     "text": [
      "nan\n",
      "0\n",
      "[-2.14748365e+09]\n"
     ]
    },
    {
     "name": "stderr",
     "output_type": "stream",
     "text": [
      "<ipython-input-101-2a10de0ee61b>:1: RuntimeWarning: invalid value encountered in true_divide\n",
      "  print(np.array(0) / np.array(0))\n",
      "<ipython-input-101-2a10de0ee61b>:2: RuntimeWarning: divide by zero encountered in floor_divide\n",
      "  print(np.array(0) // np.array(0))\n"
     ]
    }
   ],
   "source": [
    "print(np.array(0) / np.array(0))\n",
    "print(np.array(0) // np.array(0))\n",
    "print(np.array([np.nan]).astype(int).astype(float))"
   ]
  },
  {
   "cell_type": "markdown",
   "id": "22713c3f",
   "metadata": {
    "id": "22713c3f"
   },
   "source": [
    "#### 29. How to round away from zero a float array ? (★☆☆)"
   ]
  },
  {
   "cell_type": "markdown",
   "id": "d33970d0",
   "metadata": {},
   "source": [
    "부동 배열 0에서 반올림하는 방법?\n",
    "* 절댓값(abs)으로 바꾸고 np.ceil()을 통해 올림한다. (반올림 X)"
   ]
  },
  {
   "cell_type": "code",
   "execution_count": 102,
   "id": "a3e05c29",
   "metadata": {
    "colab": {
     "base_uri": "https://localhost:8080/"
    },
    "id": "a3e05c29",
    "outputId": "ee7b6309-ea5a-497c-96dc-2dac196ce531"
   },
   "outputs": [
    {
     "data": {
      "text/plain": [
       "array([  8.,  -1.,  10.,   1.,  -7., -10.,  -7.,  -2.,  -2.,   1.])"
      ]
     },
     "execution_count": 102,
     "metadata": {},
     "output_type": "execute_result"
    }
   ],
   "source": [
    "a = np.random.uniform(-10, 10, 10)\n",
    "np.copysign(np.ceil(np.abs(a)), a)  "
   ]
  },
  {
   "cell_type": "markdown",
   "id": "f1ae2c2d",
   "metadata": {
    "id": "f1ae2c2d"
   },
   "source": [
    "#### 30. How to find common values between two arrays? (★☆☆)"
   ]
  },
  {
   "cell_type": "markdown",
   "id": "f70b94ac",
   "metadata": {},
   "source": [
    "두 배열 사이의 공통 값을 찾는 방법\n",
    "* np.intersect1d()을 이용하여 공통원소 찾음"
   ]
  },
  {
   "cell_type": "code",
   "execution_count": 103,
   "id": "6801c73d",
   "metadata": {
    "colab": {
     "base_uri": "https://localhost:8080/"
    },
    "id": "6801c73d",
    "outputId": "1dc50f8d-2fda-47c9-c553-75dcc8d833f9"
   },
   "outputs": [
    {
     "name": "stdout",
     "output_type": "stream",
     "text": [
      "[9 1 7 5 0 0 7 2 5 5]\n",
      "[9 9 3 8 9 2 9 3 2 3]\n",
      "[2 9]\n"
     ]
    }
   ],
   "source": [
    "arr1 = np.random.randint(0, 10, 10)\n",
    "arr2 = np.random.randint(0, 10, 10)\n",
    "print(arr1)\n",
    "print(arr2)\n",
    "print(np.intersect1d(arr1, arr2)) "
   ]
  },
  {
   "cell_type": "markdown",
   "id": "34a7bdee",
   "metadata": {
    "id": "34a7bdee"
   },
   "source": [
    "#### 31. How to ignore all numpy warnings (not recommended)? (★☆☆)"
   ]
  },
  {
   "cell_type": "markdown",
   "id": "dcf04453",
   "metadata": {},
   "source": [
    "모든 numpy 경고 메시지를 무시하는 방법 (권장되지 않는 방법)\n",
    "* np.seterr() 메서드 사용 \n",
    "\n",
    "    - 부동소수점 오류 처리 방법 설정  \n",
    "\n",
    "    - 나눗셈(divide), 오버플로우(over), 언더플로우(under), 유효하지않은(invalid) 소수점에 대해 각각 처리가능  \n",
    "\n",
    "    - {무시, 경고, 에러발생, 함수호출, 경고출력, log객체에 기록}으로 처리가능  \n",
    "\n",
    "    - numpy.seterr documentation"
   ]
  },
  {
   "cell_type": "code",
   "execution_count": 67,
   "id": "befc60d1",
   "metadata": {
    "id": "befc60d1"
   },
   "outputs": [
    {
     "name": "stderr",
     "output_type": "stream",
     "text": [
      "<ipython-input-67-0d53d8b2bd1b>:11: RuntimeWarning: invalid value encountered in true_divide\n",
      "  np.arange(3) / 0\n"
     ]
    }
   ],
   "source": [
    "# all을 ignore로 설정하여 오류발생시 아무 행동도 취하지 않게 함(Suicide mode) \n",
    "defaults = np.seterr(all = \"ignore\")\n",
    "Z = np.ones(1) / 0 \n",
    "\n",
    "# 원래 상태로 되돌려 놓음\n",
    "_ = np.seterr(**defaults)       \n",
    "# (에러메세지)\n",
    "\n",
    "# 경고 표시하지 않도록 np.errstate(divide='ignore') 사용\n",
    "with np.errstate(divide='ignore'):\n",
    "    np.arange(3) / 0"
   ]
  },
  {
   "cell_type": "markdown",
   "id": "37bc0973",
   "metadata": {
    "id": "37bc0973"
   },
   "source": [
    "#### 32. Is the following expressions true? (★☆☆)\n",
    "```python\n",
    "np.sqrt(-1) == np.emath.sqrt(-1)\n",
    "```"
   ]
  },
  {
   "cell_type": "markdown",
   "id": "5f8dd5f6",
   "metadata": {},
   "source": [
    "* np.emath.sqrt(-1)은 1j로 표시되어 변수를 더 수학적으로 표현함 "
   ]
  },
  {
   "cell_type": "code",
   "execution_count": 104,
   "id": "c70cbabe",
   "metadata": {
    "colab": {
     "base_uri": "https://localhost:8080/"
    },
    "id": "c70cbabe",
    "outputId": "a09a6198-c5a3-4b24-ea34-002242449a81"
   },
   "outputs": [
    {
     "name": "stdout",
     "output_type": "stream",
     "text": [
      "nan\n",
      "1j\n",
      "False\n"
     ]
    },
    {
     "name": "stderr",
     "output_type": "stream",
     "text": [
      "<ipython-input-104-d41fcb2e2eaf>:1: RuntimeWarning: invalid value encountered in sqrt\n",
      "  print(np.sqrt(-1))\n",
      "<ipython-input-104-d41fcb2e2eaf>:3: RuntimeWarning: invalid value encountered in sqrt\n",
      "  print(np.sqrt(-1) == np.emath.sqrt(-1))\n"
     ]
    }
   ],
   "source": [
    "print(np.sqrt(-1))\n",
    "print(np.emath.sqrt(-1))\n",
    "print(np.sqrt(-1) == np.emath.sqrt(-1))"
   ]
  },
  {
   "cell_type": "markdown",
   "id": "129c342d",
   "metadata": {
    "id": "129c342d"
   },
   "source": [
    "#### 33. How to get the dates of yesterday, today and tomorrow? (★☆☆)"
   ]
  },
  {
   "cell_type": "markdown",
   "id": "7eca92e2",
   "metadata": {},
   "source": [
    "어제, 오늘, 내일의 날짜를 어떻게 알 수 있나요?\n",
    "* np.datetime64()메서드와 np.timedelta64() 메서드 사용\n",
    "    * 오늘날짜 : np.datetime64('today', 'D')\n",
    "    * 오늘을 기준으로 np.timedelta64()만큼의 연산을 통해 날짜 이동\n",
    "    * np.timedelta64(1, 'D')라면 1일을 뜻한다. ('M'은 n달, 'Y'는 n년)"
   ]
  },
  {
   "cell_type": "code",
   "execution_count": null,
   "id": "8ba1badb",
   "metadata": {
    "colab": {
     "base_uri": "https://localhost:8080/"
    },
    "id": "8ba1badb",
    "outputId": "4d3280c1-ac19-4cdd-a7bf-3360ba688ed4"
   },
   "outputs": [
    {
     "name": "stdout",
     "output_type": "stream",
     "text": [
      "2022-03-13 2022-03-14 2022-03-15\n"
     ]
    }
   ],
   "source": [
    "yesterday = np.datetime64('today','D') - np.timedelta64(1,'D')\n",
    "today = np.datetime64('today','D')\n",
    "tomorrow = np.datetime64('today','D') + np.timedelta64(1,'D')\n",
    "print(yesterday, today, tomorrow)"
   ]
  },
  {
   "cell_type": "markdown",
   "id": "42f8b2f9",
   "metadata": {
    "id": "42f8b2f9"
   },
   "source": [
    "#### 34. How to get all the dates corresponding to the month of July 2016? (★★☆)"
   ]
  },
  {
   "cell_type": "markdown",
   "id": "ea0aaf90",
   "metadata": {
    "id": "AnsrJ6iURKJ3"
   },
   "source": [
    "2016년 7월에 해당하는 모든 날짜를 어떻게 구하나요?\n",
    "* np.arange()를 통해 해당 범위를 순서대로 나열하고, type을 datetime64[D]로 맞추어준다."
   ]
  },
  {
   "cell_type": "code",
   "execution_count": 3,
   "id": "eb8ebe45",
   "metadata": {
    "colab": {
     "base_uri": "https://localhost:8080/"
    },
    "id": "eb8ebe45",
    "outputId": "e169bc00-f37d-4a9b-b1d3-48f7c4707681"
   },
   "outputs": [
    {
     "name": "stdout",
     "output_type": "stream",
     "text": [
      "['2016-07-01' '2016-07-02' '2016-07-03' '2016-07-04' '2016-07-05'\n",
      " '2016-07-06' '2016-07-07' '2016-07-08' '2016-07-09' '2016-07-10'\n",
      " '2016-07-11' '2016-07-12' '2016-07-13' '2016-07-14' '2016-07-15'\n",
      " '2016-07-16' '2016-07-17' '2016-07-18' '2016-07-19' '2016-07-20'\n",
      " '2016-07-21' '2016-07-22' '2016-07-23' '2016-07-24' '2016-07-25'\n",
      " '2016-07-26' '2016-07-27' '2016-07-28' '2016-07-29' '2016-07-30'\n",
      " '2016-07-31']\n"
     ]
    }
   ],
   "source": [
    "data = np.arange('2016-07','2016-08', dtype='datetime64[D]') \n",
    "print(data)"
   ]
  },
  {
   "cell_type": "markdown",
   "id": "252c43e2",
   "metadata": {
    "id": "252c43e2"
   },
   "source": [
    "#### 35. How to compute ((A+B)*(-A/2)) in place (without copy)? (★★☆)"
   ]
  },
  {
   "cell_type": "markdown",
   "id": "e5cf4af6",
   "metadata": {},
   "source": [
    "복사 없이 (A+B)*(-A/2)를 계산하는 방법은 무엇입니까?\n",
    "* numpy의 연산메서드를 활용하여 복사없이 할당하는 방법으로 진행한다."
   ]
  },
  {
   "cell_type": "code",
   "execution_count": 69,
   "id": "f06ff615",
   "metadata": {
    "colab": {
     "base_uri": "https://localhost:8080/"
    },
    "id": "f06ff615",
    "outputId": "6cbeb0b1-e714-40ba-fe80-04cd2995a749"
   },
   "outputs": [
    {
     "name": "stdout",
     "output_type": "stream",
     "text": [
      "[-1.5 -1.5 -1.5]\n"
     ]
    }
   ],
   "source": [
    "A = np.ones(3)*1 \n",
    "B = np.ones(3)*2 \n",
    "np.add(A,B, out=B) # A+B의 결과를 B에 할당해놓음\n",
    "np.divide(A, 2, out=A) # A/2의 결과를 A에 할당해놓음\n",
    "np.negative(A, out=A) # -(A/2)의 결과를 A에 할당해놓음   \n",
    "np.multiply(A,B,out=A) # (A+B)*(-A/2)와 같은 결과 \n",
    "print(A)"
   ]
  },
  {
   "cell_type": "markdown",
   "id": "486df8ea",
   "metadata": {
    "id": "486df8ea"
   },
   "source": [
    "#### 36. Extract the integer part of a random array of positive numbers using 4 different methods (★★☆)"
   ]
  },
  {
   "cell_type": "markdown",
   "id": "ac0c7645",
   "metadata": {},
   "source": [
    "4가지 다른 방법을 사용하여 양의 무작위 원소 배열에서 정수 부분을 추출\n",
    "* 총 5가지 방법이 있음\n",
    "    * 배열을 1로 나눈 나머지를 빼서 정수부분 구하기\n",
    "    * np.floor()를 이용하여 내림\n",
    "    * np.ceil()를 이용하여 올림\n",
    "    * .astype(int)를 이용하여 데이터타입을 integer로 변환\n",
    "    * np.trunc()를 이용하여 소숫자리를 자른 뒤 value 표시"
   ]
  },
  {
   "cell_type": "code",
   "execution_count": 70,
   "id": "34b4fa08",
   "metadata": {
    "colab": {
     "base_uri": "https://localhost:8080/"
    },
    "id": "34b4fa08",
    "outputId": "d713a0ed-5eb7-4729-9cef-db66dd76815f"
   },
   "outputs": [
    {
     "name": "stdout",
     "output_type": "stream",
     "text": [
      "[0. 3. 3. 1. 1. 9. 0. 9. 7. 9.]\n",
      "[ 7. -9. -2. -1. -8.  3.  0. -2. -7.  6.]\n",
      "[ 1.  4.  4.  2.  2. 10.  1. 10.  8. 10.]\n",
      "[0 3 3 1 1 9 0 9 7 9]\n",
      "[0. 3. 3. 1. 1. 9. 0. 9. 7. 9.]\n"
     ]
    }
   ],
   "source": [
    "z = np.random.uniform(0,10,10) # 양수의 무작위 원소 배열\n",
    "print(z - z%1)\n",
    "print(np.floor(a)) \n",
    "print(np.ceil(z)) \n",
    "print(z.astype(int))\n",
    "print(np.trunc(z))"
   ]
  },
  {
   "cell_type": "markdown",
   "id": "649e89f9",
   "metadata": {
    "id": "649e89f9"
   },
   "source": [
    "#### 37. Create a 5x5 matrix with row values ranging from 0 to 4 (★★☆)"
   ]
  },
  {
   "cell_type": "markdown",
   "id": "b205856f",
   "metadata": {},
   "source": [
    "0 ~ 4 범위의 행 값을 사용하여 5x5 행렬 만들기\n",
    "* np.zeros()로 5x5행렬 만든다음, np.arange(5) 행을 더해주기"
   ]
  },
  {
   "cell_type": "code",
   "execution_count": 105,
   "id": "663cc611",
   "metadata": {
    "colab": {
     "base_uri": "https://localhost:8080/"
    },
    "id": "663cc611",
    "outputId": "4056e4a2-67d4-48ac-eb3a-381ada759639"
   },
   "outputs": [
    {
     "name": "stdout",
     "output_type": "stream",
     "text": [
      "[[0. 1. 2. 3. 4.]\n",
      " [0. 1. 2. 3. 4.]\n",
      " [0. 1. 2. 3. 4.]\n",
      " [0. 1. 2. 3. 4.]\n",
      " [0. 1. 2. 3. 4.]]\n"
     ]
    }
   ],
   "source": [
    "z = np.zeros((5,5)) \n",
    "z += np.arange(5) \n",
    "print(z)"
   ]
  },
  {
   "cell_type": "markdown",
   "id": "3421e17f",
   "metadata": {
    "id": "3421e17f"
   },
   "source": [
    "#### 38. Consider a generator function that generates 10 integers and use it to build an array (★☆☆)"
   ]
  },
  {
   "cell_type": "markdown",
   "id": "edf9a831",
   "metadata": {},
   "source": [
    "10개의 정수를 생성하는 생성자 함수 만들고 이 함수 사용하여 배열 만들기\n",
    "* python의 generator 사용\n",
    "* return 대신 yield 사용(return은 그 순간 함수 종료, yeild는 잠깐 대기한 뒤 다시 실행)\n",
    "* np.fromiter()는 순환할 수 있는 객체로 1차원 배열 생성하는 함수 "
   ]
  },
  {
   "cell_type": "code",
   "execution_count": 106,
   "id": "7336b8e4",
   "metadata": {
    "colab": {
     "base_uri": "https://localhost:8080/"
    },
    "id": "7336b8e4",
    "outputId": "36eef959-d69d-4402-e82b-2b859b528daa"
   },
   "outputs": [
    {
     "name": "stdout",
     "output_type": "stream",
     "text": [
      "[0. 1. 2. 3. 4. 5. 6. 7. 8. 9.]\n"
     ]
    }
   ],
   "source": [
    "def generate():\n",
    "   for x in range(10): \n",
    "     yield x \n",
    "     \n",
    "Z = np.fromiter(generate(), dtype = float, count = -1) \n",
    "print(Z)"
   ]
  },
  {
   "cell_type": "markdown",
   "id": "483dd554",
   "metadata": {
    "id": "483dd554"
   },
   "source": [
    "#### 39. Create a vector of size 10 with values ranging from 0 to 1, both excluded (★★☆)"
   ]
  },
  {
   "cell_type": "markdown",
   "id": "e56b633f",
   "metadata": {},
   "source": [
    "0에서 1 사이의 값(둘 다 제외됨)으로 크기가 10인 벡터를 만듭니다.\n",
    "* np.linspace(endpoint=False)를 통해 0~1 사이의 값으로 배열을 만듦\n",
    "    * endpoint=False는 마지막 숫자를 지정한 값이 아닌 다른 숫자로 변환\n",
    "    * 인덱스 ([1:])로 첫번째 벡터 제외하여 10개 원소 배열로 변환 "
   ]
  },
  {
   "cell_type": "code",
   "execution_count": 107,
   "id": "c89b93e7",
   "metadata": {
    "colab": {
     "base_uri": "https://localhost:8080/"
    },
    "id": "c89b93e7",
    "outputId": "bc3cd781-261f-40f2-f858-0e529a8de165"
   },
   "outputs": [
    {
     "name": "stdout",
     "output_type": "stream",
     "text": [
      "[-0.0405349   9.85356173  0.26900294 -6.24683109 -9.53051543 -6.78351627\n",
      " -1.25862333 -1.11186694  0.54801236]\n"
     ]
    }
   ],
   "source": [
    "z = np.linspace(0,1,11, endpoint=False)\n",
    "print(a[1:])"
   ]
  },
  {
   "cell_type": "markdown",
   "id": "2d07be1c",
   "metadata": {
    "id": "2d07be1c"
   },
   "source": [
    "#### 40. Create a random vector of size 10 and sort it (★★☆)"
   ]
  },
  {
   "cell_type": "code",
   "execution_count": 75,
   "id": "4f7cb3ad",
   "metadata": {
    "colab": {
     "base_uri": "https://localhost:8080/"
    },
    "id": "4f7cb3ad",
    "outputId": "2d2640a4-8013-470c-dfd5-15559678ad64"
   },
   "outputs": [
    {
     "name": "stdout",
     "output_type": "stream",
     "text": [
      "[0.00919581 0.10994617 0.18987616 0.22473971 0.32193122 0.38359806\n",
      " 0.49903603 0.56600007 0.77695468 0.89573726]\n"
     ]
    }
   ],
   "source": [
    "z = np.random.random(10)\n",
    "z.sort()\n",
    "print(z)"
   ]
  },
  {
   "cell_type": "markdown",
   "id": "6415f02e",
   "metadata": {
    "id": "6415f02e"
   },
   "source": [
    "#### 41. How to sum a small array faster than np.sum? (★★☆)"
   ]
  },
  {
   "cell_type": "markdown",
   "id": "49a2e827",
   "metadata": {},
   "source": [
    "어떻게 작은 배열을 np.sum보다 더 빨리 합칠 수 있을까요?\n",
    "* np.add.reduce() 사용\n",
    "    * np.sum()의 경우 np.add.reduce()를 호출하여 사용하기 때문에 더 시간이 오래걸림\n",
    "    * 작은 배열의 경우 np.add.reduce()가 더 빠름 (배열이 커지면 그 차이는 줄어듦)"
   ]
  },
  {
   "cell_type": "code",
   "execution_count": 76,
   "id": "bb0dd942",
   "metadata": {
    "colab": {
     "base_uri": "https://localhost:8080/"
    },
    "id": "bb0dd942",
    "outputId": "56eb74d0-da4d-4c72-f901-0c0d06ab7572"
   },
   "outputs": [
    {
     "name": "stdout",
     "output_type": "stream",
     "text": [
      "45\n"
     ]
    }
   ],
   "source": [
    "A = np.arange(10)\n",
    "print(np.add.reduce(A))"
   ]
  },
  {
   "cell_type": "markdown",
   "id": "fe043549",
   "metadata": {
    "id": "fe043549"
   },
   "source": [
    "#### 42. Consider two random array A and B, check if they are equal (★★☆)"
   ]
  },
  {
   "cell_type": "markdown",
   "id": "b2e22973",
   "metadata": {},
   "source": [
    "* 두 배열이 같은지 확인하는 방법\n",
    "    * np.allclose()\n",
    "    * np.array_equal()"
   ]
  },
  {
   "cell_type": "code",
   "execution_count": 77,
   "id": "3326a686",
   "metadata": {
    "colab": {
     "base_uri": "https://localhost:8080/"
    },
    "id": "3326a686",
    "outputId": "273f2b46-05fa-45f6-a53e-85cf9e1dddb5"
   },
   "outputs": [
    {
     "name": "stdout",
     "output_type": "stream",
     "text": [
      "False\n",
      "False\n"
     ]
    }
   ],
   "source": [
    "a = np.random.randint(0,2,5) \n",
    "b = np.random.randint(0,2,5) \n",
    "print(np.allclose(a, b))\n",
    "print(np.array_equal(a, b))"
   ]
  },
  {
   "cell_type": "markdown",
   "id": "cc08f71c",
   "metadata": {
    "id": "cc08f71c"
   },
   "source": [
    "#### 43. Make an array immutable (read-only) (★★☆)"
   ]
  },
  {
   "cell_type": "markdown",
   "id": "23a3cae5",
   "metadata": {},
   "source": [
    "배열을 변경할 수 없도록 설정(읽기 전용)\n",
    "* .flags.writeable = False로 설정"
   ]
  },
  {
   "cell_type": "code",
   "execution_count": 108,
   "id": "19138597",
   "metadata": {},
   "outputs": [
    {
     "ename": "ValueError",
     "evalue": "assignment destination is read-only",
     "output_type": "error",
     "traceback": [
      "\u001b[1;31m---------------------------------------------------------------------------\u001b[0m",
      "\u001b[1;31mValueError\u001b[0m                                Traceback (most recent call last)",
      "\u001b[1;32m<ipython-input-108-c38c65da14ef>\u001b[0m in \u001b[0;36m<module>\u001b[1;34m\u001b[0m\n\u001b[0;32m      2\u001b[0m \u001b[0mz\u001b[0m\u001b[1;33m.\u001b[0m\u001b[0mflags\u001b[0m\u001b[1;33m.\u001b[0m\u001b[0mwriteable\u001b[0m \u001b[1;33m=\u001b[0m \u001b[1;32mFalse\u001b[0m\u001b[1;33m\u001b[0m\u001b[1;33m\u001b[0m\u001b[0m\n\u001b[0;32m      3\u001b[0m \u001b[1;31m# 값 변경 시도\u001b[0m\u001b[1;33m\u001b[0m\u001b[1;33m\u001b[0m\u001b[1;33m\u001b[0m\u001b[0m\n\u001b[1;32m----> 4\u001b[1;33m \u001b[0mz\u001b[0m\u001b[1;33m[\u001b[0m\u001b[1;36m0\u001b[0m\u001b[1;33m]\u001b[0m \u001b[1;33m=\u001b[0m \u001b[1;36m1\u001b[0m\u001b[1;33m\u001b[0m\u001b[1;33m\u001b[0m\u001b[0m\n\u001b[0m",
      "\u001b[1;31mValueError\u001b[0m: assignment destination is read-only"
     ]
    }
   ],
   "source": [
    "z = np.zeros(10)\n",
    "z.flags.writeable = False\n",
    "# 값 변경 시도\n",
    "z[0] = 1"
   ]
  },
  {
   "cell_type": "markdown",
   "id": "2002cb03",
   "metadata": {
    "id": "2002cb03"
   },
   "source": [
    "#### 44. Consider a random 10x2 matrix representing cartesian coordinates, convert them to polar coordinates (★★☆)"
   ]
  },
  {
   "cell_type": "markdown",
   "id": "896e8c55",
   "metadata": {},
   "source": [
    "데카르트 좌표를 나타내는 임의의 10x2 행렬을 고려하여 극좌표로 변환합니다.\n",
    "* 데카르트 좌표\n",
    "* 극좌표계 "
   ]
  },
  {
   "cell_type": "code",
   "execution_count": 80,
   "id": "58be72bc",
   "metadata": {
    "id": "58be72bc"
   },
   "outputs": [
    {
     "name": "stdout",
     "output_type": "stream",
     "text": [
      "[0.9524494  0.9013162  0.54566036 0.59105183 1.04852843 0.5654033\n",
      " 0.82524516 0.29352089 0.96299764 1.16991871]\n",
      "[0.08952152 1.17317446 0.6406374  1.12300101 0.6679238  0.36709901\n",
      " 1.15097443 0.14395386 0.22784899 0.6450096 ]\n"
     ]
    }
   ],
   "source": [
    "z = np.random.random((10, 2))\n",
    "x, y = z[:,0], z[:,1] #x와 y에 각각 0열, 1열 할당\n",
    "r = np.sqrt(x ** 2 + y ** 2) # 데카르트 좌표로 표현\n",
    "p = np.arctan2(y, x) # 극좌표계표현\n",
    "print(r)\n",
    "print(p)"
   ]
  },
  {
   "cell_type": "markdown",
   "id": "b7109c9f",
   "metadata": {
    "id": "b7109c9f"
   },
   "source": [
    "#### 45. Create random vector of size 10 and replace the maximum value by 0 (★★☆)"
   ]
  },
  {
   "cell_type": "markdown",
   "id": "bca533dd",
   "metadata": {},
   "source": [
    "크기가 10인 랜덤 벡터를 생성하고 최대값을 찾아 0으로 바꿉니다.\n",
    "* np.argmax()로 해당위치(인덱스) 찾을 수 있음"
   ]
  },
  {
   "cell_type": "code",
   "execution_count": 109,
   "id": "f79e79a7",
   "metadata": {
    "id": "f79e79a7"
   },
   "outputs": [
    {
     "name": "stdout",
     "output_type": "stream",
     "text": [
      "[0.62459044 0.90307956 0.60841084 0.15120176 0.53020843 0.63192947\n",
      " 0.97051101 0.10169991 0.19216989 0.23989065]\n",
      "[0.62459044 0.90307956 0.60841084 0.15120176 0.53020843 0.63192947\n",
      " 0.         0.10169991 0.19216989 0.23989065]\n"
     ]
    }
   ],
   "source": [
    "z = np.random.random(10)\n",
    "print(z)\n",
    "# 최대값 찾아 0으로 바꿈\n",
    "z[np.argmax(z)] = 0\n",
    "print(z)"
   ]
  },
  {
   "cell_type": "markdown",
   "id": "7d3131b9",
   "metadata": {
    "id": "7d3131b9"
   },
   "source": [
    "#### 46. Create a structured array with `x` and `y` coordinates covering the [0,1]x[0,1] area (★★☆)"
   ]
  },
  {
   "cell_type": "markdown",
   "id": "3252f42e",
   "metadata": {},
   "source": [
    "* [0,1]x[0,1] 영역을 커버하는 x 및 y 좌표를 갖는 구조화된 배열을 생성\n",
    "* 그리드포인트(x,y) 생성하여 함수 값 계산\n",
    "* np.meshgrid()를 통해 사각형 영역 구성하는 x축 및 y축 값을 인수로 받아 사각형 영역조합을 출력"
   ]
  },
  {
   "cell_type": "code",
   "execution_count": 83,
   "id": "4f471afe",
   "metadata": {
    "id": "4f471afe"
   },
   "outputs": [
    {
     "name": "stdout",
     "output_type": "stream",
     "text": [
      "[[(0., 0.) (0., 0.) (0., 0.) (0., 0.) (0., 0.)]\n",
      " [(0., 0.) (0., 0.) (0., 0.) (0., 0.) (0., 0.)]\n",
      " [(0., 0.) (0., 0.) (0., 0.) (0., 0.) (0., 0.)]\n",
      " [(0., 0.) (0., 0.) (0., 0.) (0., 0.) (0., 0.)]\n",
      " [(0., 0.) (0., 0.) (0., 0.) (0., 0.) (0., 0.)]]\n",
      "[[(0.  , 0.  ) (0.25, 0.  ) (0.5 , 0.  ) (0.75, 0.  ) (1.  , 0.  )]\n",
      " [(0.  , 0.25) (0.25, 0.25) (0.5 , 0.25) (0.75, 0.25) (1.  , 0.25)]\n",
      " [(0.  , 0.5 ) (0.25, 0.5 ) (0.5 , 0.5 ) (0.75, 0.5 ) (1.  , 0.5 )]\n",
      " [(0.  , 0.75) (0.25, 0.75) (0.5 , 0.75) (0.75, 0.75) (1.  , 0.75)]\n",
      " [(0.  , 1.  ) (0.25, 1.  ) (0.5 , 1.  ) (0.75, 1.  ) (1.  , 1.  )]]\n"
     ]
    }
   ],
   "source": [
    "# np.zeros()를 통해 (x, y)형태의 빈 array 생성\n",
    "z = np.zeros((5,5), [('x',float),('y',float)])\n",
    "print(z)\n",
    "\n",
    "# np.linspace()로 생성한 value들을 np.meshgrid를 통해 그리드포인트로 삽입\n",
    "z['x'], z['y'] = np.meshgrid(np.linspace(0,1,5), np.linspace(0,1,5))\n",
    "print(z)"
   ]
  },
  {
   "cell_type": "code",
   "execution_count": 84,
   "id": "e33a31bf",
   "metadata": {},
   "outputs": [
    {
     "data": {
      "image/png": "[encoded data removed]",
      "text/plain": [
       "<Figure size 432x288 with 1 Axes>"
      ]
     },
     "metadata": {
      "needs_background": "light"
     },
     "output_type": "display_data"
    }
   ],
   "source": [
    "# 추가 - meshgrid시각화\n",
    "import matplotlib.pyplot as plt\n",
    "plt.scatter(z['x'],z['y'])\n",
    "plt.grid()"
   ]
  },
  {
   "cell_type": "markdown",
   "id": "7c8c1fc5",
   "metadata": {
    "id": "7c8c1fc5"
   },
   "source": [
    "#### 47. Given two arrays, X and Y, construct the Cauchy matrix C (Cij =1/(xi - yj)) (★★☆)"
   ]
  },
  {
   "cell_type": "markdown",
   "id": "f046292f",
   "metadata": {},
   "source": [
    "X, Y 두 배열이 주어지면, Cauchy matrix를 만드시오\n",
    "* np.subtract(A,B) 는 A-B를 의미함  \n",
    "  \n",
    "* np.subtract.outer(A,B)를 하면  \n",
    "\n",
    "[[A1-B1 A1-B2 A1-B3]\n",
    "\n",
    "[ A2-B1 A2-B2 A2-B3]  \n",
    "\n",
    "[ A3-B1  A3-B2 A3-B3]]  \n",
    "\n",
    "으로 각각의 i,j에 해당하는 성분을 추출하여 뺀다.  \n",
    "\n",
    "* Linalg는 linearAlgebra를 말한다.  \n",
    "\n",
    "* det는 matrix의 determinant of an array를 계산한다."
   ]
  },
  {
   "cell_type": "code",
   "execution_count": 85,
   "id": "8fac7d28",
   "metadata": {
    "id": "8fac7d28"
   },
   "outputs": [
    {
     "name": "stdout",
     "output_type": "stream",
     "text": [
      "3638.1636371179666\n"
     ]
    }
   ],
   "source": [
    "X = np.arange(8)\n",
    "Y = X + 0.5\n",
    "C = 1.0 / np.subtract.outer(X, Y)\n",
    "print(np.linalg.det(C))"
   ]
  },
  {
   "cell_type": "markdown",
   "id": "5795b4bd",
   "metadata": {
    "id": "5795b4bd"
   },
   "source": [
    "#### 48. Print the minimum and maximum representable value for each numpy scalar type (★★☆)"
   ]
  },
  {
   "cell_type": "markdown",
   "id": "4c7a2435",
   "metadata": {},
   "source": [
    "각 데이터 타입 별 표시할 수 있는 최소 및 최대 값을 출력하라\n",
    "* iinfo()는 int에 대한 정보\n",
    "* finfo()는 float에 대한 정보\n",
    "* .eps는 표현가능한 가장 작은 값을 반환\n"
   ]
  },
  {
   "cell_type": "code",
   "execution_count": 87,
   "id": "b721f7ca",
   "metadata": {
    "id": "b721f7ca"
   },
   "outputs": [
    {
     "name": "stdout",
     "output_type": "stream",
     "text": [
      "-128\n",
      "127\n",
      "-2147483648\n",
      "2147483647\n",
      "-9223372036854775808\n",
      "9223372036854775807\n"
     ]
    }
   ],
   "source": [
    "for dtype in [np.int8, np.int32, np.int64]:\n",
    "    print(np.iinfo(dtype).min)\n",
    "    print(np.iinfo(dtype).max)"
   ]
  },
  {
   "cell_type": "code",
   "execution_count": 88,
   "id": "95bf53af",
   "metadata": {},
   "outputs": [
    {
     "name": "stdout",
     "output_type": "stream",
     "text": [
      "-3.4028235e+38\n",
      "3.4028235e+38\n",
      "1.1920929e-07\n",
      "-1.7976931348623157e+308\n",
      "1.7976931348623157e+308\n",
      "2.220446049250313e-16\n"
     ]
    }
   ],
   "source": [
    "for dtype in [np.float32, np.float64]:\n",
    "    print(np.finfo(dtype).min)\n",
    "    print(np.finfo(dtype).max)\n",
    "    print(np.finfo(dtype).eps)"
   ]
  },
  {
   "cell_type": "markdown",
   "id": "fb24674c",
   "metadata": {
    "id": "fb24674c"
   },
   "source": [
    "#### 49. How to print all the values of an array? (★★☆)"
   ]
  },
  {
   "cell_type": "markdown",
   "id": "f432924f",
   "metadata": {},
   "source": [
    "배열의 모든 값을 인쇄하는 방법은 무엇입니까?\n",
    "* np.set_printoptions(threshold=float(\"inf\"))로 설정한다.\n",
    " * threshold는 요약을 하는 배열 요소의 총 수를 나타냄 float(\"inf\")로 설정하면 요약없이 사용한다는 뜻"
   ]
  },
  {
   "cell_type": "code",
   "execution_count": 89,
   "id": "c81f1456",
   "metadata": {
    "id": "c81f1456"
   },
   "outputs": [
    {
     "name": "stdout",
     "output_type": "stream",
     "text": [
      "[[0. 0. 0. ... 0. 0. 0.]\n",
      " [0. 0. 0. ... 0. 0. 0.]\n",
      " [0. 0. 0. ... 0. 0. 0.]\n",
      " ...\n",
      " [0. 0. 0. ... 0. 0. 0.]\n",
      " [0. 0. 0. ... 0. 0. 0.]\n",
      " [0. 0. 0. ... 0. 0. 0.]]\n"
     ]
    }
   ],
   "source": [
    "z = np.zeros((32, 32))\n",
    "print(z)"
   ]
  },
  {
   "cell_type": "code",
   "execution_count": 91,
   "id": "066486f7",
   "metadata": {},
   "outputs": [
    {
     "name": "stdout",
     "output_type": "stream",
     "text": [
      "[[0. 0. 0. 0. 0. 0. 0. 0. 0. 0. 0. 0. 0. 0. 0. 0. 0. 0. 0. 0. 0. 0. 0. 0.\n",
      "  0. 0. 0. 0. 0. 0. 0. 0.]\n",
      " [0. 0. 0. 0. 0. 0. 0. 0. 0. 0. 0. 0. 0. 0. 0. 0. 0. 0. 0. 0. 0. 0. 0. 0.\n",
      "  0. 0. 0. 0. 0. 0. 0. 0.]\n",
      " [0. 0. 0. 0. 0. 0. 0. 0. 0. 0. 0. 0. 0. 0. 0. 0. 0. 0. 0. 0. 0. 0. 0. 0.\n",
      "  0. 0. 0. 0. 0. 0. 0. 0.]\n",
      " [0. 0. 0. 0. 0. 0. 0. 0. 0. 0. 0. 0. 0. 0. 0. 0. 0. 0. 0. 0. 0. 0. 0. 0.\n",
      "  0. 0. 0. 0. 0. 0. 0. 0.]\n",
      " [0. 0. 0. 0. 0. 0. 0. 0. 0. 0. 0. 0. 0. 0. 0. 0. 0. 0. 0. 0. 0. 0. 0. 0.\n",
      "  0. 0. 0. 0. 0. 0. 0. 0.]\n",
      " [0. 0. 0. 0. 0. 0. 0. 0. 0. 0. 0. 0. 0. 0. 0. 0. 0. 0. 0. 0. 0. 0. 0. 0.\n",
      "  0. 0. 0. 0. 0. 0. 0. 0.]\n",
      " [0. 0. 0. 0. 0. 0. 0. 0. 0. 0. 0. 0. 0. 0. 0. 0. 0. 0. 0. 0. 0. 0. 0. 0.\n",
      "  0. 0. 0. 0. 0. 0. 0. 0.]\n",
      " [0. 0. 0. 0. 0. 0. 0. 0. 0. 0. 0. 0. 0. 0. 0. 0. 0. 0. 0. 0. 0. 0. 0. 0.\n",
      "  0. 0. 0. 0. 0. 0. 0. 0.]\n",
      " [0. 0. 0. 0. 0. 0. 0. 0. 0. 0. 0. 0. 0. 0. 0. 0. 0. 0. 0. 0. 0. 0. 0. 0.\n",
      "  0. 0. 0. 0. 0. 0. 0. 0.]\n",
      " [0. 0. 0. 0. 0. 0. 0. 0. 0. 0. 0. 0. 0. 0. 0. 0. 0. 0. 0. 0. 0. 0. 0. 0.\n",
      "  0. 0. 0. 0. 0. 0. 0. 0.]\n",
      " [0. 0. 0. 0. 0. 0. 0. 0. 0. 0. 0. 0. 0. 0. 0. 0. 0. 0. 0. 0. 0. 0. 0. 0.\n",
      "  0. 0. 0. 0. 0. 0. 0. 0.]\n",
      " [0. 0. 0. 0. 0. 0. 0. 0. 0. 0. 0. 0. 0. 0. 0. 0. 0. 0. 0. 0. 0. 0. 0. 0.\n",
      "  0. 0. 0. 0. 0. 0. 0. 0.]\n",
      " [0. 0. 0. 0. 0. 0. 0. 0. 0. 0. 0. 0. 0. 0. 0. 0. 0. 0. 0. 0. 0. 0. 0. 0.\n",
      "  0. 0. 0. 0. 0. 0. 0. 0.]\n",
      " [0. 0. 0. 0. 0. 0. 0. 0. 0. 0. 0. 0. 0. 0. 0. 0. 0. 0. 0. 0. 0. 0. 0. 0.\n",
      "  0. 0. 0. 0. 0. 0. 0. 0.]\n",
      " [0. 0. 0. 0. 0. 0. 0. 0. 0. 0. 0. 0. 0. 0. 0. 0. 0. 0. 0. 0. 0. 0. 0. 0.\n",
      "  0. 0. 0. 0. 0. 0. 0. 0.]\n",
      " [0. 0. 0. 0. 0. 0. 0. 0. 0. 0. 0. 0. 0. 0. 0. 0. 0. 0. 0. 0. 0. 0. 0. 0.\n",
      "  0. 0. 0. 0. 0. 0. 0. 0.]\n",
      " [0. 0. 0. 0. 0. 0. 0. 0. 0. 0. 0. 0. 0. 0. 0. 0. 0. 0. 0. 0. 0. 0. 0. 0.\n",
      "  0. 0. 0. 0. 0. 0. 0. 0.]\n",
      " [0. 0. 0. 0. 0. 0. 0. 0. 0. 0. 0. 0. 0. 0. 0. 0. 0. 0. 0. 0. 0. 0. 0. 0.\n",
      "  0. 0. 0. 0. 0. 0. 0. 0.]\n",
      " [0. 0. 0. 0. 0. 0. 0. 0. 0. 0. 0. 0. 0. 0. 0. 0. 0. 0. 0. 0. 0. 0. 0. 0.\n",
      "  0. 0. 0. 0. 0. 0. 0. 0.]\n",
      " [0. 0. 0. 0. 0. 0. 0. 0. 0. 0. 0. 0. 0. 0. 0. 0. 0. 0. 0. 0. 0. 0. 0. 0.\n",
      "  0. 0. 0. 0. 0. 0. 0. 0.]\n",
      " [0. 0. 0. 0. 0. 0. 0. 0. 0. 0. 0. 0. 0. 0. 0. 0. 0. 0. 0. 0. 0. 0. 0. 0.\n",
      "  0. 0. 0. 0. 0. 0. 0. 0.]\n",
      " [0. 0. 0. 0. 0. 0. 0. 0. 0. 0. 0. 0. 0. 0. 0. 0. 0. 0. 0. 0. 0. 0. 0. 0.\n",
      "  0. 0. 0. 0. 0. 0. 0. 0.]\n",
      " [0. 0. 0. 0. 0. 0. 0. 0. 0. 0. 0. 0. 0. 0. 0. 0. 0. 0. 0. 0. 0. 0. 0. 0.\n",
      "  0. 0. 0. 0. 0. 0. 0. 0.]\n",
      " [0. 0. 0. 0. 0. 0. 0. 0. 0. 0. 0. 0. 0. 0. 0. 0. 0. 0. 0. 0. 0. 0. 0. 0.\n",
      "  0. 0. 0. 0. 0. 0. 0. 0.]\n",
      " [0. 0. 0. 0. 0. 0. 0. 0. 0. 0. 0. 0. 0. 0. 0. 0. 0. 0. 0. 0. 0. 0. 0. 0.\n",
      "  0. 0. 0. 0. 0. 0. 0. 0.]\n",
      " [0. 0. 0. 0. 0. 0. 0. 0. 0. 0. 0. 0. 0. 0. 0. 0. 0. 0. 0. 0. 0. 0. 0. 0.\n",
      "  0. 0. 0. 0. 0. 0. 0. 0.]\n",
      " [0. 0. 0. 0. 0. 0. 0. 0. 0. 0. 0. 0. 0. 0. 0. 0. 0. 0. 0. 0. 0. 0. 0. 0.\n",
      "  0. 0. 0. 0. 0. 0. 0. 0.]\n",
      " [0. 0. 0. 0. 0. 0. 0. 0. 0. 0. 0. 0. 0. 0. 0. 0. 0. 0. 0. 0. 0. 0. 0. 0.\n",
      "  0. 0. 0. 0. 0. 0. 0. 0.]\n",
      " [0. 0. 0. 0. 0. 0. 0. 0. 0. 0. 0. 0. 0. 0. 0. 0. 0. 0. 0. 0. 0. 0. 0. 0.\n",
      "  0. 0. 0. 0. 0. 0. 0. 0.]\n",
      " [0. 0. 0. 0. 0. 0. 0. 0. 0. 0. 0. 0. 0. 0. 0. 0. 0. 0. 0. 0. 0. 0. 0. 0.\n",
      "  0. 0. 0. 0. 0. 0. 0. 0.]\n",
      " [0. 0. 0. 0. 0. 0. 0. 0. 0. 0. 0. 0. 0. 0. 0. 0. 0. 0. 0. 0. 0. 0. 0. 0.\n",
      "  0. 0. 0. 0. 0. 0. 0. 0.]\n",
      " [0. 0. 0. 0. 0. 0. 0. 0. 0. 0. 0. 0. 0. 0. 0. 0. 0. 0. 0. 0. 0. 0. 0. 0.\n",
      "  0. 0. 0. 0. 0. 0. 0. 0.]]\n"
     ]
    }
   ],
   "source": [
    "# printoptions 설정 변경\n",
    "np.set_printoptions(threshold=float(\"inf\"))\n",
    "print(z)"
   ]
  },
  {
   "cell_type": "markdown",
   "id": "e6e1ae2f",
   "metadata": {
    "id": "e6e1ae2f"
   },
   "source": [
    "#### 50. How to find the closest value (to a given scalar) in a vector? (★★☆)"
   ]
  },
  {
   "cell_type": "markdown",
   "id": "948f78e0",
   "metadata": {},
   "source": [
    "벡터에서 주어진 값에 가장 가까운 값을 찾는 방법은?  \n",
    "\n",
    "* 주어진 값과 벡터의 각 요소를 뺀값 중 가장 작은값을 찾으면 됨\n",
    "* np.argmin() 메서드를 통해 찾기"
   ]
  },
  {
   "cell_type": "code",
   "execution_count": 93,
   "id": "73dd91cc",
   "metadata": {
    "id": "73dd91cc"
   },
   "outputs": [
    {
     "name": "stdout",
     "output_type": "stream",
     "text": [
      "[3 4 5 7 4 6 5 2 2 7]\n",
      "인덱스: 3 값: 7\n"
     ]
    }
   ],
   "source": [
    "# 주어진 값 = 7.3\n",
    "num = 7.3\n",
    "z = np.random.randint(0, 10, 10)\n",
    "print(z)\n",
    "# 주어진 값에서 가장 가까운 값 찾기\n",
    "i = np.abs((z - num)).argmin()\n",
    "# 가장 가까운 값의 인덱스와 그 값 출력\n",
    "print('인덱스:', i, '값:', z[i])"
   ]
  },
  {
   "cell_type": "markdown",
   "id": "c01f0ecf",
   "metadata": {
    "id": "c01f0ecf"
   },
   "source": [
    "#### 51. Create a structured array representing a position (x,y) and a color (r,g,b) (★★☆)"
   ]
  },
  {
   "cell_type": "markdown",
   "id": "d857296e",
   "metadata": {},
   "source": [
    "위치(x,y) 및 색상(r,g,b)을 나타내는 구조화된 배열을 작성합니다.\n",
    "* np.zeros()를 통해 빈 배열 생성"
   ]
  },
  {
   "cell_type": "code",
   "execution_count": 110,
   "id": "fb8017ca",
   "metadata": {
    "id": "fb8017ca"
   },
   "outputs": [
    {
     "name": "stdout",
     "output_type": "stream",
     "text": [
      "[((0., 0.), (0., 0., 0.)) ((0., 0.), (0., 0., 0.))\n",
      " ((0., 0.), (0., 0., 0.)) ((0., 0.), (0., 0., 0.))\n",
      " ((0., 0.), (0., 0., 0.)) ((0., 0.), (0., 0., 0.))\n",
      " ((0., 0.), (0., 0., 0.)) ((0., 0.), (0., 0., 0.))\n",
      " ((0., 0.), (0., 0., 0.)) ((0., 0.), (0., 0., 0.))]\n"
     ]
    }
   ],
   "source": [
    "z = np.zeros(10, [('position', [('x', float),\n",
    "                                ('y', float)]),\n",
    "                  ('color', [('r', float),\n",
    "                             ('g', float),\n",
    "                             ('b', float)])])\n",
    "print(z)"
   ]
  },
  {
   "cell_type": "markdown",
   "id": "3b64a18b",
   "metadata": {
    "id": "3b64a18b"
   },
   "source": [
    "#### 52. Consider a random vector with shape (100,2) representing coordinates, find point by point distances (★★☆)"
   ]
  },
  {
   "cell_type": "markdown",
   "id": "d6aa66ec",
   "metadata": {},
   "source": [
    "좌표를 나타내는 형태(100, 2)를 갖는 랜덤 벡터를 고려합니다. 점 거리를 기준으로 점 찾기\n",
    "* 각 점(원소)을 기준으로 거리를 계산"
   ]
  },
  {
   "cell_type": "code",
   "execution_count": 111,
   "id": "4b482822",
   "metadata": {
    "id": "4b482822"
   },
   "outputs": [
    {
     "name": "stdout",
     "output_type": "stream",
     "text": [
      "[[0.         0.78697867 0.55689072 0.92800249 0.26120207 0.68901163\n",
      "  0.5719356  0.44595869 0.11090247 0.71437551]\n",
      " [0.78697867 0.         0.72752466 0.65093604 0.58376951 1.0258165\n",
      "  0.45812958 0.97987283 0.71583155 0.85770547]\n",
      " [0.55689072 0.72752466 0.         0.44171154 0.35677816 0.29851567\n",
      "  0.27102129 0.3493925  0.45126407 0.17365719]\n",
      " [0.92800249 0.65093604 0.44171154 0.         0.67364412 0.64666911\n",
      "  0.37230403 0.7884203  0.81730488 0.4220644 ]\n",
      " [0.26120207 0.58376951 0.35677816 0.67364412 0.         0.58143732\n",
      "  0.31122928 0.42928637 0.15626352 0.52962559]\n",
      " [0.68901163 1.0258165  0.29851567 0.64666911 0.58143732 0.\n",
      "  0.5694182  0.27749469 0.60948363 0.22463127]\n",
      " [0.5719356  0.45812958 0.27102129 0.37230403 0.31122928 0.5694182\n",
      "  0.         0.56848764 0.4639457  0.40391875]\n",
      " [0.44595869 0.97987283 0.3493925  0.7884203  0.42928637 0.27749469\n",
      "  0.56848764 0.         0.39253203 0.41221907]\n",
      " [0.11090247 0.71583155 0.45126407 0.81730488 0.15626352 0.60948363\n",
      "  0.4639457  0.39253203 0.         0.61344106]\n",
      " [0.71437551 0.85770547 0.17365719 0.4220644  0.52962559 0.22463127\n",
      "  0.40391875 0.41221907 0.61344106 0.        ]]\n"
     ]
    }
   ],
   "source": [
    "Z = np.random.random((10, 2))\n",
    "# np.atleast_2d: 입력 배열을 2차원으로 받아들이\n",
    "X, Y = np.atleast_2d(Z[:, 0], Z[:, 1])\n",
    "D = np.sqrt((X-X.T)**2 + (Y-Y.T)**2)\n",
    "print(D)"
   ]
  },
  {
   "cell_type": "code",
   "execution_count": 113,
   "id": "85a190e7",
   "metadata": {},
   "outputs": [
    {
     "data": {
      "image/png": "[encoded data removed]",
      "text/plain": [
       "<Figure size 432x288 with 1 Axes>"
      ]
     },
     "metadata": {
      "needs_background": "light"
     },
     "output_type": "display_data"
    }
   ],
   "source": [
    "# 참고\n",
    "plt.scatter(X, Y)\n",
    "plt.grid()"
   ]
  },
  {
   "cell_type": "markdown",
   "id": "48413134",
   "metadata": {
    "id": "48413134"
   },
   "source": [
    "#### 53. How to convert a float (32 bits) array into an integer (32 bits) in place?"
   ]
  },
  {
   "cell_type": "markdown",
   "id": "711566a3",
   "metadata": {},
   "source": [
    "float(32 비트) 배열을 integer(32 비트)로 변환하는 방법은 무엇입니까?\n",
    "* astype(copy=False) 사용 (in place니까)"
   ]
  },
  {
   "cell_type": "code",
   "execution_count": 114,
   "id": "5db64b6d",
   "metadata": {
    "id": "5db64b6d"
   },
   "outputs": [
    {
     "name": "stdout",
     "output_type": "stream",
     "text": [
      "[0. 1. 2. 3. 4. 5. 6. 7. 8. 9.]\n",
      "[0 1 2 3 4 5 6 7 8 9]\n"
     ]
    }
   ],
   "source": [
    "z = np.arange(10, dtype=np.float32)\n",
    "print(z)\n",
    "z = z.astype(np.int32, copy=False)\n",
    "print(z)"
   ]
  },
  {
   "cell_type": "markdown",
   "id": "0a532633",
   "metadata": {
    "id": "0a532633"
   },
   "source": [
    "#### 54. How to read the following file? (★★☆)\n",
    "```\n",
    "1, 2, 3, 4, 5\n",
    "6,  ,  , 7, 8\n",
    " ,  , 9,10,11\n",
    "```"
   ]
  },
  {
   "cell_type": "markdown",
   "id": "e30494b6",
   "metadata": {},
   "source": [
    "다음 파일을 어떻게 읽을 수 있습니까? (텍스트파일을 읽을 수 있는 방법)\n",
    "* np.genfromtxt()메서드 사용\n",
    " * np.genfromtxt(파일이름,delimiter=(구분점),dtype=(데이터타입))\n",
    " * 텍스트파일에서 데이터 로드하고 결측값을 지정값으로 바꿔줌(기본 -1)"
   ]
  },
  {
   "cell_type": "code",
   "execution_count": 121,
   "id": "8af4f753",
   "metadata": {
    "id": "8af4f753"
   },
   "outputs": [
    {
     "name": "stdout",
     "output_type": "stream",
     "text": [
      "[[ 1  2  3  4  5]\n",
      " [ 6 -1 -1  7  8]\n",
      " [-1 -1  9 10 11]]\n"
     ]
    },
    {
     "name": "stderr",
     "output_type": "stream",
     "text": [
      "<ipython-input-121-50c7c496eaf8>:8: DeprecationWarning: `np.int` is a deprecated alias for the builtin `int`. To silence this warning, use `int` by itself. Doing this will not modify any behavior and is safe. When replacing `np.int`, you may wish to use e.g. `np.int64` or `np.int32` to specify the precision. If you wish to review your current use, check the release note link for additional information.\n",
      "Deprecated in NumPy 1.20; for more details and guidance: https://numpy.org/devdocs/release/1.20.0-notes.html#deprecations\n",
      "  Z = np.genfromtxt(s, delimiter=',',dtype=np.int)\n"
     ]
    }
   ],
   "source": [
    "from io import StringIO\n",
    "\n",
    "# fake file\n",
    "s = StringIO(\"\"\"1, 2, 3, 4, 5\\n\n",
    "                6,  ,  , 7, 8\\n\n",
    "                 ,  , 9, 10,11\\n\"\"\")\n",
    "\n",
    "Z = np.genfromtxt(s, delimiter=',',dtype=np.int)\n",
    "print(Z)"
   ]
  },
  {
   "cell_type": "markdown",
   "id": "f98713a6",
   "metadata": {
    "id": "f98713a6"
   },
   "source": [
    "#### 55. What is the equivalent of enumerate for numpy arrays? (★★☆)"
   ]
  },
  {
   "cell_type": "markdown",
   "id": "23d5c3d8",
   "metadata": {},
   "source": [
    "Numpy Arrays에 대한 Enumerate와 같은 것은 무엇입니까?\n",
    "* 다차원 배열에서의 각 원소에 대한 인덱스 출력(enumerate)\n",
    " * np.ndenumerate()\n",
    " * np.ndindex(array.shape)"
   ]
  },
  {
   "cell_type": "code",
   "execution_count": 122,
   "id": "64795f84",
   "metadata": {
    "id": "64795f84"
   },
   "outputs": [
    {
     "name": "stdout",
     "output_type": "stream",
     "text": [
      "[[0 1 2]\n",
      " [3 4 5]\n",
      " [6 7 8]]\n",
      "(0, 0) 0\n",
      "(0, 1) 1\n",
      "(0, 2) 2\n",
      "(1, 0) 3\n",
      "(1, 1) 4\n",
      "(1, 2) 5\n",
      "(2, 0) 6\n",
      "(2, 1) 7\n",
      "(2, 2) 8\n"
     ]
    }
   ],
   "source": [
    "# ndenumerate() 사용\n",
    "Z = np.arange(9).reshape(3, 3)\n",
    "print(Z)\n",
    "for index, value in np.ndenumerate(Z):\n",
    "    print(index, value)"
   ]
  },
  {
   "cell_type": "code",
   "execution_count": 125,
   "id": "2c751d83",
   "metadata": {},
   "outputs": [
    {
     "name": "stdout",
     "output_type": "stream",
     "text": [
      "[[0 1 2]\n",
      " [3 4 5]\n",
      " [6 7 8]]\n",
      "(0, 0) 0\n",
      "(0, 1) 1\n",
      "(0, 2) 2\n",
      "(1, 0) 3\n",
      "(1, 1) 4\n",
      "(1, 2) 5\n",
      "(2, 0) 6\n",
      "(2, 1) 7\n",
      "(2, 2) 8\n"
     ]
    }
   ],
   "source": [
    "# nindex() 사용\n",
    "print(Z)\n",
    "for index in np.ndindex(Z.shape):\n",
    "    print(index, Z[index])"
   ]
  },
  {
   "cell_type": "markdown",
   "id": "1abc7cc8",
   "metadata": {
    "id": "1abc7cc8"
   },
   "source": [
    "#### 56. Generate a generic 2D Gaussian-like array (★★☆)"
   ]
  },
  {
   "cell_type": "markdown",
   "id": "807e5432",
   "metadata": {},
   "source": [
    "일반적인 가우시안 배열 생성"
   ]
  },
  {
   "cell_type": "code",
   "execution_count": 126,
   "id": "42e3a5bc",
   "metadata": {
    "id": "42e3a5bc"
   },
   "outputs": [
    {
     "name": "stdout",
     "output_type": "stream",
     "text": [
      "[[0.36787944 0.44822088 0.51979489 0.57375342 0.60279818 0.60279818\n",
      "  0.57375342 0.51979489 0.44822088 0.36787944]\n",
      " [0.44822088 0.54610814 0.63331324 0.69905581 0.73444367 0.73444367\n",
      "  0.69905581 0.63331324 0.54610814 0.44822088]\n",
      " [0.51979489 0.63331324 0.73444367 0.81068432 0.85172308 0.85172308\n",
      "  0.81068432 0.73444367 0.63331324 0.51979489]\n",
      " [0.57375342 0.69905581 0.81068432 0.89483932 0.9401382  0.9401382\n",
      "  0.89483932 0.81068432 0.69905581 0.57375342]\n",
      " [0.60279818 0.73444367 0.85172308 0.9401382  0.98773022 0.98773022\n",
      "  0.9401382  0.85172308 0.73444367 0.60279818]\n",
      " [0.60279818 0.73444367 0.85172308 0.9401382  0.98773022 0.98773022\n",
      "  0.9401382  0.85172308 0.73444367 0.60279818]\n",
      " [0.57375342 0.69905581 0.81068432 0.89483932 0.9401382  0.9401382\n",
      "  0.89483932 0.81068432 0.69905581 0.57375342]\n",
      " [0.51979489 0.63331324 0.73444367 0.81068432 0.85172308 0.85172308\n",
      "  0.81068432 0.73444367 0.63331324 0.51979489]\n",
      " [0.44822088 0.54610814 0.63331324 0.69905581 0.73444367 0.73444367\n",
      "  0.69905581 0.63331324 0.54610814 0.44822088]\n",
      " [0.36787944 0.44822088 0.51979489 0.57375342 0.60279818 0.60279818\n",
      "  0.57375342 0.51979489 0.44822088 0.36787944]]\n"
     ]
    }
   ],
   "source": [
    "X, Y = np.meshgrid(np.linspace(-1,1,10), np.linspace(-1,1,10))\n",
    "D = np.sqrt(X*X + Y*Y)\n",
    "sigma, mu = 1.0, 0.0 # 가장 일반적인 정규분포\n",
    "G = np.exp(-((D-mu)**2 / (2.0 * sigma**2)))\n",
    "print(G)"
   ]
  },
  {
   "cell_type": "markdown",
   "id": "0cf413ee",
   "metadata": {
    "id": "0cf413ee"
   },
   "source": [
    "#### 57. How to randomly place p elements in a 2D array? (★★☆)"
   ]
  },
  {
   "cell_type": "markdown",
   "id": "738b926b",
   "metadata": {},
   "source": [
    "p개의 요소를 2D 배열에 무작위로 배치하는 방법은 무엇입니까?\n",
    "* np.put()을 통해 원소를 배치하고, np.random.choice()를 통해 범위 내 랜덤 인덱스를 생성한다."
   ]
  },
  {
   "cell_type": "code",
   "execution_count": 127,
   "id": "dfc57e06",
   "metadata": {
    "id": "dfc57e06"
   },
   "outputs": [
    {
     "name": "stdout",
     "output_type": "stream",
     "text": [
      "[[0. 0. 0. 0. 0. 0. 0. 0. 0. 0.]\n",
      " [0. 0. 0. 0. 0. 0. 0. 0. 0. 0.]\n",
      " [0. 0. 0. 0. 0. 0. 0. 0. 0. 0.]\n",
      " [0. 0. 0. 0. 0. 0. 0. 0. 0. 0.]\n",
      " [0. 0. 0. 0. 0. 0. 0. 7. 0. 0.]\n",
      " [0. 0. 0. 0. 0. 0. 0. 0. 0. 0.]\n",
      " [0. 0. 0. 0. 0. 0. 7. 0. 0. 0.]\n",
      " [0. 0. 0. 0. 0. 0. 0. 0. 0. 0.]\n",
      " [0. 0. 0. 0. 0. 0. 0. 0. 0. 0.]\n",
      " [0. 0. 0. 0. 0. 0. 0. 0. 0. 7.]]\n"
     ]
    }
   ],
   "source": [
    "p = 3 # 3개의 요소 배치\n",
    "z = np.zeros((10, 10)) # 10X10의 빈 배열 생성\n",
    "np.put(z, np.random.choice(range(10*10), p, replace=False), 7)\n",
    "# 10X10 인덱스 안에서 p(3)만큼을 랜덤으로 선택하여 7을 삽입 \n",
    "print(z)"
   ]
  },
  {
   "cell_type": "markdown",
   "id": "215b6acc",
   "metadata": {
    "id": "215b6acc"
   },
   "source": [
    "#### 58. Subtract the mean of each row of a matrix (★★☆)"
   ]
  },
  {
   "cell_type": "markdown",
   "id": "ed1f13c3",
   "metadata": {},
   "source": [
    "행렬의 각 행의 평균을 뺍니다.\n",
    "* .mean(axis와 keepdims 파라미터를 설정하여 실행)\n",
    " * axis=1 : 행 선택\n",
    " * keepdims : 차원 유지"
   ]
  },
  {
   "cell_type": "code",
   "execution_count": 128,
   "id": "dd1adef4",
   "metadata": {
    "id": "dd1adef4"
   },
   "outputs": [
    {
     "name": "stdout",
     "output_type": "stream",
     "text": [
      "[[0.72108133 0.40643277 0.284858   0.53167992 0.32973166 0.26137588\n",
      "  0.99832893 0.39277134 0.24202037 0.8133004 ]\n",
      " [0.50941753 0.76261201 0.5769025  0.61101056 0.21257766 0.08408196\n",
      "  0.5041611  0.97181563 0.00929506 0.6725919 ]\n",
      " [0.67951319 0.97378311 0.20099105 0.94431935 0.99212604 0.79570577\n",
      "  0.95583931 0.70230366 0.70669441 0.78652247]\n",
      " [0.5899605  0.39748948 0.61270415 0.08264106 0.54126806 0.54158162\n",
      "  0.67092549 0.63439369 0.47710857 0.47359719]\n",
      " [0.41183674 0.84473641 0.66122118 0.21448407 0.71230803 0.70177592\n",
      "  0.60309021 0.23204324 0.31185138 0.26317129]]\n",
      "[[ 0.22292327 -0.09172529 -0.21330006  0.03352186 -0.1684264  -0.23678218\n",
      "   0.50017087 -0.10538672 -0.25613769  0.31514234]\n",
      " [ 0.01797094  0.27116542  0.08545591  0.11956397 -0.27886893 -0.40736463\n",
      "   0.01271451  0.48036904 -0.48215153  0.18114531]\n",
      " [-0.09426664  0.20000327 -0.57278879  0.17053951  0.2183462   0.02192593\n",
      "   0.18205948 -0.07147618 -0.06708542  0.01274264]\n",
      " [ 0.08779352 -0.1046775   0.11053717 -0.41952592  0.03910108  0.03941464\n",
      "   0.16875851  0.13222671 -0.02505841 -0.02856979]\n",
      " [-0.08381511  0.34908456  0.16556933 -0.28116778  0.21665618  0.20612408\n",
      "   0.10743837 -0.26360861 -0.18380047 -0.23248055]]\n"
     ]
    }
   ],
   "source": [
    "x = np.random.rand(5, 10)\n",
    "print(x)\n",
    "y = x - x.mean(axis=1, keepdims=True)\n",
    "print(y)"
   ]
  },
  {
   "cell_type": "markdown",
   "id": "c0cf37e0",
   "metadata": {
    "id": "c0cf37e0"
   },
   "source": [
    "#### 59. How to sort an array by the nth column? (★★☆)"
   ]
  },
  {
   "cell_type": "markdown",
   "id": "47044708",
   "metadata": {},
   "source": [
    "n번째 열로 배열을 정렬하는 방법은 무엇입니까?\n",
    "* .argsort() 이용\n",
    " * z[z[:,1].argsort()] 는 행의 두번째(인덱스 1) 성분을 기준으로 정렬한다는 뜻"
   ]
  },
  {
   "cell_type": "code",
   "execution_count": 131,
   "id": "9336ca5f",
   "metadata": {
    "id": "9336ca5f"
   },
   "outputs": [
    {
     "name": "stdout",
     "output_type": "stream",
     "text": [
      "[[2 8 4]\n",
      " [3 5 3]\n",
      " [9 8 9]]\n",
      "[[3 5 3]\n",
      " [2 8 4]\n",
      " [9 8 9]]\n"
     ]
    }
   ],
   "source": [
    "z = np.random.randint(0, 10, (3, 3))\n",
    "print(z)\n",
    "print(z[z[:,1].argsort()]) # 행의 두번째(index=1)의 원소를 기준으로 정렬 "
   ]
  },
  {
   "cell_type": "markdown",
   "id": "c17fb213",
   "metadata": {
    "id": "c17fb213"
   },
   "source": [
    "#### 60. How to tell if a given 2D array has null columns? (★★☆)"
   ]
  },
  {
   "cell_type": "markdown",
   "id": "e2b29f71",
   "metadata": {},
   "source": [
    "주어진 2D 배열에 null 열이 있는지 어떻게 알 수 있습니까?\n",
    "* .any() 사용하여 확인\n",
    "* int형에서 np.nan은 표현최소값으로 표현됨"
   ]
  },
  {
   "cell_type": "code",
   "execution_count": 133,
   "id": "7fdda78d",
   "metadata": {
    "id": "7fdda78d"
   },
   "outputs": [
    {
     "name": "stdout",
     "output_type": "stream",
     "text": [
      "[[1 2 2 2 1 2 0 2 2 0]\n",
      " [0 0 0 1 0 2 2 2 1 2]\n",
      " [0 1 0 0 2 0 2 0 1 1]]\n"
     ]
    },
    {
     "ename": "ValueError",
     "evalue": "cannot convert float NaN to integer",
     "output_type": "error",
     "traceback": [
      "\u001b[1;31m---------------------------------------------------------------------------\u001b[0m",
      "\u001b[1;31mValueError\u001b[0m                                Traceback (most recent call last)",
      "\u001b[1;32m<ipython-input-133-a234bd04ff14>\u001b[0m in \u001b[0;36m<module>\u001b[1;34m\u001b[0m\n\u001b[0;32m      1\u001b[0m \u001b[0mZ\u001b[0m \u001b[1;33m=\u001b[0m \u001b[0mnp\u001b[0m\u001b[1;33m.\u001b[0m\u001b[0mrandom\u001b[0m\u001b[1;33m.\u001b[0m\u001b[0mrandint\u001b[0m\u001b[1;33m(\u001b[0m\u001b[1;36m0\u001b[0m\u001b[1;33m,\u001b[0m \u001b[1;36m3\u001b[0m\u001b[1;33m,\u001b[0m \u001b[1;33m(\u001b[0m\u001b[1;36m3\u001b[0m\u001b[1;33m,\u001b[0m\u001b[1;36m10\u001b[0m\u001b[1;33m)\u001b[0m\u001b[1;33m)\u001b[0m\u001b[1;33m\u001b[0m\u001b[1;33m\u001b[0m\u001b[0m\n\u001b[0;32m      2\u001b[0m \u001b[0mprint\u001b[0m\u001b[1;33m(\u001b[0m\u001b[0mZ\u001b[0m\u001b[1;33m)\u001b[0m\u001b[1;33m\u001b[0m\u001b[1;33m\u001b[0m\u001b[0m\n\u001b[1;32m----> 3\u001b[1;33m \u001b[0mZ\u001b[0m\u001b[1;33m[\u001b[0m\u001b[1;36m1\u001b[0m\u001b[1;33m]\u001b[0m \u001b[1;33m=\u001b[0m \u001b[0mnp\u001b[0m\u001b[1;33m.\u001b[0m\u001b[0mnan\u001b[0m\u001b[1;33m\u001b[0m\u001b[1;33m\u001b[0m\u001b[0m\n\u001b[0m\u001b[0;32m      4\u001b[0m \u001b[0mprint\u001b[0m\u001b[1;33m(\u001b[0m\u001b[0mZ\u001b[0m\u001b[1;33m)\u001b[0m\u001b[1;33m\u001b[0m\u001b[1;33m\u001b[0m\u001b[0m\n\u001b[0;32m      5\u001b[0m \u001b[0mprint\u001b[0m\u001b[1;33m(\u001b[0m\u001b[1;33m(\u001b[0m\u001b[1;33m~\u001b[0m\u001b[0mZ\u001b[0m\u001b[1;33m.\u001b[0m\u001b[0many\u001b[0m\u001b[1;33m(\u001b[0m\u001b[0maxis\u001b[0m\u001b[1;33m=\u001b[0m\u001b[1;36m0\u001b[0m\u001b[1;33m)\u001b[0m\u001b[1;33m)\u001b[0m\u001b[1;33m.\u001b[0m\u001b[0many\u001b[0m\u001b[1;33m(\u001b[0m\u001b[1;33m)\u001b[0m\u001b[1;33m)\u001b[0m\u001b[1;33m\u001b[0m\u001b[1;33m\u001b[0m\u001b[0m\n",
      "\u001b[1;31mValueError\u001b[0m: cannot convert float NaN to integer"
     ]
    }
   ],
   "source": [
    "Z = np.random.randint(0, 3, (3,10))\n",
    "print(Z)\n",
    "Z[1] = np.nan\n",
    "print(Z)\n",
    "print((~Z.any(axis=0)).any())"
   ]
  },
  {
   "cell_type": "markdown",
   "id": "8aaab886",
   "metadata": {
    "id": "8aaab886"
   },
   "source": [
    "#### 61. Find the nearest value from a given value in an array (★★☆)"
   ]
  },
  {
   "cell_type": "markdown",
   "id": "b943bd48",
   "metadata": {},
   "source": [
    "배열의 지정된 값에서 가장 가까운 값 찾기\n",
    "* .flat()으로 array를 vector형태로 펴준 뒤 벡터의 방법과 같이 최소값 구해줌"
   ]
  },
  {
   "cell_type": "code",
   "execution_count": 136,
   "id": "973f8079",
   "metadata": {
    "id": "973f8079"
   },
   "outputs": [
    {
     "name": "stdout",
     "output_type": "stream",
     "text": [
      "[0.04568431 0.68398974 0.48580118 0.660426   0.09378441 0.76632981\n",
      " 0.46112653 0.0787975  0.58906947 0.69533712]\n",
      "0.485801183880747\n"
     ]
    }
   ],
   "source": [
    "Z = np.random.uniform(0, 1, 10)\n",
    "z = 0.5\n",
    "print(Z)\n",
    "m = Z.flat[np.abs(Z-z).argmin()]\n",
    "print(m)"
   ]
  },
  {
   "cell_type": "markdown",
   "id": "66a04e2e",
   "metadata": {
    "id": "66a04e2e"
   },
   "source": [
    "#### 62. Considering two arrays with shape (1,3) and (3,1), how to compute their sum using an iterator? (★★☆)"
   ]
  },
  {
   "cell_type": "markdown",
   "id": "3436ef76",
   "metadata": {},
   "source": [
    "모양 (1,3)과 (3,1)의 두 배열을 고려할 때 iterator를 사용하여 합계를 계산하는 방법은 무엇입니까?\n",
    "* np.nditer는 요소 하나하나마다 접근하여 설정값에 따른 결과를 알려주는 함수 (배열 반복)"
   ]
  },
  {
   "cell_type": "code",
   "execution_count": 139,
   "id": "4b356632",
   "metadata": {
    "id": "4b356632"
   },
   "outputs": [
    {
     "name": "stdout",
     "output_type": "stream",
     "text": [
      "[[0 1 2]] [[0]\n",
      " [1]\n",
      " [2]]\n",
      "[[0 1 2]\n",
      " [1 2 3]\n",
      " [2 3 4]]\n"
     ]
    }
   ],
   "source": [
    "A = np.arange(3).reshape(1,3)\n",
    "B = np.arange(3).reshape(3,1)\n",
    "print(A, B)\n",
    "it = np.nditer([A,B,None])\n",
    "for x,y,z in it: z[...] = x+y\n",
    "print(it.operands[2])"
   ]
  },
  {
   "cell_type": "markdown",
   "id": "f4427f7f",
   "metadata": {
    "id": "f4427f7f"
   },
   "source": [
    "#### 63. Create an array class that has a name attribute (★★☆)"
   ]
  },
  {
   "cell_type": "markdown",
   "id": "3bfec9ab",
   "metadata": {},
   "source": [
    "이름 특성이 있는 배열 클래스 만들기\n",
    "* NamedArray라는 class를 선언하여 array에 이름이 붙을 수 있게 설정"
   ]
  },
  {
   "cell_type": "code",
   "execution_count": 142,
   "id": "fe253212",
   "metadata": {
    "id": "fe253212"
   },
   "outputs": [
    {
     "name": "stdout",
     "output_type": "stream",
     "text": [
      "range_10\n"
     ]
    }
   ],
   "source": [
    "class NamedArray(np.ndarray):\n",
    "    def __new__(cls, array, name=\"no name\"):\n",
    "        obj = np.asarray(array).view(cls)\n",
    "        obj.name = name\n",
    "        return obj\n",
    "    def __array_finalize__(self, obj):\n",
    "        if obj is None: return\n",
    "        self.info = getattr(obj, 'name', \"no name\")\n",
    "        \n",
    "Z = NamedArray(np.arange(10), \"range_10\")\n",
    "print(Z.name)"
   ]
  },
  {
   "cell_type": "markdown",
   "id": "58be9dd4",
   "metadata": {
    "id": "58be9dd4"
   },
   "source": [
    "#### 64. Consider a given vector, how to add 1 to each element indexed by a second vector (be careful with repeated indices)? (★★★)"
   ]
  },
  {
   "cell_type": "markdown",
   "id": "2c62a453",
   "metadata": {},
   "source": [
    "주어진 벡터를 고려하라. 두 번째 벡터로 색인화된 각 요소에 1을 추가하는 방법을 고려하라.\n",
    "* 인덱스를 나타내는 벡터인 a가 있을 때 (ex. 6은 Z의 7번째 원소를 뜻함) 인덱스의 개수를 세어서 Z에 더해줌\n",
    "* np.add.at()을 통해 해결"
   ]
  },
  {
   "cell_type": "code",
   "execution_count": 143,
   "id": "5c8bae42",
   "metadata": {
    "id": "5c8bae42"
   },
   "outputs": [
    {
     "name": "stdout",
     "output_type": "stream",
     "text": [
      "[2 5 8 2 7 4 7 4 0 2 1 0 9 7 7 2 5 8 9 0]\n",
      "[4. 2. 5. 1. 3. 3. 1. 5. 3. 3.]\n"
     ]
    }
   ],
   "source": [
    "Z = np.ones(10)\n",
    "a = np.random.randint(0, len(Z), 20)\n",
    "np.add.at(Z, a, 1)\n",
    "print(a)\n",
    "print(Z)"
   ]
  },
  {
   "cell_type": "markdown",
   "id": "7348abd0",
   "metadata": {
    "id": "7348abd0"
   },
   "source": [
    "#### 65. How to accumulate elements of a vector (X) to an array (F) based on an index list (I)? (★★★)"
   ]
  },
  {
   "cell_type": "markdown",
   "id": "c72c116b",
   "metadata": {},
   "source": [
    "색인 목록(I)을 기반으로 벡터(X)의 요소를 배열(F)에 삽입하는 방법\n",
    "* X의 원소들을 I에 나와있는 인덱스에 각각 삽입하는 방법\n",
    "* np.bincount()를 이용"
   ]
  },
  {
   "cell_type": "code",
   "execution_count": 144,
   "id": "b3e33a5a",
   "metadata": {
    "id": "b3e33a5a"
   },
   "outputs": [
    {
     "name": "stdout",
     "output_type": "stream",
     "text": [
      "[0. 1. 0. 0. 2. 3. 4. 5. 6.]\n"
     ]
    }
   ],
   "source": [
    "X = [1, 2, 3, 4, 5, 6]\n",
    "I = [1, 4, 5, 6, 7, 8]\n",
    "F = np.bincount(I, X)\n",
    "print(F)"
   ]
  },
  {
   "cell_type": "markdown",
   "id": "538e651c",
   "metadata": {
    "id": "538e651c"
   },
   "source": [
    "#### 66. Considering a (w,h,3) image of (dtype=ubyte), compute the number of unique colors (★★☆)"
   ]
  },
  {
   "cell_type": "markdown",
   "id": "ed77063c",
   "metadata": {},
   "source": [
    "(dtype=ubyte)의 (w,h,3) 이미지를 고려하여 고유한 색상의 수를 계산한다.\n",
    "* 3차원 RGB 이미지의 고유 색상의 개수 계산"
   ]
  },
  {
   "cell_type": "code",
   "execution_count": 145,
   "id": "57f2f02f",
   "metadata": {
    "id": "57f2f02f"
   },
   "outputs": [
    {
     "name": "stdout",
     "output_type": "stream",
     "text": [
      "8\n"
     ]
    }
   ],
   "source": [
    "img = np.random.randint(0, 2, (16,16,3)).astype(np.ubyte)\n",
    "F = img[...,0] * (256*256) + img[...,1]*256 + img[...,2]\n",
    "print(len(np.unique(F)))"
   ]
  },
  {
   "cell_type": "markdown",
   "id": "33c986d9",
   "metadata": {
    "id": "33c986d9"
   },
   "source": [
    "#### 67. Considering a four dimensions array, how to get sum over the last two axis at once? (★★★)"
   ]
  },
  {
   "cell_type": "code",
   "execution_count": null,
   "id": "a99a50e2",
   "metadata": {
    "id": "a99a50e2"
   },
   "outputs": [],
   "source": []
  },
  {
   "cell_type": "markdown",
   "id": "00eb27c4",
   "metadata": {
    "id": "00eb27c4"
   },
   "source": [
    "#### 68. Considering a one-dimensional vector D, how to compute means of subsets of D using a vector S of same size describing subset  indices? (★★★)"
   ]
  },
  {
   "cell_type": "code",
   "execution_count": null,
   "id": "d48c5210",
   "metadata": {
    "id": "d48c5210"
   },
   "outputs": [],
   "source": []
  },
  {
   "cell_type": "markdown",
   "id": "928a1a15",
   "metadata": {
    "id": "928a1a15"
   },
   "source": [
    "#### 69. How to get the diagonal of a dot product? (★★★)"
   ]
  },
  {
   "cell_type": "code",
   "execution_count": null,
   "id": "ef2c9ddd",
   "metadata": {
    "id": "ef2c9ddd"
   },
   "outputs": [],
   "source": []
  },
  {
   "cell_type": "markdown",
   "id": "5143f7f3",
   "metadata": {
    "id": "5143f7f3"
   },
   "source": [
    "#### 70. Consider the vector [1, 2, 3, 4, 5], how to build a new vector with 3 consecutive zeros interleaved between each value? (★★★)"
   ]
  },
  {
   "cell_type": "code",
   "execution_count": null,
   "id": "1d99a1c1",
   "metadata": {
    "id": "1d99a1c1"
   },
   "outputs": [],
   "source": []
  },
  {
   "cell_type": "markdown",
   "id": "f62551d8",
   "metadata": {
    "id": "f62551d8"
   },
   "source": [
    "#### 71. Consider an array of dimension (5,5,3), how to mulitply it by an array with dimensions (5,5)? (★★★)"
   ]
  },
  {
   "cell_type": "code",
   "execution_count": null,
   "id": "9ab241b7",
   "metadata": {
    "id": "9ab241b7"
   },
   "outputs": [],
   "source": []
  },
  {
   "cell_type": "markdown",
   "id": "6896e326",
   "metadata": {
    "id": "6896e326"
   },
   "source": [
    "#### 72. How to swap two rows of an array? (★★★)"
   ]
  },
  {
   "cell_type": "code",
   "execution_count": null,
   "id": "9e8fcba9",
   "metadata": {
    "id": "9e8fcba9"
   },
   "outputs": [],
   "source": []
  },
  {
   "cell_type": "markdown",
   "id": "aeaf4a7b",
   "metadata": {
    "id": "aeaf4a7b"
   },
   "source": [
    "#### 73. Consider a set of 10 triplets describing 10 triangles (with shared vertices), find the set of unique line segments composing all the  triangles (★★★)"
   ]
  },
  {
   "cell_type": "code",
   "execution_count": null,
   "id": "39ef4234",
   "metadata": {
    "id": "39ef4234"
   },
   "outputs": [],
   "source": []
  },
  {
   "cell_type": "markdown",
   "id": "3d11451b",
   "metadata": {
    "id": "3d11451b"
   },
   "source": [
    "#### 74. Given a sorted array C that corresponds to a bincount, how to produce an array A such that np.bincount(A) == C? (★★★)"
   ]
  },
  {
   "cell_type": "code",
   "execution_count": null,
   "id": "a5563362",
   "metadata": {
    "id": "a5563362"
   },
   "outputs": [],
   "source": []
  },
  {
   "cell_type": "markdown",
   "id": "a0a45995",
   "metadata": {
    "id": "a0a45995"
   },
   "source": [
    "#### 75. How to compute averages using a sliding window over an array? (★★★)"
   ]
  },
  {
   "cell_type": "code",
   "execution_count": null,
   "id": "116243d5",
   "metadata": {
    "id": "116243d5"
   },
   "outputs": [],
   "source": []
  },
  {
   "cell_type": "markdown",
   "id": "7808578f",
   "metadata": {
    "id": "7808578f"
   },
   "source": [
    "#### 76. Consider a one-dimensional array Z, build a two-dimensional array whose first row is (Z[0],Z[1],Z[2]) and each subsequent row is  shifted by 1 (last row should be (Z[-3],Z[-2],Z[-1]) (★★★)"
   ]
  },
  {
   "cell_type": "code",
   "execution_count": null,
   "id": "6b23ba6e",
   "metadata": {
    "id": "6b23ba6e"
   },
   "outputs": [],
   "source": []
  },
  {
   "cell_type": "markdown",
   "id": "8e83df46",
   "metadata": {
    "id": "8e83df46"
   },
   "source": [
    "#### 77. How to negate a boolean, or to change the sign of a float inplace? (★★★)"
   ]
  },
  {
   "cell_type": "code",
   "execution_count": null,
   "id": "f73127b7",
   "metadata": {
    "id": "f73127b7"
   },
   "outputs": [],
   "source": []
  },
  {
   "cell_type": "markdown",
   "id": "e67ff31c",
   "metadata": {
    "id": "e67ff31c"
   },
   "source": [
    "#### 78. Consider 2 sets of points P0,P1 describing lines (2d) and a point p, how to compute distance from p to each line i (P0[i],P1[i])? (★★★)"
   ]
  },
  {
   "cell_type": "code",
   "execution_count": null,
   "id": "89d75b76",
   "metadata": {
    "id": "89d75b76"
   },
   "outputs": [],
   "source": []
  },
  {
   "cell_type": "markdown",
   "id": "ad8821b1",
   "metadata": {
    "id": "ad8821b1"
   },
   "source": [
    "#### 79. Consider 2 sets of points P0,P1 describing lines (2d) and a set of points P, how to compute distance from each point j (P[j]) to each line i (P0[i],P1[i])? (★★★)"
   ]
  },
  {
   "cell_type": "code",
   "execution_count": null,
   "id": "775feca0",
   "metadata": {
    "id": "775feca0"
   },
   "outputs": [],
   "source": []
  },
  {
   "cell_type": "markdown",
   "id": "a0c8cbf5",
   "metadata": {
    "id": "a0c8cbf5"
   },
   "source": [
    "#### 80. Consider an arbitrary array, write a function that extract a subpart with a fixed shape and centered on a given element (pad with a `fill` value when necessary) (★★★)"
   ]
  },
  {
   "cell_type": "code",
   "execution_count": null,
   "id": "381fd926",
   "metadata": {
    "id": "381fd926"
   },
   "outputs": [],
   "source": []
  },
  {
   "cell_type": "markdown",
   "id": "781fa236",
   "metadata": {
    "id": "781fa236"
   },
   "source": [
    "#### 81. Consider an array Z = [1,2,3,4,5,6,7,8,9,10,11,12,13,14], how to generate an array R = [[1,2,3,4], [2,3,4,5], [3,4,5,6], ..., [11,12,13,14]]? (★★★)"
   ]
  },
  {
   "cell_type": "code",
   "execution_count": null,
   "id": "8e84d3c2",
   "metadata": {
    "id": "8e84d3c2"
   },
   "outputs": [],
   "source": []
  },
  {
   "cell_type": "markdown",
   "id": "9c9bb0f3",
   "metadata": {
    "id": "9c9bb0f3"
   },
   "source": [
    "#### 82. Compute a matrix rank (★★★)"
   ]
  },
  {
   "cell_type": "code",
   "execution_count": null,
   "id": "b75ef318",
   "metadata": {
    "id": "b75ef318"
   },
   "outputs": [],
   "source": []
  },
  {
   "cell_type": "markdown",
   "id": "7d8dc135",
   "metadata": {
    "id": "7d8dc135"
   },
   "source": [
    "#### 83. How to find the most frequent value in an array?"
   ]
  },
  {
   "cell_type": "code",
   "execution_count": null,
   "id": "3978a7a2",
   "metadata": {
    "id": "3978a7a2"
   },
   "outputs": [],
   "source": []
  },
  {
   "cell_type": "markdown",
   "id": "aa340126",
   "metadata": {
    "id": "aa340126"
   },
   "source": [
    "#### 84. Extract all the contiguous 3x3 blocks from a random 10x10 matrix (★★★)"
   ]
  },
  {
   "cell_type": "code",
   "execution_count": null,
   "id": "bf138783",
   "metadata": {
    "id": "bf138783"
   },
   "outputs": [],
   "source": []
  },
  {
   "cell_type": "markdown",
   "id": "6b6d2c84",
   "metadata": {
    "id": "6b6d2c84"
   },
   "source": [
    "#### 85. Create a 2D array subclass such that Z[i,j] == Z[j,i] (★★★)"
   ]
  },
  {
   "cell_type": "code",
   "execution_count": null,
   "id": "155e16ce",
   "metadata": {
    "id": "155e16ce"
   },
   "outputs": [],
   "source": []
  },
  {
   "cell_type": "markdown",
   "id": "7be0fe36",
   "metadata": {
    "id": "7be0fe36"
   },
   "source": [
    "#### 86. Consider a set of p matrices wich shape (n,n) and a set of p vectors with shape (n,1). How to compute the sum of of the p matrix products at once? (result has shape (n,1)) (★★★)"
   ]
  },
  {
   "cell_type": "code",
   "execution_count": null,
   "id": "ea732c23",
   "metadata": {
    "id": "ea732c23"
   },
   "outputs": [],
   "source": []
  },
  {
   "cell_type": "markdown",
   "id": "a840a88f",
   "metadata": {
    "id": "a840a88f"
   },
   "source": [
    "#### 87. Consider a 16x16 array, how to get the block-sum (block size is 4x4)? (★★★)"
   ]
  },
  {
   "cell_type": "code",
   "execution_count": null,
   "id": "6e0c1cbe",
   "metadata": {
    "id": "6e0c1cbe"
   },
   "outputs": [],
   "source": []
  },
  {
   "cell_type": "markdown",
   "id": "c2bd7385",
   "metadata": {
    "id": "c2bd7385"
   },
   "source": [
    "#### 88. How to implement the Game of Life using numpy arrays? (★★★)"
   ]
  },
  {
   "cell_type": "code",
   "execution_count": null,
   "id": "aea7d805",
   "metadata": {
    "id": "aea7d805"
   },
   "outputs": [],
   "source": []
  },
  {
   "cell_type": "markdown",
   "id": "4c70397b",
   "metadata": {
    "id": "4c70397b"
   },
   "source": [
    "#### 89. How to get the n largest values of an array (★★★)"
   ]
  },
  {
   "cell_type": "code",
   "execution_count": null,
   "id": "16371718",
   "metadata": {
    "id": "16371718"
   },
   "outputs": [],
   "source": []
  },
  {
   "cell_type": "markdown",
   "id": "15ba193c",
   "metadata": {
    "id": "15ba193c"
   },
   "source": [
    "#### 90. Given an arbitrary number of vectors, build the cartesian product (every combinations of every item) (★★★)"
   ]
  },
  {
   "cell_type": "code",
   "execution_count": null,
   "id": "c9c468d4",
   "metadata": {
    "id": "c9c468d4"
   },
   "outputs": [],
   "source": []
  },
  {
   "cell_type": "markdown",
   "id": "ec828405",
   "metadata": {
    "id": "ec828405"
   },
   "source": [
    "#### 91. How to create a record array from a regular array? (★★★)"
   ]
  },
  {
   "cell_type": "code",
   "execution_count": null,
   "id": "84eb5fba",
   "metadata": {
    "id": "84eb5fba"
   },
   "outputs": [],
   "source": []
  },
  {
   "cell_type": "markdown",
   "id": "d94352b6",
   "metadata": {
    "id": "d94352b6"
   },
   "source": [
    "#### 92. Consider a large vector Z, compute Z to the power of 3 using 3 different methods (★★★)"
   ]
  },
  {
   "cell_type": "code",
   "execution_count": null,
   "id": "301ba8a8",
   "metadata": {
    "id": "301ba8a8"
   },
   "outputs": [],
   "source": []
  },
  {
   "cell_type": "markdown",
   "id": "7c3a9e32",
   "metadata": {
    "id": "7c3a9e32"
   },
   "source": [
    "#### 93. Consider two arrays A and B of shape (8,3) and (2,2). How to find rows of A that contain elements of each row of B regardless of the order of the elements in B? (★★★)"
   ]
  },
  {
   "cell_type": "code",
   "execution_count": null,
   "id": "777376e3",
   "metadata": {
    "id": "777376e3"
   },
   "outputs": [],
   "source": []
  },
  {
   "cell_type": "markdown",
   "id": "da9d5eeb",
   "metadata": {
    "id": "da9d5eeb"
   },
   "source": [
    "#### 94. Considering a 10x3 matrix, extract rows with unequal values (e.g. [2,2,3]) (★★★)"
   ]
  },
  {
   "cell_type": "code",
   "execution_count": null,
   "id": "67dbea5c",
   "metadata": {
    "id": "67dbea5c"
   },
   "outputs": [],
   "source": []
  },
  {
   "cell_type": "markdown",
   "id": "f7b65fd5",
   "metadata": {
    "id": "f7b65fd5"
   },
   "source": [
    "#### 95. Convert a vector of ints into a matrix binary representation (★★★)"
   ]
  },
  {
   "cell_type": "code",
   "execution_count": null,
   "id": "127294ed",
   "metadata": {
    "id": "127294ed"
   },
   "outputs": [],
   "source": []
  },
  {
   "cell_type": "markdown",
   "id": "2784c996",
   "metadata": {
    "id": "2784c996"
   },
   "source": [
    "#### 96. Given a two dimensional array, how to extract unique rows? (★★★)"
   ]
  },
  {
   "cell_type": "code",
   "execution_count": null,
   "id": "f030595f",
   "metadata": {
    "id": "f030595f"
   },
   "outputs": [],
   "source": []
  },
  {
   "cell_type": "markdown",
   "id": "71a7574c",
   "metadata": {
    "id": "71a7574c"
   },
   "source": [
    "#### 97. Considering 2 vectors A & B, write the einsum equivalent of inner, outer, sum, and mul function (★★★)"
   ]
  },
  {
   "cell_type": "code",
   "execution_count": null,
   "id": "721c4e1a",
   "metadata": {
    "id": "721c4e1a"
   },
   "outputs": [],
   "source": []
  },
  {
   "cell_type": "markdown",
   "id": "30f06441",
   "metadata": {
    "id": "30f06441"
   },
   "source": [
    "#### 98. Considering a path described by two vectors (X,Y), how to sample it using equidistant samples (★★★)?"
   ]
  },
  {
   "cell_type": "code",
   "execution_count": null,
   "id": "fb41c022",
   "metadata": {
    "id": "fb41c022"
   },
   "outputs": [],
   "source": []
  },
  {
   "cell_type": "markdown",
   "id": "e5737276",
   "metadata": {
    "id": "e5737276"
   },
   "source": [
    "#### 99. Given an integer n and a 2D array X, select from X the rows which can be interpreted as draws from a multinomial distribution with n degrees, i.e., the rows which only contain integers and which sum to n. (★★★)"
   ]
  },
  {
   "cell_type": "code",
   "execution_count": null,
   "id": "68c333b0",
   "metadata": {
    "id": "68c333b0"
   },
   "outputs": [],
   "source": []
  },
  {
   "cell_type": "markdown",
   "id": "5882e36d",
   "metadata": {
    "id": "5882e36d"
   },
   "source": [
    "#### 100. Compute bootstrapped 95% confidence intervals for the mean of a 1D array X (i.e., resample the elements of an array with replacement N times, compute the mean of each sample, and then compute percentiles over the means). (★★★)"
   ]
  },
  {
   "cell_type": "code",
   "execution_count": null,
   "id": "d1b566e5",
   "metadata": {
    "id": "d1b566e5"
   },
   "outputs": [],
   "source": []
  }
 ],
 "metadata": {
  "colab": {
   "collapsed_sections": [
    "2002cb03",
    "b7109c9f",
    "7d3131b9",
    "7c8c1fc5",
    "5795b4bd",
    "fb24674c",
    "e6e1ae2f",
    "c01f0ecf",
    "3b64a18b",
    "48413134",
    "0a532633",
    "f98713a6",
    "1abc7cc8",
    "0cf413ee",
    "215b6acc",
    "c0cf37e0",
    "c17fb213",
    "8aaab886",
    "66a04e2e",
    "f4427f7f",
    "58be9dd4",
    "7348abd0",
    "538e651c",
    "33c986d9",
    "00eb27c4",
    "928a1a15",
    "5143f7f3",
    "f62551d8",
    "6896e326",
    "aeaf4a7b",
    "3d11451b",
    "a0a45995",
    "7808578f",
    "8e83df46",
    "e67ff31c",
    "ad8821b1",
    "a0c8cbf5",
    "781fa236",
    "9c9bb0f3",
    "7d8dc135",
    "aa340126",
    "6b6d2c84",
    "7be0fe36",
    "a840a88f",
    "c2bd7385",
    "4c70397b",
    "15ba193c",
    "ec828405",
    "d94352b6",
    "7c3a9e32",
    "da9d5eeb",
    "f7b65fd5",
    "2784c996",
    "71a7574c",
    "30f06441",
    "e5737276",
    "5882e36d"
   ],
   "name": "100_Numpy_exercises.ipynb",
   "provenance": []
  },
  "kernelspec": {
   "display_name": "Python 3",
   "language": "python",
   "name": "python3"
  },
  "language_info": {
   "codemirror_mode": {
    "name": "ipython",
    "version": 3
   },
   "file_extension": ".py",
   "mimetype": "text/x-python",
   "name": "python",
   "nbconvert_exporter": "python",
   "pygments_lexer": "ipython3",
   "version": "3.8.8"
  }
 },
 "nbformat": 4,
 "nbformat_minor": 5
}
