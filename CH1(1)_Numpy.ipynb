{
  "cells": [
    {
      "cell_type": "markdown",
      "metadata": {
        "id": "view-in-github",
        "colab_type": "text"
      },
      "source": [
        "<a href=\"https://colab.research.google.com/github/Jieun1124/ESSA/blob/main/HW1_Numpy.ipynb\" target=\"_parent\"><img src=\"https://colab.research.google.com/assets/colab-badge.svg\" alt=\"Open In Colab\"/></a>"
      ]
    },
    {
      "cell_type": "markdown",
      "id": "fc4bfef0",
      "metadata": {
        "id": "fc4bfef0"
      },
      "source": [
        "# 03 Numpy\n",
        "------\n",
        "\n",
        "\n",
        "\n",
        " ## [1] 넘파이 ndarray 개요\n",
        " \n",
        "\n",
        "\n",
        "\n",
        "* **넘파이 모듈을 임포트 하기**\n",
        "\n"
      ]
    },
    {
      "cell_type": "code",
      "execution_count": 2,
      "id": "1422a589",
      "metadata": {
        "id": "1422a589"
      },
      "outputs": [],
      "source": [
        "import numpy as np"
      ]
    },
    {
      "cell_type": "markdown",
      "id": "dd883540",
      "metadata": {
        "id": "dd883540"
      },
      "source": [
        "넘파이의 기반 데이터 타입은 ndarray이다. ndarray를 이용해 넘파이에서 다차원 배열을 쉽게 생성하고 연산을 수행할 수 있다.  \n",
        "\n",
        "넘파이 array() 함수는 파이썬의 리스트와 같은 다양한 인자를 입력 받아서 ndarray로 변환하는 기능을 수행한다."
      ]
    },
    {
      "cell_type": "markdown",
      "id": "c1310c33",
      "metadata": {
        "id": "c1310c33"
      },
      "source": [
        "* 생성된 ndarray 배열의 shape 변수는 ndarray의 \n",
        "크기, 즉 행과 열의 수를 튜플 형태로 가지고 있으며 이를 통해 ndarray 배열의 차원까지 알 수 있다."
      ]
    },
    {
      "cell_type": "code",
      "execution_count": 3,
      "id": "096d1866",
      "metadata": {
        "colab": {
          "base_uri": "https://localhost:8080/"
        },
        "id": "096d1866",
        "outputId": "83961467-a23c-4159-ad94-19561b6f84ba"
      },
      "outputs": [
        {
          "output_type": "stream",
          "name": "stdout",
          "text": [
            "array1 type: <class 'numpy.ndarray'>\n",
            "array1 array 형태: (3,)\n",
            "array2 type: <class 'numpy.ndarray'>\n",
            "array2 array 형태: (2, 3)\n",
            "array3 type: <class 'numpy.ndarray'>\n",
            "array3 array 형태: (1, 3)\n"
          ]
        }
      ],
      "source": [
        "array1 = np.array([1, 2, 3])\n",
        "print('array1 type:', type(array1))\n",
        "print('array1 array 형태:', array1.shape)\n",
        "\n",
        "array2 = np.array([[1, 2, 3],\n",
        "                  [2, 3, 4]])\n",
        "print('array2 type:', type(array2))\n",
        "print('array2 array 형태:', array2.shape)\n",
        "\n",
        "array3 = np.array([[1, 2, 3]])\n",
        "print('array3 type:', type(array3))\n",
        "print('array3 array 형태:', array3.shape)"
      ]
    },
    {
      "cell_type": "markdown",
      "source": [
        "array1은 1차원 array로 3개의 데이터를 가지고 있고, array2는 2차원 array로 2개의 로우와 3개의 칼럼으로 구성된다. array3은 2차원 array로 1개의 로우와 3개의 칼럼로 구성된다. "
      ],
      "metadata": {
        "id": "kRdmabgssypn"
      },
      "id": "kRdmabgssypn"
    },
    {
      "cell_type": "markdown",
      "source": [
        "* 각 array의 차원을 ndarray, ndim을 이용해 확인할 수 있다."
      ],
      "metadata": {
        "id": "mBn4SHSPtjyv"
      },
      "id": "mBn4SHSPtjyv"
    },
    {
      "cell_type": "code",
      "source": [
        "print('array1: {}차원, array2: {}차원, array3: {}차원'.format(array1.ndim, array2.ndim, array3.ndim))"
      ],
      "metadata": {
        "colab": {
          "base_uri": "https://localhost:8080/"
        },
        "id": "BjiNUz52tmkN",
        "outputId": "3ae76b45-9a1f-4173-e792-e59e67f93631"
      },
      "id": "BjiNUz52tmkN",
      "execution_count": 4,
      "outputs": [
        {
          "output_type": "stream",
          "name": "stdout",
          "text": [
            "array1: 1차원, array2: 2차원, array3: 2차원\n"
          ]
        }
      ]
    },
    {
      "cell_type": "markdown",
      "source": [
        "* 리스트 [ ]는 1차원이고, 리스트의 리스트 [ [ ] ]는 2차원과 같은 형태이다.\n"
      ],
      "metadata": {
        "id": "oi839LRLt20g"
      },
      "id": "oi839LRLt20g"
    },
    {
      "cell_type": "markdown",
      "source": [
        "----\n",
        "\n",
        "## [2] ndarray의 데이터 타입 \n",
        "\n",
        "* ndarray내의 데이터 값은 숫자 값, 문자열 값, 불 값 등이 모두 가능하다.  \n",
        "* ndarray내의 데이터 타입은 그 연산의 특성상 같은 데이터 타입만 가능하다.한 개의 ndarray 객체에 int와 float가 함께 있을 수 없다. \n",
        "\n",
        "* ndarray 내의 데이터 타입은 dtype 속성으로 확인할 수 있다."
      ],
      "metadata": {
        "id": "Ckf7Sn5gt99F"
      },
      "id": "Ckf7Sn5gt99F"
    },
    {
      "cell_type": "code",
      "source": [
        "list1 = [1, 2, 3]\n",
        "print(type(list1))\n",
        "\n",
        "array1 = np.array(list1)\n",
        "print(type(array1))\n",
        "\n",
        "print(array1, array1.dtype)"
      ],
      "metadata": {
        "colab": {
          "base_uri": "https://localhost:8080/"
        },
        "id": "3lTvHrOzumUB",
        "outputId": "d8c726c0-e6f5-41c6-e68d-88e5b6437559"
      },
      "id": "3lTvHrOzumUB",
      "execution_count": 5,
      "outputs": [
        {
          "output_type": "stream",
          "name": "stdout",
          "text": [
            "<class 'list'>\n",
            "<class 'numpy.ndarray'>\n",
            "[1 2 3] int64\n"
          ]
        }
      ]
    },
    {
      "cell_type": "markdown",
      "source": [
        "* 만약 다른 데이터 유형이 섞여 있는 리스트를 ndarray로 변경하면 데이터 크기가 더 큰 데이터 타입으로 형 변환을 일괄 적용한다. "
      ],
      "metadata": {
        "id": "tRErLqwDvwE8"
      },
      "id": "tRErLqwDvwE8"
    },
    {
      "cell_type": "code",
      "source": [
        "list2 = [1, 2, 'test']\n",
        "array2 = np.array(list2)\n",
        "print(array2, array2.dtype)\n",
        "\n",
        "list3 = [1, 2, 3.0]\n",
        "array3 = np.array(list3)\n",
        "print(array3, array3.dtype)"
      ],
      "metadata": {
        "colab": {
          "base_uri": "https://localhost:8080/"
        },
        "id": "NSgMEmidv4Z7",
        "outputId": "73f6323c-ca4f-426e-9de3-2eb75f6fb3d6"
      },
      "id": "NSgMEmidv4Z7",
      "execution_count": 6,
      "outputs": [
        {
          "output_type": "stream",
          "name": "stdout",
          "text": [
            "['1' '2' 'test'] <U21\n",
            "[1. 2. 3.] float64\n"
          ]
        }
      ]
    },
    {
      "cell_type": "markdown",
      "source": [
        "int형과 문자열이 섞일 경우 문자열 값을 변환된다. int형과 float형이 섞일 경우 float형으로 변환된다. "
      ],
      "metadata": {
        "id": "DSCKDedKwQfe"
      },
      "id": "DSCKDedKwQfe"
    },
    {
      "cell_type": "markdown",
      "source": [
        "* ndarray 내 데이터값의 타입 변경은 astype() 메서드를 이용해 할 수 있다.  \n",
        "\n",
        "데이터 타입을 변경하는 경우는 대용량 데이터의 ndarray를 만들 때 메모리를 절약해야 할 때 보통 이용된다. "
      ],
      "metadata": {
        "id": "36T8N21awZ9e"
      },
      "id": "36T8N21awZ9e"
    },
    {
      "cell_type": "code",
      "source": [
        "array_float = np.array([1.1, 2.1, 3.1])\n",
        "array_int = array_float.astype('int32')\n",
        "print(array_int, array_int.dtype)"
      ],
      "metadata": {
        "colab": {
          "base_uri": "https://localhost:8080/"
        },
        "id": "jUNQMeKGwtLU",
        "outputId": "278a87ff-5cc6-4994-bed3-ea9440df60f4"
      },
      "id": "jUNQMeKGwtLU",
      "execution_count": 8,
      "outputs": [
        {
          "output_type": "stream",
          "name": "stdout",
          "text": [
            "[1 2 3] int32\n"
          ]
        }
      ]
    },
    {
      "cell_type": "markdown",
      "source": [
        "------------------------------------------\n",
        "\n",
        "## [3] ndarray를 편리하게 생성하기 - arange, zeros, ones \n",
        "\n",
        "특정 크기와 차원을 가진 ndarray를 연속값이나 0또는 1로 초기화해 쉽게 생성해야 할 필요가 있는 경우가 발생할 수 있다. 주로 테스트용 데이터를 만들거나 대규모의 데이터를 일괄적으로 초기화해야 할 경우에 사용된다. \n"
      ],
      "metadata": {
        "id": "mGdSys0wxHuj"
      },
      "id": "mGdSys0wxHuj"
    },
    {
      "cell_type": "markdown",
      "source": [
        "* arange()는 array를 range()로 표현하는 것이다. 0부터 함수 인자 값 -1까지의 값을 순차적으로 ndarray의 데이터값으로 변환해준다."
      ],
      "metadata": {
        "id": "VXDHhc93xhJr"
      },
      "id": "VXDHhc93xhJr"
    },
    {
      "cell_type": "code",
      "source": [
        "sequence_array = np.arange(10)\n",
        "print(sequence_array)"
      ],
      "metadata": {
        "colab": {
          "base_uri": "https://localhost:8080/"
        },
        "id": "NAJmoHFrxvaW",
        "outputId": "c0cdd84e-8a52-46c2-eff4-123517527919"
      },
      "id": "NAJmoHFrxvaW",
      "execution_count": 9,
      "outputs": [
        {
          "output_type": "stream",
          "name": "stdout",
          "text": [
            "[0 1 2 3 4 5 6 7 8 9]\n"
          ]
        }
      ]
    },
    {
      "cell_type": "markdown",
      "source": [
        "default 함수 인자는 stop 값이며, 0부터 stop 값인 10에서 -1을 더한 9까지의 연속 숫자 값으로 구성된 1차원 ndarray를 만들어 준다. start 값도 부여해 0이 아닌 다른 값부터 시작한 연속 값을 부여할 수도 있다.\n"
      ],
      "metadata": {
        "id": "nNSMdyVdx5jv"
      },
      "id": "nNSMdyVdx5jv"
    },
    {
      "cell_type": "markdown",
      "source": [
        "* zeros()는 함수 인자로 튜플 형태의 shape 값을 입력하면 모든 값을 0으로 채운 해당 shape를 가진 ndarray를 반환한다.\n",
        "\n",
        "* ones()는 동일 방식으로 입력하면 모든 값을 1로 채운 해당 shape를 가진 ndarray를 반환한다. \n",
        "\n",
        "* 함수 인자로 dtype을 정해주지 않으면 default로 float64형의 데이터로 ndarray를 채운다."
      ],
      "metadata": {
        "id": "AN0UAQMOysdd"
      },
      "id": "AN0UAQMOysdd"
    },
    {
      "cell_type": "code",
      "source": [
        "zero_array = np.zeros((3,2), dtype='int32')\n",
        "print(zero_array)\n",
        "print(zero_array.dtype, zero_array.shape)\n",
        "\n",
        "one_array = np.ones((3,2))\n",
        "print(one_array)\n",
        "print(one_array.dtype, one_array.shape)"
      ],
      "metadata": {
        "colab": {
          "base_uri": "https://localhost:8080/"
        },
        "id": "xK16uZ2hzCtw",
        "outputId": "132707d7-7ca1-476d-81bb-2206e29d0f9b"
      },
      "id": "xK16uZ2hzCtw",
      "execution_count": 10,
      "outputs": [
        {
          "output_type": "stream",
          "name": "stdout",
          "text": [
            "[[0 0]\n",
            " [0 0]\n",
            " [0 0]]\n",
            "int32 (3, 2)\n",
            "[[1. 1.]\n",
            " [1. 1.]\n",
            " [1. 1.]]\n",
            "float64 (3, 2)\n"
          ]
        }
      ]
    },
    {
      "cell_type": "markdown",
      "source": [
        "------------------------------------------\n",
        "\n",
        "## [4] ndarray의 차원과 크기를 변경하는 reshape()\n",
        "\n",
        "* reshape() 메서드는 ndarray를 특정 차원 및 크기로 변환한다.  \n",
        "\n",
        "변환을 원하는 크기를 함수 인자로 부여하면 된다. "
      ],
      "metadata": {
        "id": "a0hoz39x0Mlp"
      },
      "id": "a0hoz39x0Mlp"
    },
    {
      "cell_type": "code",
      "source": [
        "array1 = np.arange(10)\n",
        "print('array1:\\n', array1)\n",
        "\n",
        "array2 = array1.reshape(2, 5)\n",
        "print('array2:\\n', array2)\n",
        "\n",
        "array3 = array1.reshape(5, 2)\n",
        "print('array3:\\n', array3)"
      ],
      "metadata": {
        "colab": {
          "base_uri": "https://localhost:8080/"
        },
        "id": "tMHkytaj1nxh",
        "outputId": "6fdeb538-f110-49b7-d1d4-94e59141989e"
      },
      "id": "tMHkytaj1nxh",
      "execution_count": 15,
      "outputs": [
        {
          "output_type": "stream",
          "name": "stdout",
          "text": [
            "array1:\n",
            " [0 1 2 3 4 5 6 7 8 9]\n",
            "array2:\n",
            " [[0 1 2 3 4]\n",
            " [5 6 7 8 9]]\n",
            "array3:\n",
            " [[0 1]\n",
            " [2 3]\n",
            " [4 5]\n",
            " [6 7]\n",
            " [8 9]]\n"
          ]
        }
      ]
    },
    {
      "cell_type": "markdown",
      "source": [
        "* reshape()를 실전에서 더욱 효율적으로 사용하는 경우는 인자로 -1을 적용하는 경우이다.  \n",
        "\n",
        "-1을 인자로 사용하면 원래 ndarray와 호환되는 새로운 shape로 변환해준다."
      ],
      "metadata": {
        "id": "ktc7nhGI3SW8"
      },
      "id": "ktc7nhGI3SW8"
    },
    {
      "cell_type": "code",
      "source": [
        "array1 = np.arange(10)\n",
        "print(array1)\n",
        "array2 = array1. reshape(-1,5)\n",
        "print('array2 shape:', array2.shape)\n",
        "array3 = array1.reshape(5, -1)\n",
        "print('array3 shape:', array3.shape)"
      ],
      "metadata": {
        "colab": {
          "base_uri": "https://localhost:8080/"
        },
        "id": "BIdJzNc63cQp",
        "outputId": "ba2c3145-ca63-4093-9ab6-68e89052e301"
      },
      "id": "BIdJzNc63cQp",
      "execution_count": 16,
      "outputs": [
        {
          "output_type": "stream",
          "name": "stdout",
          "text": [
            "[0 1 2 3 4 5 6 7 8 9]\n",
            "array2 shape: (2, 5)\n",
            "array3 shape: (5, 2)\n"
          ]
        }
      ]
    },
    {
      "cell_type": "markdown",
      "source": [
        "-1 인자는 reshape(-1,1)와 같은 형태로 자주 사용된다. reshape(-1,1)은 원본 ndarray가 어떤 형태라도 2차원이고, 여러 개의 row를 가지되 반드시 1개의 칼럼을 가진 ndarray로 변환됨을 보장한다.  \n",
        "\n",
        "여러 개의 넘파이 ndarray는 stack이나 concat으로 결합할 때 각각의 ndarray의 형태를 통일해 유용하게 사용된다. \n"
      ],
      "metadata": {
        "id": "LtnDZe1F39Tf"
      },
      "id": "LtnDZe1F39Tf"
    },
    {
      "cell_type": "code",
      "source": [
        "array1 = np.arange(8)\n",
        "array3d = array1.reshape((2, 2, 2))\n",
        "print('array3d:\\n', array3d.tolist())\n",
        "\n",
        "# 3차원 ndarray를 2차원 ndarray로 변환\n",
        "array5 = array3d.reshape(-1, 1)\n",
        "print('array5:\\n', array5.tolist())\n",
        "\n",
        "# 1차원 ndarray를 2차원 ndarray로 변환\n",
        "array6 = array1.reshape(-1, 1)\n",
        "print('array6:\\n', array6.tolist())"
      ],
      "metadata": {
        "colab": {
          "base_uri": "https://localhost:8080/"
        },
        "id": "5uhjOIKo57t8",
        "outputId": "810f50c1-533d-4784-bacd-334a438a2673"
      },
      "id": "5uhjOIKo57t8",
      "execution_count": 25,
      "outputs": [
        {
          "output_type": "stream",
          "name": "stdout",
          "text": [
            "array3d:\n",
            " [[[0, 1], [2, 3]], [[4, 5], [6, 7]]]\n",
            "array5:\n",
            " [[0], [1], [2], [3], [4], [5], [6], [7]]\n",
            "array6:\n",
            " [[0], [1], [2], [3], [4], [5], [6], [7]]\n"
          ]
        }
      ]
    },
    {
      "cell_type": "markdown",
      "source": [
        "------------------------------------------\n",
        "\n",
        "## [5] 넘파이의 ndarray의 데이터 세트 선택하기 - 인덱싱(indexing)\n",
        "\n",
        "\n",
        "1. 특정 데이터만 추출\n",
        "2. 슬라이싱(Slicing): 연속된 인덱스상의 ndarray를 추출하는 방식\n",
        "3. 팬시 인덱싱(Fancy Indexing): 일정한 인덱싱 집합을 리스트 또는 ndarray 형태로 지정해 해당 위치에 있는 데이터의 ndarray를 반환한다.\n",
        "4. 불린 인덱싱(Boolean Indexing): 특정 조건에 해당하는지 여부인 True/False 값 인덱싱 집합을 기반으로 True에 해당하는 인덱스 위치에 있는 데이터의 ndarray를 반환한다. "
      ],
      "metadata": {
        "id": "wL-gCIVL7Rz9"
      },
      "id": "wL-gCIVL7Rz9"
    },
    {
      "cell_type": "markdown",
      "source": [
        "\n",
        "> 단일 값 추출\n",
        "\n",
        "\n",
        "\n",
        "한 개의 데이터만을 추출하는 방법.  \n",
        "* 인덱스 -1은 맨 뒤의 데이터값을 의미한다. -2는 맨 뒤에서 두 번째에 있는 데이터값이다.\n"
      ],
      "metadata": {
        "id": "uG_PBsNd7cbK"
      },
      "id": "uG_PBsNd7cbK"
    },
    {
      "cell_type": "code",
      "source": [
        "array1 = np.arange(start=1, stop=10)\n",
        "print('array1:', array1)\n",
        "\n",
        "array1[2]\n",
        "array1[-1]"
      ],
      "metadata": {
        "colab": {
          "base_uri": "https://localhost:8080/"
        },
        "id": "fJhvElVC8FDv",
        "outputId": "d8194f01-d93f-422b-cd3c-a53daa9efd63"
      },
      "id": "fJhvElVC8FDv",
      "execution_count": 28,
      "outputs": [
        {
          "output_type": "stream",
          "name": "stdout",
          "text": [
            "array1: [1 2 3 4 5 6 7 8 9]\n"
          ]
        },
        {
          "output_type": "execute_result",
          "data": {
            "text/plain": [
              "9"
            ]
          },
          "metadata": {},
          "execution_count": 28
        }
      ]
    },
    {
      "cell_type": "markdown",
      "source": [
        "* ndarray 내의 데이터값도 간단히 수정 가능하다."
      ],
      "metadata": {
        "id": "mwMnYVUk80_L"
      },
      "id": "mwMnYVUk80_L"
    },
    {
      "cell_type": "code",
      "source": [
        "array1[0] = 9\n",
        "array1[8] = 0\n",
        "print(array1)"
      ],
      "metadata": {
        "colab": {
          "base_uri": "https://localhost:8080/"
        },
        "id": "riKzQrOK84_7",
        "outputId": "18e561e6-2ab4-4d27-c663-50ed1b7801bf"
      },
      "id": "riKzQrOK84_7",
      "execution_count": 29,
      "outputs": [
        {
          "output_type": "execute_result",
          "data": {
            "text/plain": [
              "array([9, 2, 3, 4, 5, 6, 7, 8, 0])"
            ]
          },
          "metadata": {},
          "execution_count": 29
        }
      ]
    },
    {
      "cell_type": "markdown",
      "source": [
        "* 다차원 ndarray에서 단일 값을 추출해보기. "
      ],
      "metadata": {
        "id": "k_rhmqPz9eQe"
      },
      "id": "k_rhmqPz9eQe"
    },
    {
      "cell_type": "code",
      "source": [
        "# 1차원의 ndarray를 2차원의 3x3 ndarray로 변환하기 \n",
        "array1d = np.arange(start=1, stop=10)\n",
        "array2d = array1d.reshape(3, 3)\n",
        "print(array2d)\n",
        "\n",
        "print(array2d[0, 0])\n",
        "print(array2d[0, 1])\n",
        "print(array2d[1, 0])\n",
        "print(array2d[2, 2])"
      ],
      "metadata": {
        "colab": {
          "base_uri": "https://localhost:8080/"
        },
        "id": "85c8QjiP9xks",
        "outputId": "8de67826-1d07-42c5-b31d-f832489695ba"
      },
      "id": "85c8QjiP9xks",
      "execution_count": 36,
      "outputs": [
        {
          "output_type": "stream",
          "name": "stdout",
          "text": [
            "[[1 2 3]\n",
            " [4 5 6]\n",
            " [7 8 9]]\n",
            "1\n",
            "2\n",
            "4\n",
            "9\n"
          ]
        }
      ]
    },
    {
      "cell_type": "markdown",
      "source": [
        "* axis 0은 로우 방향의 축, axis 1은 칼럼 방향의 축을 의미한다.  \n",
        "[row=0, col=1] 인덱싱은 [axis 0=0, axis 1=1]이 정확한 표현이다. 2차원이므로 axis 0, axis 1로 구분되며, 3차원 ndarray의 경우 axis 0, axis 1, axis 2로 3개의 축을 가지게 된다(행, 열, 높이로 이해하면 됨). 넘파이의 다차원 ndarray는 axis 구분을 가진다. \n",
        "\n",
        "* 다차원 ndarray의 경우 축(axis)에 따른 연산을 지원한다. 축 기반의 연산에서 axis가 생략되면 axis 0을 의미한다."
      ],
      "metadata": {
        "id": "4DIxA9BdHQzl"
      },
      "id": "4DIxA9BdHQzl"
    },
    {
      "cell_type": "markdown",
      "source": [
        "\n",
        "\n",
        "> 슬라이싱\n",
        "\n",
        "':' 기호를 이용해 연속한 데이터를 슬라이싱해서 추출할 수 있다. \n"
      ],
      "metadata": {
        "id": "onBCGzcpIQ0e"
      },
      "id": "onBCGzcpIQ0e"
    },
    {
      "cell_type": "code",
      "source": [
        "array1 = np.arange(start=1, stop=10)\n",
        "print(array1)\n",
        "array3 = array1[0:3]\n",
        "print(array3)"
      ],
      "metadata": {
        "colab": {
          "base_uri": "https://localhost:8080/"
        },
        "id": "AyC170FLIYTD",
        "outputId": "6b6f7463-7cea-4890-fb74-19209f90cc3c"
      },
      "id": "AyC170FLIYTD",
      "execution_count": 39,
      "outputs": [
        {
          "output_type": "stream",
          "name": "stdout",
          "text": [
            "[1 2 3 4 5 6 7 8 9]\n",
            "[1 2 3]\n"
          ]
        }
      ]
    },
    {
      "cell_type": "markdown",
      "source": [
        "1. ':'기호 앞에 시작 인덱스를 생략하면 자동으로 맨 처음 인덱스인 0으로 간주한다. \n",
        "2. ':'기호 뒤에 종료 인덱스를 생략하면 자동으로 맨 마지막 인덱스로 간주한다.\n",
        "3. ':'기호 앞/뒤에 시작/종료 인덱스를 생략하면 자동으로 맨 처음/맨 마지막 인덱스로 간주한다. \n"
      ],
      "metadata": {
        "id": "VCstyuC_ItCo"
      },
      "id": "VCstyuC_ItCo"
    },
    {
      "cell_type": "code",
      "source": [
        "array1 = np.arange(1,10)\n",
        "print(array1)\n",
        "\n",
        "array4 = array1[1:3]\n",
        "print(array4)\n",
        "\n",
        "array5 = array1[3:]\n",
        "print(array5)\n",
        "\n",
        "array6 = array1[:]\n",
        "print(array6)"
      ],
      "metadata": {
        "colab": {
          "base_uri": "https://localhost:8080/"
        },
        "id": "axuEta8SL1tw",
        "outputId": "baf0184a-a60e-4231-8a11-52fa2f111da4"
      },
      "id": "axuEta8SL1tw",
      "execution_count": 42,
      "outputs": [
        {
          "output_type": "stream",
          "name": "stdout",
          "text": [
            "[1 2 3 4 5 6 7 8 9]\n",
            "[2 3]\n",
            "[4 5 6 7 8 9]\n",
            "[1 2 3 4 5 6 7 8 9]\n"
          ]
        }
      ]
    },
    {
      "cell_type": "markdown",
      "source": [
        "* 2차원 ndarray에서 슬라이싱하기 - 콤마(,)로 로우와 칼럼 인덱스를 지칭하는 부분만 다르다. "
      ],
      "metadata": {
        "id": "Roms0I1jMeXE"
      },
      "id": "Roms0I1jMeXE"
    },
    {
      "cell_type": "code",
      "source": [
        "array1d = np.arange(1,10)\n",
        "array2d = array1d.reshape(3, 3)\n",
        "print(array2d)\n",
        "\n",
        "print(array2d[0:2, 0:2]); print()\n",
        "print(array2d[1:3, 0:3]); print()\n",
        "print(array2d[1:3, :]); print()\n",
        "print(array2d[:, :]); print()\n",
        "print(array2d[:2, 1:]); print()\n",
        "print(array2d[:2, 0])"
      ],
      "metadata": {
        "colab": {
          "base_uri": "https://localhost:8080/"
        },
        "id": "kJlGtrASMnJ0",
        "outputId": "e039e6e0-107d-44ea-d42d-b9337c45487e"
      },
      "id": "kJlGtrASMnJ0",
      "execution_count": 48,
      "outputs": [
        {
          "output_type": "stream",
          "name": "stdout",
          "text": [
            "[[1 2 3]\n",
            " [4 5 6]\n",
            " [7 8 9]]\n",
            "[[1 2]\n",
            " [4 5]]\n",
            "\n",
            "[[4 5 6]\n",
            " [7 8 9]]\n",
            "\n",
            "[[4 5 6]\n",
            " [7 8 9]]\n",
            "\n",
            "[[1 2 3]\n",
            " [4 5 6]\n",
            " [7 8 9]]\n",
            "\n",
            "[[2 3]\n",
            " [5 6]]\n",
            "\n",
            "[1 4]\n"
          ]
        }
      ]
    },
    {
      "cell_type": "markdown",
      "source": [
        "* 2차원 ndarray에서 뒤에 오는 인덱스를 없애면 1차원 ndarray를 반환한다. 3차원 ndarray에서 뒤에 오는 인덱스를 없애면 2차원 ndarray를 반환한다."
      ],
      "metadata": {
        "id": "TVJDHLpvNyfw"
      },
      "id": "TVJDHLpvNyfw"
    },
    {
      "cell_type": "code",
      "source": [
        "print(array2d[0]); print()\n",
        "print(array2d[1])"
      ],
      "metadata": {
        "colab": {
          "base_uri": "https://localhost:8080/"
        },
        "id": "q1B1hszdN9ee",
        "outputId": "ab6681dd-509f-4059-8bca-55a961ec4add"
      },
      "id": "q1B1hszdN9ee",
      "execution_count": 50,
      "outputs": [
        {
          "output_type": "stream",
          "name": "stdout",
          "text": [
            "[1 2 3]\n",
            "\n",
            "[4 5 6]\n"
          ]
        }
      ]
    },
    {
      "cell_type": "markdown",
      "source": [
        "\n",
        "\n",
        "> 팬시 인덱싱\n",
        "\n",
        "리스트나 ndarray로 인덱스 집합을 지정하면 해당 위치의 인덱스에 해당하는 ndarray를 반환하는 인덱싱 방식이다. \n",
        "\n"
      ],
      "metadata": {
        "id": "LY7nZEFlOHip"
      },
      "id": "LY7nZEFlOHip"
    },
    {
      "cell_type": "code",
      "source": [
        "array1d = np.arange(1, 10)\n",
        "array2d = array1d.reshape(3, 3)\n",
        "print(array2d); print()\n",
        "\n",
        "array3 = array2d[[0, 1], 2]\n",
        "print(array3); print()\n",
        "\n",
        "array4 = array2d[[0, 1], 0:2]\n",
        "print(array4); print()\n",
        "\n",
        "array5 = array2d[[0, 1]]\n",
        "print(array5)"
      ],
      "metadata": {
        "colab": {
          "base_uri": "https://localhost:8080/"
        },
        "id": "nxP1iYYiPH6y",
        "outputId": "b77da011-7957-4fac-fc95-d7d903e0f048"
      },
      "id": "nxP1iYYiPH6y",
      "execution_count": 56,
      "outputs": [
        {
          "output_type": "stream",
          "name": "stdout",
          "text": [
            "[[1 2 3]\n",
            " [4 5 6]\n",
            " [7 8 9]]\n",
            "\n",
            "[3 6]\n",
            "\n",
            "[[1 2]\n",
            " [4 5]]\n",
            "\n",
            "[[1 2 3]\n",
            " [4 5 6]]\n"
          ]
        }
      ]
    },
    {
      "cell_type": "markdown",
      "source": [
        "\n",
        "\n",
        "> 불린 인덱싱\n",
        "\n",
        "조건 필터링과 검색을 동시에 할 수 있는 인덱싱 방식. ndarray의 인덱스를 지정하는 [ ] 내에 조건문을 그대로 기재하면 된다.\n",
        "\n"
      ],
      "metadata": {
        "id": "uYIxuK3bQMiR"
      },
      "id": "uYIxuK3bQMiR"
    },
    {
      "cell_type": "code",
      "source": [
        "array1d = np.arange(1,10)\n",
        "array3 = array1d[array1d > 5] # True 값이 있는 인덱스 위치의 데이터만 반환함\n",
        "print(array3)"
      ],
      "metadata": {
        "colab": {
          "base_uri": "https://localhost:8080/"
        },
        "id": "uZ2xcz6FQdrJ",
        "outputId": "a64957b0-9588-4241-c2b0-39fc46cf4f9e"
      },
      "id": "uZ2xcz6FQdrJ",
      "execution_count": 58,
      "outputs": [
        {
          "output_type": "stream",
          "name": "stdout",
          "text": [
            "[6 7 8 9]\n"
          ]
        }
      ]
    },
    {
      "cell_type": "markdown",
      "source": [
        "다음과 같이 불린 집합을 만들어 대입한 것과 동일하다."
      ],
      "metadata": {
        "id": "rfW4luatREpL"
      },
      "id": "rfW4luatREpL"
    },
    {
      "cell_type": "code",
      "source": [
        "boolean_indexes = np.array([False, False, False, False, False, True, True, True, True])\n",
        "array3 = array1d[boolean_indexes]\n",
        "print(array3)"
      ],
      "metadata": {
        "colab": {
          "base_uri": "https://localhost:8080/"
        },
        "id": "E0cP3tXGQzxc",
        "outputId": "d8c9953a-02eb-4185-c25b-049f72986ef5"
      },
      "id": "E0cP3tXGQzxc",
      "execution_count": 59,
      "outputs": [
        {
          "output_type": "stream",
          "name": "stdout",
          "text": [
            "[6 7 8 9]\n"
          ]
        }
      ]
    },
    {
      "cell_type": "markdown",
      "source": [
        "------------------------------------------\n",
        "\n",
        "## [6] 행렬의 정렬 - sort()와 argsort() "
      ],
      "metadata": {
        "id": "E8qE-fkJRYi5"
      },
      "id": "E8qE-fkJRYi5"
    },
    {
      "cell_type": "markdown",
      "source": [
        "\n",
        "\n",
        "\n",
        "\n",
        "> 행렬 정렬 \n",
        "\n",
        "* 넘파이의 행렬 정렬은 np.sort()의 경우 원 행렬은 그대로 유지한 채 원 행렬의 정렬된 행렬을 반환한다.  \n",
        "\n",
        "* ndarray.sort()는 원 행렬 자체를 정렬한 형태로 변환하며 반환 값은 None이다. \n",
        "\n",
        "\n"
      ],
      "metadata": {
        "id": "NPot8iqHRmZW"
      },
      "id": "NPot8iqHRmZW"
    },
    {
      "cell_type": "code",
      "source": [
        "org_array = np.array([3, 1, 9, 5])\n",
        "# np.sort()로 정렬\n",
        "sort_array1 = np.sort(org_array)\n",
        "print(sort_array1); print(org_array); print()\n",
        "# ndarray.sort()로 정렬\n",
        "sort_array2 = org_array.sort()\n",
        "print(sort_array2); print(org_array)"
      ],
      "metadata": {
        "colab": {
          "base_uri": "https://localhost:8080/"
        },
        "id": "xHbyE-_wSBpb",
        "outputId": "d6b4a8b4-e159-4b94-b0cf-d87ce4783ae3"
      },
      "id": "xHbyE-_wSBpb",
      "execution_count": 65,
      "outputs": [
        {
          "output_type": "stream",
          "name": "stdout",
          "text": [
            "[1 3 5 9]\n",
            "[3 1 9 5]\n",
            "\n",
            "None\n",
            "[1 3 5 9]\n"
          ]
        }
      ]
    },
    {
      "cell_type": "markdown",
      "source": [
        "두 방식 보두 기본적으로 오름차순으로 행렬 내 원소를 정렬한다.  \n",
        "\n",
        "* 내림차순으로 정렬하기 위해서는 [::-1]을 적용한다."
      ],
      "metadata": {
        "id": "3ta3F9B3SqTP"
      },
      "id": "3ta3F9B3SqTP"
    },
    {
      "cell_type": "code",
      "source": [
        "sort_array1_desc = np.sort(org_array)[::-1]\n",
        "print(sort_array1_desc)"
      ],
      "metadata": {
        "colab": {
          "base_uri": "https://localhost:8080/"
        },
        "id": "mUlZeZl-Sx6v",
        "outputId": "b4f3c96f-b1ca-47ca-b53b-de9d84f80493"
      },
      "id": "mUlZeZl-Sx6v",
      "execution_count": 66,
      "outputs": [
        {
          "output_type": "stream",
          "name": "stdout",
          "text": [
            "[9 5 3 1]\n"
          ]
        }
      ]
    },
    {
      "cell_type": "markdown",
      "source": [
        "* 행렬이 2차원 이상일 경우 axis 축 값 설정을 통해 로우 방향, 또는 칼럼 방향으로 정렬을 수행할 수 있다."
      ],
      "metadata": {
        "id": "zn0Fyj93S5iM"
      },
      "id": "zn0Fyj93S5iM"
    },
    {
      "cell_type": "markdown",
      "source": [
        "![axis그림.PNG](data:image/png;base64,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)"
      ],
      "metadata": {
        "id": "cUctpydYTZZp"
      },
      "id": "cUctpydYTZZp"
    },
    {
      "cell_type": "code",
      "source": [
        "array2d = np.array([[8, 12],\n",
        "                    [7, 1]])\n",
        "sort_array2d_axis0 = np.sort(array2d, axis=0)\n",
        "print(sort_array2d_axis0); print()\n",
        "\n",
        "sort_array2d_axis1 = np.sort(array2d, axis=1)\n",
        "print(sort_array2d_axis1)"
      ],
      "metadata": {
        "colab": {
          "base_uri": "https://localhost:8080/"
        },
        "id": "IDBEK6jYTeLU",
        "outputId": "90949d9c-9179-452e-fbf4-fa12b02807b5"
      },
      "id": "IDBEK6jYTeLU",
      "execution_count": 71,
      "outputs": [
        {
          "output_type": "stream",
          "name": "stdout",
          "text": [
            "[[ 7  1]\n",
            " [ 8 12]]\n",
            "\n",
            "[[ 8 12]\n",
            " [ 1  7]]\n"
          ]
        }
      ]
    },
    {
      "cell_type": "markdown",
      "source": [
        "\n",
        "\n",
        "> 정렬된 행렬의 인덱스를 반환하기\n",
        "\n",
        "* np.argsort()는 정렬 행렬의 원본 행렬 인덱스를 ndarray 형으로 반환한다. \n"
      ],
      "metadata": {
        "id": "XX2MejRbUVjU"
      },
      "id": "XX2MejRbUVjU"
    },
    {
      "cell_type": "code",
      "source": [
        "org_array = np.array([3, 1, 9, 5])\n",
        "sort_indices = np.argsort(org_array)\n",
        "print(sort_indices)"
      ],
      "metadata": {
        "colab": {
          "base_uri": "https://localhost:8080/"
        },
        "id": "jua60Dx9UhQd",
        "outputId": "cf942a7d-9f24-4698-8d0e-4c27aab7163c"
      },
      "id": "jua60Dx9UhQd",
      "execution_count": 72,
      "outputs": [
        {
          "output_type": "stream",
          "name": "stdout",
          "text": [
            "[1 0 3 2]\n"
          ]
        }
      ]
    },
    {
      "cell_type": "markdown",
      "source": [
        "\n",
        "* 내림차순으로 정렬 시에 원본 행렬의 인덱스를 구하려면 np.argsort()[::-1]을 적용하면 된다.\n"
      ],
      "metadata": {
        "id": "xg5pXqNnUuL3"
      },
      "id": "xg5pXqNnUuL3"
    },
    {
      "cell_type": "code",
      "source": [
        "org_array = np.array([3, 1, 9, 5])\n",
        "sort_indices_desc = np.argsort(org_array)[::-1]\n",
        "print(sort_indices_desc)"
      ],
      "metadata": {
        "colab": {
          "base_uri": "https://localhost:8080/"
        },
        "id": "SRVGgxS1U8Id",
        "outputId": "e2c98ade-cb79-4b7a-f2fa-db3bccc00e87"
      },
      "id": "SRVGgxS1U8Id",
      "execution_count": 73,
      "outputs": [
        {
          "output_type": "stream",
          "name": "stdout",
          "text": [
            "[2 3 0 1]\n"
          ]
        }
      ]
    },
    {
      "cell_type": "markdown",
      "source": [
        "argsort()는 넘파이의 데이터 추출에서 많이 사용된다.\n"
      ],
      "metadata": {
        "id": "sBzyVRaNVrOH"
      },
      "id": "sBzyVRaNVrOH"
    },
    {
      "cell_type": "code",
      "source": [
        "import numpy as np\n",
        "\n",
        "name_array = np.array(['John', 'Mike', 'Sarah', 'Kate', 'Samuel'])\n",
        "score_array = np.array([78, 95, 84, 98, 88])\n",
        "\n",
        "sort_indices_asc = np.argsort(score_array)\n",
        "print('성적 오름차순 정렬 시 score_array의 인덱스:', sort_indices_asc)\n",
        "print('성적 오름차순 name_array의 이름 출력:', name_array[sort_indices_asc])"
      ],
      "metadata": {
        "colab": {
          "base_uri": "https://localhost:8080/"
        },
        "id": "XjS-VZpBVo9m",
        "outputId": "1715d524-f0f1-4712-bd6c-5e33aa441fc3"
      },
      "id": "XjS-VZpBVo9m",
      "execution_count": 74,
      "outputs": [
        {
          "output_type": "stream",
          "name": "stdout",
          "text": [
            "성적 오름차순 정렬 시 score_array의 인덱스: [0 2 4 1 3]\n",
            "성적 오름차순 name_array의 이름 출력: ['John' 'Sarah' 'Samuel' 'Mike' 'Kate']\n"
          ]
        }
      ]
    },
    {
      "cell_type": "markdown",
      "source": [
        "------------------------------------------\n",
        "\n",
        "## [7] 선형대수 연산 - 행렬 내적과 전치 행렬 구하기"
      ],
      "metadata": {
        "id": "tJkl5unFWL-l"
      },
      "id": "tJkl5unFWL-l"
    },
    {
      "cell_type": "markdown",
      "source": [
        "\n",
        "\n",
        "> 행렬 내적(행렬 곱)\n",
        "\n",
        "* 행렬 내적은 행렬 곱이며, 두 행렬 A와 B의 내적은 np.dot()을 이용해 계산이 가능하다.\n",
        "\n",
        "* 왼쪽 행렬의 열 개수와 오른쪽 행렬의 행 개수가 동일해야 내적 연산이 가능하다.\n",
        "\n"
      ],
      "metadata": {
        "id": "TNl-LdEJWRVD"
      },
      "id": "TNl-LdEJWRVD"
    },
    {
      "cell_type": "code",
      "source": [
        "A = np.array([ [1, 2, 3],\n",
        "               [4, 5, 6]])\n",
        "B = np.array([ [7, 8],\n",
        "               [9, 10],\n",
        "               [11, 12]])\n",
        "dot_product = np.dot(A, B)\n",
        "print(dot_product)"
      ],
      "metadata": {
        "colab": {
          "base_uri": "https://localhost:8080/"
        },
        "id": "oR90MEwMWnrF",
        "outputId": "22a7559d-4c3a-4c5d-feab-5142650cdb51"
      },
      "id": "oR90MEwMWnrF",
      "execution_count": 76,
      "outputs": [
        {
          "output_type": "stream",
          "name": "stdout",
          "text": [
            "[[ 58  64]\n",
            " [139 154]]\n"
          ]
        }
      ]
    },
    {
      "cell_type": "markdown",
      "source": [
        "\n",
        "\n",
        "> 전치 행렬\n",
        "\n",
        "* 원 행렬에서 행과 열 위치를 교환한 원소로 구성한 행렬을 그 행렬의 전치 행렬이라고 한다. \n",
        "\n",
        "* 넘파이의 transpose()를 이용해 전치 행렬을 구할 수 있다.\n",
        "\n"
      ],
      "metadata": {
        "id": "vzzrgocfW3I8"
      },
      "id": "vzzrgocfW3I8"
    },
    {
      "cell_type": "code",
      "source": [
        "from numpy.core.fromnumeric import transpose\n",
        "A = np.array([ [1, 2],\n",
        "               [3, 4]])\n",
        "transpose_mat = np.transpose(A)\n",
        "print(transpose_mat)"
      ],
      "metadata": {
        "colab": {
          "base_uri": "https://localhost:8080/"
        },
        "id": "b8G1DHPiXEG6",
        "outputId": "dc4712d7-7ab9-439b-f68b-3c57a9f6cfda"
      },
      "id": "b8G1DHPiXEG6",
      "execution_count": 77,
      "outputs": [
        {
          "output_type": "stream",
          "name": "stdout",
          "text": [
            "[[1 3]\n",
            " [2 4]]\n"
          ]
        }
      ]
    }
  ],
  "metadata": {
    "kernelspec": {
      "display_name": "Python 3",
      "language": "python",
      "name": "python3"
    },
    "language_info": {
      "codemirror_mode": {
        "name": "ipython",
        "version": 3
      },
      "file_extension": ".py",
      "mimetype": "text/x-python",
      "name": "python",
      "nbconvert_exporter": "python",
      "pygments_lexer": "ipython3",
      "version": "3.8.8"
    },
    "colab": {
      "name": "HW1_Numpy.ipynb",
      "provenance": [],
      "collapsed_sections": [],
      "include_colab_link": true
    }
  },
  "nbformat": 4,
  "nbformat_minor": 5
}
